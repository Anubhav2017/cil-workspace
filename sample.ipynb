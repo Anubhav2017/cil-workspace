{
 "cells": [
  {
   "cell_type": "code",
   "execution_count": 9,
   "metadata": {},
   "outputs": [
    {
     "name": "stdout",
     "output_type": "stream",
     "text": [
      "range(0, 10, 5)\n"
     ]
    }
   ],
   "source": [
    "x= range(0,10,5)\n",
    "print(x)"
   ]
  },
  {
   "cell_type": "code",
   "execution_count": 10,
   "metadata": {},
   "outputs": [
    {
     "name": "stdout",
     "output_type": "stream",
     "text": [
      "0\n",
      "5\n"
     ]
    }
   ],
   "source": [
    "for el in x:\n",
    "    print(el)"
   ]
  }
 ],
 "metadata": {
  "interpreter": {
   "hash": "a89f9e4a30443441f0bd08c7eea015ea5c6a49a84549fe66d813727ae1694eab"
  },
  "kernelspec": {
   "display_name": "Python 3.8.12 ('ENV38')",
   "language": "python",
   "name": "python3"
  },
  "language_info": {
   "codemirror_mode": {
    "name": "ipython",
    "version": 3
   },
   "file_extension": ".py",
   "mimetype": "text/x-python",
   "name": "python",
   "nbconvert_exporter": "python",
   "pygments_lexer": "ipython3",
   "version": "3.8.12"
  },
  "orig_nbformat": 4
 },
 "nbformat": 4,
 "nbformat_minor": 2
}
