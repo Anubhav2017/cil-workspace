{
 "cells": [
  {
   "cell_type": "code",
   "execution_count": 2,
   "metadata": {},
   "outputs": [],
   "source": [
    "from model import Model\n",
    "import torch\n",
    "torch.backends.cudnn.benchmark=True\n",
    "import torch.nn as nn\n",
    "import torchvision.datasets as dsets\n",
    "import torchvision.models as models\n",
    "import torchvision.transforms as transforms\n",
    "from torch.autograd import Variable\n",
    "import torch.optim as optim\n",
    "import torch.nn.functional as F\n",
    "import argparse\n",
    "import time\n",
    "import numpy as np\n",
    "import subprocess\n",
    "from numpy import random\n",
    "import copy\n",
    "device=\"cpu\"\n",
    "from tqdm import tqdm\n",
    "\n",
    "# import matplotlib.pyplot as plt\n",
    "from data_loader import genomics_data"
   ]
  },
  {
   "cell_type": "code",
   "execution_count": 3,
   "metadata": {},
   "outputs": [],
   "source": [
    "def kaiming_normal_init(m):\n",
    "\tif isinstance(m, nn.Conv2d):\n",
    "\t\tnn.init.kaiming_normal_(m.weight, nonlinearity='relu')\n",
    "\telif isinstance(m, nn.Linear):\n",
    "\t\tnn.init.kaiming_normal_(m.weight, nonlinearity='sigmoid')\n",
    "\n",
    "\n",
    "class Model(nn.Module):\n",
    "\tdef __init__(self, classes):\n",
    "\t\t# Hyper Parameters\n",
    "\t\tself.init_lr = 0.1\n",
    "\t\tself.num_epochs = 40\n",
    "\t\tself.batch_size = 48\n",
    "\t\t\n",
    "\t\tself.pretrained = False\n",
    "\t\tself.momentum = 0.9\n",
    "\t\tself.weight_decay = 0.0001\n",
    "\t\t# Constant to provide numerical stability while normalizing\n",
    "\t\tself.epsilon = 1e-16\n",
    "\n",
    "\t\t# Network architecture\n",
    "\t\tsuper(Model, self).__init__()\n",
    "\t\tmodel = nn.Sequential(\n",
    "\t\tnn.Conv1d(1, 6, kernel_size=6),\n",
    "\t\tnn.ReLU(),\n",
    "\t\tnn.Conv1d(6, 3, kernel_size=6),\n",
    "\t\tnn.ReLU(),\n",
    "\t\tnn.Flatten(),\n",
    "\t\tnn.Linear(12258,1024),\n",
    "\t\tnn.ReLU()\n",
    "\t\t)\n",
    "\n",
    "\t\tself.feature_extractor=model\n",
    "\n",
    "\t\tself.feature_extractor.apply(kaiming_normal_init)\n",
    "\t\tself.fc = nn.Linear(1024, classes, bias=False)\n",
    "\n",
    "\t\tself.n_classes = 0\n",
    "\n",
    "\tdef forward(self, x):\n",
    "\t\tx = self.feature_extractor(x)\n",
    "\t\tx = x.view(x.size(0), -1)\n",
    "\t\tx = self.fc(x)\n",
    "\t\treturn x\n",
    "\n",
    "\n",
    "\n",
    "\tdef classify(self, images):\n",
    "\t\t\"\"\"Classify images by softmax\n",
    "\n",
    "\t\tArgs:\n",
    "\t\t\tx: input image batch\n",
    "\t\tReturns:\n",
    "\t\t\tpreds: Tensor of size (batch_size,)\n",
    "\t\t\"\"\"\n",
    "\t\t_, preds = torch.max(torch.softmax(self.forward(images), dim=1), dim=1, keepdim=False)\n",
    "\n",
    "\t\treturn preds\n",
    "\n",
    "\tdef update(self, dataset, class_map):\n",
    "\n",
    "\t\tself.compute_means = True\n",
    "\n",
    "\t\t# Save a copy to compute distillation outputs\n",
    "\n",
    "\n",
    "\t\tclasses = list(set(dataset.train_labels))\n",
    "\n",
    "\t\tloader = torch.utils.data.DataLoader(dataset, batch_size=self.batch_size,\n",
    "\t\t\t\t\t\t\t\t\t\t\t   shuffle=True, num_workers=8)\n",
    "\n",
    "\t\tprint(\"Batch Size (for n_classes classes) : \", len(dataset))\n",
    "\t\toptimizer = optim.SGD(self.parameters(), lr=self.init_lr, momentum = self.momentum, weight_decay=self.weight_decay)\n",
    "\n",
    "\t\twith tqdm(total=self.num_epochs) as pbar:\n",
    "\t\t\tfor epoch in range(self.num_epochs):\n",
    "\t\t\t\t\n",
    "\t\t\t\tfor i, (indices, images, labels) in enumerate(loader):\n",
    "\t\t\t\t\tseen_labels = []\n",
    "\t\t\t\t\timages = Variable(torch.FloatTensor(images)).to(device)\n",
    "\t\t\t\t\tseen_labels = torch.LongTensor([class_map[label] for label in labels.numpy()])\n",
    "\t\t\t\t\tlabels = Variable(seen_labels).to(device)\n",
    "\t\t\t\t\t# indices = indices.cuda()\n",
    "\n",
    "\t\t\t\t\toptimizer.zero_grad()\n",
    "\t\t\t\t\tlogits = self.forward(images)\n",
    "\n",
    "\t\t\t\t\tloss = nn.CrossEntropyLoss()(logits, labels)\n",
    "\n",
    "\t\t\t\t\tloss.backward()\n",
    "\t\t\t\t\toptimizer.step()\n",
    "\n",
    "\t\t\t\t\tif (i+1) % 1 == 0:\n",
    "\t\t\t\t\t\ttqdm.write('Epoch [%d/%d], Iter [%d/%d] Loss: %.4f' \n",
    "\t\t\t\t\t\t\t   %(epoch+1, self.num_epochs, i+1, np.ceil(len(dataset)/self.batch_size), loss.data))\n",
    "\n",
    "\t\t\t\tpbar.update(1)"
   ]
  },
  {
   "cell_type": "code",
   "execution_count": 4,
   "metadata": {},
   "outputs": [
    {
     "name": "stdout",
     "output_type": "stream",
     "text": [
      "Batch Size (for n_classes classes) :  6947\n"
     ]
    },
    {
     "name": "stderr",
     "output_type": "stream",
     "text": [
      "  0%|          | 0/40 [00:00<?, ?it/s]"
     ]
    },
    {
     "name": "stdout",
     "output_type": "stream",
     "text": [
      "Epoch [1/40], Iter [1/145] Loss: 4.2125\n",
      "Epoch [1/40], Iter [2/145] Loss: 4.0463\n",
      "Epoch [1/40], Iter [3/145] Loss: 3.4918\n"
     ]
    },
    {
     "name": "stderr",
     "output_type": "stream",
     "text": [
      "  0%|          | 0/40 [00:00<?, ?it/s]"
     ]
    },
    {
     "name": "stdout",
     "output_type": "stream",
     "text": [
      "Epoch [1/40], Iter [4/145] Loss: 8.5089\n",
      "Epoch [1/40], Iter [5/145] Loss: 4.1945\n",
      "Epoch [1/40], Iter [6/145] Loss: 4.2024\n"
     ]
    },
    {
     "name": "stderr",
     "output_type": "stream",
     "text": [
      "  0%|          | 0/40 [00:00<?, ?it/s]"
     ]
    },
    {
     "name": "stdout",
     "output_type": "stream",
     "text": [
      "Epoch [1/40], Iter [7/145] Loss: 4.1974\n",
      "Epoch [1/40], Iter [8/145] Loss: 4.1923\n",
      "Epoch [1/40], Iter [9/145] Loss: 4.1906\n"
     ]
    },
    {
     "name": "stderr",
     "output_type": "stream",
     "text": [
      "  0%|          | 0/40 [00:01<?, ?it/s]"
     ]
    },
    {
     "name": "stdout",
     "output_type": "stream",
     "text": [
      "Epoch [1/40], Iter [10/145] Loss: 4.1889\n",
      "Epoch [1/40], Iter [11/145] Loss: 4.1872\n",
      "Epoch [1/40], Iter [12/145] Loss: 4.1881\n"
     ]
    },
    {
     "name": "stderr",
     "output_type": "stream",
     "text": [
      "  0%|          | 0/40 [00:01<?, ?it/s]"
     ]
    },
    {
     "name": "stdout",
     "output_type": "stream",
     "text": [
      "Epoch [1/40], Iter [13/145] Loss: 4.1831\n",
      "Epoch [1/40], Iter [14/145] Loss: 4.1862\n",
      "Epoch [1/40], Iter [15/145] Loss: 4.1833\n"
     ]
    },
    {
     "name": "stderr",
     "output_type": "stream",
     "text": [
      "  0%|          | 0/40 [00:01<?, ?it/s]"
     ]
    },
    {
     "name": "stdout",
     "output_type": "stream",
     "text": [
      "Epoch [1/40], Iter [16/145] Loss: 4.1833\n",
      "Epoch [1/40], Iter [17/145] Loss: 4.1796\n",
      "Epoch [1/40], Iter [18/145] Loss: 4.1803\n"
     ]
    },
    {
     "name": "stderr",
     "output_type": "stream",
     "text": [
      "  0%|          | 0/40 [00:01<?, ?it/s]"
     ]
    },
    {
     "name": "stdout",
     "output_type": "stream",
     "text": [
      "Epoch [1/40], Iter [19/145] Loss: 4.1739\n",
      "Epoch [1/40], Iter [20/145] Loss: 4.1822\n",
      "Epoch [1/40], Iter [21/145] Loss: 4.1733\n"
     ]
    },
    {
     "name": "stderr",
     "output_type": "stream",
     "text": [
      "  0%|          | 0/40 [00:01<?, ?it/s]"
     ]
    },
    {
     "name": "stdout",
     "output_type": "stream",
     "text": [
      "Epoch [1/40], Iter [22/145] Loss: 4.1776\n",
      "Epoch [1/40], Iter [23/145] Loss: 4.1503\n",
      "Epoch [1/40], Iter [24/145] Loss: 4.1789\n"
     ]
    },
    {
     "name": "stderr",
     "output_type": "stream",
     "text": [
      "  0%|          | 0/40 [00:02<?, ?it/s]"
     ]
    },
    {
     "name": "stdout",
     "output_type": "stream",
     "text": [
      "Epoch [1/40], Iter [25/145] Loss: 4.1456\n",
      "Epoch [1/40], Iter [26/145] Loss: 4.1657\n",
      "Epoch [1/40], Iter [27/145] Loss: 4.1490\n"
     ]
    },
    {
     "name": "stderr",
     "output_type": "stream",
     "text": [
      "  0%|          | 0/40 [00:02<?, ?it/s]"
     ]
    },
    {
     "name": "stdout",
     "output_type": "stream",
     "text": [
      "Epoch [1/40], Iter [28/145] Loss: 4.1443\n",
      "Epoch [1/40], Iter [29/145] Loss: 4.1241\n",
      "Epoch [1/40], Iter [30/145] Loss: 4.0941\n"
     ]
    },
    {
     "name": "stderr",
     "output_type": "stream",
     "text": [
      "  0%|          | 0/40 [00:02<?, ?it/s]"
     ]
    },
    {
     "name": "stdout",
     "output_type": "stream",
     "text": [
      "Epoch [1/40], Iter [31/145] Loss: 4.0659\n",
      "Epoch [1/40], Iter [32/145] Loss: 4.1345\n",
      "Epoch [1/40], Iter [33/145] Loss: 4.0920\n"
     ]
    },
    {
     "name": "stderr",
     "output_type": "stream",
     "text": [
      "  0%|          | 0/40 [00:02<?, ?it/s]"
     ]
    },
    {
     "name": "stdout",
     "output_type": "stream",
     "text": [
      "Epoch [1/40], Iter [34/145] Loss: 4.0813\n",
      "Epoch [1/40], Iter [35/145] Loss: 4.0013\n",
      "Epoch [1/40], Iter [36/145] Loss: 3.9548\n"
     ]
    },
    {
     "name": "stderr",
     "output_type": "stream",
     "text": [
      "  0%|          | 0/40 [00:03<?, ?it/s]"
     ]
    },
    {
     "name": "stdout",
     "output_type": "stream",
     "text": [
      "Epoch [1/40], Iter [37/145] Loss: 3.9267\n",
      "Epoch [1/40], Iter [38/145] Loss: 3.9794\n",
      "Epoch [1/40], Iter [39/145] Loss: 3.9256\n"
     ]
    },
    {
     "name": "stderr",
     "output_type": "stream",
     "text": [
      "  0%|          | 0/40 [00:03<?, ?it/s]"
     ]
    },
    {
     "name": "stdout",
     "output_type": "stream",
     "text": [
      "Epoch [1/40], Iter [40/145] Loss: 3.7475\n",
      "Epoch [1/40], Iter [41/145] Loss: 3.9238\n",
      "Epoch [1/40], Iter [42/145] Loss: 3.8157\n"
     ]
    },
    {
     "name": "stderr",
     "output_type": "stream",
     "text": [
      "  0%|          | 0/40 [00:03<?, ?it/s]"
     ]
    },
    {
     "name": "stdout",
     "output_type": "stream",
     "text": [
      "Epoch [1/40], Iter [43/145] Loss: 3.9770\n",
      "Epoch [1/40], Iter [44/145] Loss: 4.0178\n",
      "Epoch [1/40], Iter [45/145] Loss: 4.0288\n"
     ]
    },
    {
     "name": "stderr",
     "output_type": "stream",
     "text": [
      "  0%|          | 0/40 [00:03<?, ?it/s]"
     ]
    },
    {
     "name": "stdout",
     "output_type": "stream",
     "text": [
      "Epoch [1/40], Iter [46/145] Loss: 3.7720\n",
      "Epoch [1/40], Iter [47/145] Loss: 3.9248\n",
      "Epoch [1/40], Iter [48/145] Loss: 3.7649\n"
     ]
    },
    {
     "name": "stderr",
     "output_type": "stream",
     "text": [
      "  0%|          | 0/40 [00:04<?, ?it/s]"
     ]
    },
    {
     "name": "stdout",
     "output_type": "stream",
     "text": [
      "Epoch [1/40], Iter [49/145] Loss: 4.1118\n",
      "Epoch [1/40], Iter [50/145] Loss: 3.9860\n",
      "Epoch [1/40], Iter [51/145] Loss: 3.9436\n"
     ]
    },
    {
     "name": "stderr",
     "output_type": "stream",
     "text": [
      "  0%|          | 0/40 [00:04<?, ?it/s]"
     ]
    },
    {
     "name": "stdout",
     "output_type": "stream",
     "text": [
      "Epoch [1/40], Iter [52/145] Loss: 3.8041\n",
      "Epoch [1/40], Iter [53/145] Loss: 3.8189\n",
      "Epoch [1/40], Iter [54/145] Loss: 3.8037\n"
     ]
    },
    {
     "name": "stderr",
     "output_type": "stream",
     "text": [
      "  0%|          | 0/40 [00:04<?, ?it/s]"
     ]
    },
    {
     "name": "stdout",
     "output_type": "stream",
     "text": [
      "Epoch [1/40], Iter [55/145] Loss: 3.7042\n",
      "Epoch [1/40], Iter [56/145] Loss: 3.6185\n",
      "Epoch [1/40], Iter [57/145] Loss: 3.8268\n"
     ]
    },
    {
     "name": "stderr",
     "output_type": "stream",
     "text": [
      "  0%|          | 0/40 [00:04<?, ?it/s]"
     ]
    },
    {
     "name": "stdout",
     "output_type": "stream",
     "text": [
      "Epoch [1/40], Iter [58/145] Loss: 3.6658\n",
      "Epoch [1/40], Iter [59/145] Loss: 3.8022\n",
      "Epoch [1/40], Iter [60/145] Loss: 3.8664\n"
     ]
    },
    {
     "name": "stderr",
     "output_type": "stream",
     "text": [
      "  0%|          | 0/40 [00:05<?, ?it/s]"
     ]
    },
    {
     "name": "stdout",
     "output_type": "stream",
     "text": [
      "Epoch [1/40], Iter [61/145] Loss: 3.7623\n",
      "Epoch [1/40], Iter [62/145] Loss: 4.2333\n",
      "Epoch [1/40], Iter [63/145] Loss: 4.0211\n"
     ]
    },
    {
     "name": "stderr",
     "output_type": "stream",
     "text": [
      "  0%|          | 0/40 [00:05<?, ?it/s]"
     ]
    },
    {
     "name": "stdout",
     "output_type": "stream",
     "text": [
      "Epoch [1/40], Iter [64/145] Loss: 3.9838\n",
      "Epoch [1/40], Iter [65/145] Loss: 3.7170\n",
      "Epoch [1/40], Iter [66/145] Loss: 3.6162\n"
     ]
    },
    {
     "name": "stderr",
     "output_type": "stream",
     "text": [
      "  0%|          | 0/40 [00:05<?, ?it/s]"
     ]
    },
    {
     "name": "stdout",
     "output_type": "stream",
     "text": [
      "Epoch [1/40], Iter [67/145] Loss: 3.6225\n",
      "Epoch [1/40], Iter [68/145] Loss: 3.6898\n",
      "Epoch [1/40], Iter [69/145] Loss: 3.9669\n"
     ]
    },
    {
     "name": "stderr",
     "output_type": "stream",
     "text": [
      "  0%|          | 0/40 [00:05<?, ?it/s]"
     ]
    },
    {
     "name": "stdout",
     "output_type": "stream",
     "text": [
      "Epoch [1/40], Iter [70/145] Loss: 3.9336\n",
      "Epoch [1/40], Iter [71/145] Loss: 4.1694\n",
      "Epoch [1/40], Iter [72/145] Loss: 3.6277\n"
     ]
    },
    {
     "name": "stderr",
     "output_type": "stream",
     "text": [
      "  0%|          | 0/40 [00:06<?, ?it/s]"
     ]
    },
    {
     "name": "stdout",
     "output_type": "stream",
     "text": [
      "Epoch [1/40], Iter [73/145] Loss: 4.0223\n",
      "Epoch [1/40], Iter [74/145] Loss: 3.8795\n",
      "Epoch [1/40], Iter [75/145] Loss: 3.8521\n"
     ]
    },
    {
     "name": "stderr",
     "output_type": "stream",
     "text": [
      "  0%|          | 0/40 [00:06<?, ?it/s]"
     ]
    },
    {
     "name": "stdout",
     "output_type": "stream",
     "text": [
      "Epoch [1/40], Iter [76/145] Loss: 3.7358\n",
      "Epoch [1/40], Iter [77/145] Loss: 4.0366\n",
      "Epoch [1/40], Iter [78/145] Loss: 3.9832\n"
     ]
    },
    {
     "name": "stderr",
     "output_type": "stream",
     "text": [
      "  0%|          | 0/40 [00:06<?, ?it/s]"
     ]
    },
    {
     "name": "stdout",
     "output_type": "stream",
     "text": [
      "Epoch [1/40], Iter [79/145] Loss: 3.7721\n",
      "Epoch [1/40], Iter [80/145] Loss: 3.7714\n",
      "Epoch [1/40], Iter [81/145] Loss: 3.8300\n"
     ]
    },
    {
     "name": "stderr",
     "output_type": "stream",
     "text": [
      "  0%|          | 0/40 [00:06<?, ?it/s]"
     ]
    },
    {
     "name": "stdout",
     "output_type": "stream",
     "text": [
      "Epoch [1/40], Iter [82/145] Loss: 3.9466\n",
      "Epoch [1/40], Iter [83/145] Loss: 3.8553\n",
      "Epoch [1/40], Iter [84/145] Loss: 3.9269\n"
     ]
    },
    {
     "name": "stderr",
     "output_type": "stream",
     "text": [
      "  0%|          | 0/40 [00:06<?, ?it/s]"
     ]
    },
    {
     "name": "stdout",
     "output_type": "stream",
     "text": [
      "Epoch [1/40], Iter [85/145] Loss: 3.7481\n",
      "Epoch [1/40], Iter [86/145] Loss: 3.9072\n",
      "Epoch [1/40], Iter [87/145] Loss: 3.8906\n"
     ]
    },
    {
     "name": "stderr",
     "output_type": "stream",
     "text": [
      "  0%|          | 0/40 [00:07<?, ?it/s]"
     ]
    },
    {
     "name": "stdout",
     "output_type": "stream",
     "text": [
      "Epoch [1/40], Iter [88/145] Loss: 3.8591\n",
      "Epoch [1/40], Iter [89/145] Loss: 4.0057\n",
      "Epoch [1/40], Iter [90/145] Loss: 3.8686\n"
     ]
    },
    {
     "name": "stderr",
     "output_type": "stream",
     "text": [
      "  0%|          | 0/40 [00:07<?, ?it/s]"
     ]
    },
    {
     "name": "stdout",
     "output_type": "stream",
     "text": [
      "Epoch [1/40], Iter [91/145] Loss: 3.9763\n",
      "Epoch [1/40], Iter [92/145] Loss: 3.8127\n",
      "Epoch [1/40], Iter [93/145] Loss: 3.9526\n"
     ]
    },
    {
     "name": "stderr",
     "output_type": "stream",
     "text": [
      "  0%|          | 0/40 [00:07<?, ?it/s]"
     ]
    },
    {
     "name": "stdout",
     "output_type": "stream",
     "text": [
      "Epoch [1/40], Iter [94/145] Loss: 4.0031\n",
      "Epoch [1/40], Iter [95/145] Loss: 4.0179\n",
      "Epoch [1/40], Iter [96/145] Loss: 3.8328\n"
     ]
    },
    {
     "name": "stderr",
     "output_type": "stream",
     "text": [
      "  0%|          | 0/40 [00:07<?, ?it/s]"
     ]
    },
    {
     "name": "stdout",
     "output_type": "stream",
     "text": [
      "Epoch [1/40], Iter [97/145] Loss: 3.8907\n",
      "Epoch [1/40], Iter [98/145] Loss: 4.0342\n",
      "Epoch [1/40], Iter [99/145] Loss: 4.0953\n"
     ]
    },
    {
     "name": "stderr",
     "output_type": "stream",
     "text": [
      "  0%|          | 0/40 [00:08<?, ?it/s]"
     ]
    },
    {
     "name": "stdout",
     "output_type": "stream",
     "text": [
      "Epoch [1/40], Iter [100/145] Loss: 3.8852\n",
      "Epoch [1/40], Iter [101/145] Loss: 3.9822\n",
      "Epoch [1/40], Iter [102/145] Loss: 3.9966\n"
     ]
    },
    {
     "name": "stderr",
     "output_type": "stream",
     "text": [
      "  0%|          | 0/40 [00:08<?, ?it/s]"
     ]
    },
    {
     "name": "stdout",
     "output_type": "stream",
     "text": [
      "Epoch [1/40], Iter [103/145] Loss: 3.9414\n",
      "Epoch [1/40], Iter [104/145] Loss: 3.8726\n",
      "Epoch [1/40], Iter [105/145] Loss: 4.0268\n"
     ]
    },
    {
     "name": "stderr",
     "output_type": "stream",
     "text": [
      "  0%|          | 0/40 [00:08<?, ?it/s]"
     ]
    },
    {
     "name": "stdout",
     "output_type": "stream",
     "text": [
      "Epoch [1/40], Iter [106/145] Loss: 3.7026\n",
      "Epoch [1/40], Iter [107/145] Loss: 3.8489\n",
      "Epoch [1/40], Iter [108/145] Loss: 3.9552\n"
     ]
    },
    {
     "name": "stderr",
     "output_type": "stream",
     "text": [
      "  0%|          | 0/40 [00:08<?, ?it/s]"
     ]
    },
    {
     "name": "stdout",
     "output_type": "stream",
     "text": [
      "Epoch [1/40], Iter [109/145] Loss: 3.5893\n",
      "Epoch [1/40], Iter [110/145] Loss: 3.7323\n",
      "Epoch [1/40], Iter [111/145] Loss: 3.7654\n"
     ]
    },
    {
     "name": "stderr",
     "output_type": "stream",
     "text": [
      "  0%|          | 0/40 [00:09<?, ?it/s]"
     ]
    },
    {
     "name": "stdout",
     "output_type": "stream",
     "text": [
      "Epoch [1/40], Iter [112/145] Loss: 3.8780\n",
      "Epoch [1/40], Iter [113/145] Loss: 3.7978\n",
      "Epoch [1/40], Iter [114/145] Loss: 3.8177\n"
     ]
    },
    {
     "name": "stderr",
     "output_type": "stream",
     "text": [
      "  0%|          | 0/40 [00:09<?, ?it/s]"
     ]
    },
    {
     "name": "stdout",
     "output_type": "stream",
     "text": [
      "Epoch [1/40], Iter [115/145] Loss: 3.9401\n",
      "Epoch [1/40], Iter [116/145] Loss: 3.6073\n",
      "Epoch [1/40], Iter [117/145] Loss: 4.0039\n"
     ]
    },
    {
     "name": "stderr",
     "output_type": "stream",
     "text": [
      "  0%|          | 0/40 [00:09<?, ?it/s]"
     ]
    },
    {
     "name": "stdout",
     "output_type": "stream",
     "text": [
      "Epoch [1/40], Iter [118/145] Loss: 3.8758\n",
      "Epoch [1/40], Iter [119/145] Loss: 3.6840\n",
      "Epoch [1/40], Iter [120/145] Loss: 3.5938\n"
     ]
    },
    {
     "name": "stderr",
     "output_type": "stream",
     "text": [
      "  0%|          | 0/40 [00:09<?, ?it/s]"
     ]
    },
    {
     "name": "stdout",
     "output_type": "stream",
     "text": [
      "Epoch [1/40], Iter [121/145] Loss: 3.7513\n",
      "Epoch [1/40], Iter [122/145] Loss: 3.9865\n",
      "Epoch [1/40], Iter [123/145] Loss: 4.0137\n"
     ]
    },
    {
     "name": "stderr",
     "output_type": "stream",
     "text": [
      "  0%|          | 0/40 [00:09<?, ?it/s]"
     ]
    },
    {
     "name": "stdout",
     "output_type": "stream",
     "text": [
      "Epoch [1/40], Iter [124/145] Loss: 3.7298\n",
      "Epoch [1/40], Iter [125/145] Loss: 3.6907\n",
      "Epoch [1/40], Iter [126/145] Loss: 3.8547\n"
     ]
    },
    {
     "name": "stderr",
     "output_type": "stream",
     "text": [
      "  0%|          | 0/40 [00:10<?, ?it/s]"
     ]
    },
    {
     "name": "stdout",
     "output_type": "stream",
     "text": [
      "Epoch [1/40], Iter [127/145] Loss: 3.6993\n",
      "Epoch [1/40], Iter [128/145] Loss: 3.9330\n",
      "Epoch [1/40], Iter [129/145] Loss: 3.8308\n"
     ]
    },
    {
     "name": "stderr",
     "output_type": "stream",
     "text": [
      "  0%|          | 0/40 [00:10<?, ?it/s]"
     ]
    },
    {
     "name": "stdout",
     "output_type": "stream",
     "text": [
      "Epoch [1/40], Iter [130/145] Loss: 3.7499\n",
      "Epoch [1/40], Iter [131/145] Loss: 3.8117\n",
      "Epoch [1/40], Iter [132/145] Loss: 3.9200\n"
     ]
    },
    {
     "name": "stderr",
     "output_type": "stream",
     "text": [
      "  0%|          | 0/40 [00:10<?, ?it/s]"
     ]
    },
    {
     "name": "stdout",
     "output_type": "stream",
     "text": [
      "Epoch [1/40], Iter [133/145] Loss: 3.8477\n",
      "Epoch [1/40], Iter [134/145] Loss: 3.8261\n",
      "Epoch [1/40], Iter [135/145] Loss: 3.8020\n"
     ]
    },
    {
     "name": "stderr",
     "output_type": "stream",
     "text": [
      "  0%|          | 0/40 [00:10<?, ?it/s]"
     ]
    },
    {
     "name": "stdout",
     "output_type": "stream",
     "text": [
      "Epoch [1/40], Iter [136/145] Loss: 3.5403\n",
      "Epoch [1/40], Iter [137/145] Loss: 3.6937\n",
      "Epoch [1/40], Iter [138/145] Loss: 3.9621\n"
     ]
    },
    {
     "name": "stderr",
     "output_type": "stream",
     "text": [
      "  0%|          | 0/40 [00:11<?, ?it/s]"
     ]
    },
    {
     "name": "stdout",
     "output_type": "stream",
     "text": [
      "Epoch [1/40], Iter [139/145] Loss: 4.0094\n",
      "Epoch [1/40], Iter [140/145] Loss: 3.8026\n",
      "Epoch [1/40], Iter [141/145] Loss: 3.8889\n"
     ]
    },
    {
     "name": "stderr",
     "output_type": "stream",
     "text": [
      "  0%|          | 0/40 [00:11<?, ?it/s]"
     ]
    },
    {
     "name": "stdout",
     "output_type": "stream",
     "text": [
      "Epoch [1/40], Iter [142/145] Loss: 3.8403\n",
      "Epoch [1/40], Iter [143/145] Loss: 3.9670\n",
      "Epoch [1/40], Iter [144/145] Loss: 3.6564\n"
     ]
    },
    {
     "name": "stderr",
     "output_type": "stream",
     "text": [
      "  2%|▎         | 1/40 [00:11<07:25, 11.43s/it]"
     ]
    },
    {
     "name": "stdout",
     "output_type": "stream",
     "text": [
      "Epoch [1/40], Iter [145/145] Loss: 3.7967\n"
     ]
    },
    {
     "name": "stderr",
     "output_type": "stream",
     "text": [
      "  2%|▎         | 1/40 [00:11<07:25, 11.43s/it]"
     ]
    },
    {
     "name": "stdout",
     "output_type": "stream",
     "text": [
      "Epoch [2/40], Iter [1/145] Loss: 3.8850\n",
      "Epoch [2/40], Iter [2/145] Loss: 3.9697\n",
      "Epoch [2/40], Iter [3/145] Loss: 3.7083\n"
     ]
    },
    {
     "name": "stderr",
     "output_type": "stream",
     "text": [
      "  2%|▎         | 1/40 [00:12<07:25, 11.43s/it]"
     ]
    },
    {
     "name": "stdout",
     "output_type": "stream",
     "text": [
      "Epoch [2/40], Iter [4/145] Loss: 3.9207\n",
      "Epoch [2/40], Iter [5/145] Loss: 3.9355\n",
      "Epoch [2/40], Iter [6/145] Loss: 3.7584\n"
     ]
    },
    {
     "name": "stderr",
     "output_type": "stream",
     "text": [
      "  2%|▎         | 1/40 [00:12<07:25, 11.43s/it]"
     ]
    },
    {
     "name": "stdout",
     "output_type": "stream",
     "text": [
      "Epoch [2/40], Iter [7/145] Loss: 3.7526\n",
      "Epoch [2/40], Iter [8/145] Loss: 3.7802\n",
      "Epoch [2/40], Iter [9/145] Loss: 3.8686\n"
     ]
    },
    {
     "name": "stderr",
     "output_type": "stream",
     "text": [
      "  2%|▎         | 1/40 [00:12<07:25, 11.43s/it]"
     ]
    },
    {
     "name": "stdout",
     "output_type": "stream",
     "text": [
      "Epoch [2/40], Iter [10/145] Loss: 3.8108\n",
      "Epoch [2/40], Iter [11/145] Loss: 3.8023\n",
      "Epoch [2/40], Iter [12/145] Loss: 3.9192\n"
     ]
    },
    {
     "name": "stderr",
     "output_type": "stream",
     "text": [
      "  2%|▎         | 1/40 [00:12<07:25, 11.43s/it]"
     ]
    },
    {
     "name": "stdout",
     "output_type": "stream",
     "text": [
      "Epoch [2/40], Iter [13/145] Loss: 3.8211\n",
      "Epoch [2/40], Iter [14/145] Loss: 3.9950\n",
      "Epoch [2/40], Iter [15/145] Loss: 3.9202\n"
     ]
    },
    {
     "name": "stderr",
     "output_type": "stream",
     "text": [
      "  2%|▎         | 1/40 [00:12<07:25, 11.43s/it]"
     ]
    },
    {
     "name": "stdout",
     "output_type": "stream",
     "text": [
      "Epoch [2/40], Iter [16/145] Loss: 3.8305\n",
      "Epoch [2/40], Iter [17/145] Loss: 4.0219\n",
      "Epoch [2/40], Iter [18/145] Loss: 3.8042\n"
     ]
    },
    {
     "name": "stderr",
     "output_type": "stream",
     "text": [
      "  2%|▎         | 1/40 [00:13<07:25, 11.43s/it]"
     ]
    },
    {
     "name": "stdout",
     "output_type": "stream",
     "text": [
      "Epoch [2/40], Iter [19/145] Loss: 3.8010\n",
      "Epoch [2/40], Iter [20/145] Loss: 3.9686\n",
      "Epoch [2/40], Iter [21/145] Loss: 3.8853\n"
     ]
    },
    {
     "name": "stderr",
     "output_type": "stream",
     "text": [
      "  2%|▎         | 1/40 [00:13<07:25, 11.43s/it]"
     ]
    },
    {
     "name": "stdout",
     "output_type": "stream",
     "text": [
      "Epoch [2/40], Iter [22/145] Loss: 4.0723\n",
      "Epoch [2/40], Iter [23/145] Loss: 3.8979\n",
      "Epoch [2/40], Iter [24/145] Loss: 3.9342\n"
     ]
    },
    {
     "name": "stderr",
     "output_type": "stream",
     "text": [
      "  2%|▎         | 1/40 [00:13<07:25, 11.43s/it]"
     ]
    },
    {
     "name": "stdout",
     "output_type": "stream",
     "text": [
      "Epoch [2/40], Iter [25/145] Loss: 3.8138\n",
      "Epoch [2/40], Iter [26/145] Loss: 3.7841\n",
      "Epoch [2/40], Iter [27/145] Loss: 3.9608\n"
     ]
    },
    {
     "name": "stderr",
     "output_type": "stream",
     "text": [
      "  2%|▎         | 1/40 [00:13<07:25, 11.43s/it]"
     ]
    },
    {
     "name": "stdout",
     "output_type": "stream",
     "text": [
      "Epoch [2/40], Iter [28/145] Loss: 3.7344\n",
      "Epoch [2/40], Iter [29/145] Loss: 3.9509\n",
      "Epoch [2/40], Iter [30/145] Loss: 3.9745\n"
     ]
    },
    {
     "name": "stderr",
     "output_type": "stream",
     "text": [
      "  2%|▎         | 1/40 [00:14<07:25, 11.43s/it]"
     ]
    },
    {
     "name": "stdout",
     "output_type": "stream",
     "text": [
      "Epoch [2/40], Iter [31/145] Loss: 3.9326\n",
      "Epoch [2/40], Iter [32/145] Loss: 3.9591\n",
      "Epoch [2/40], Iter [33/145] Loss: 3.7692\n"
     ]
    },
    {
     "name": "stderr",
     "output_type": "stream",
     "text": [
      "  2%|▎         | 1/40 [00:14<07:25, 11.43s/it]"
     ]
    },
    {
     "name": "stdout",
     "output_type": "stream",
     "text": [
      "Epoch [2/40], Iter [34/145] Loss: 4.0419\n",
      "Epoch [2/40], Iter [35/145] Loss: 4.0306\n",
      "Epoch [2/40], Iter [36/145] Loss: 3.8452\n"
     ]
    },
    {
     "name": "stderr",
     "output_type": "stream",
     "text": [
      "  2%|▎         | 1/40 [00:14<07:25, 11.43s/it]"
     ]
    },
    {
     "name": "stdout",
     "output_type": "stream",
     "text": [
      "Epoch [2/40], Iter [37/145] Loss: 3.8196\n",
      "Epoch [2/40], Iter [38/145] Loss: 3.9649\n",
      "Epoch [2/40], Iter [39/145] Loss: 3.8928\n"
     ]
    },
    {
     "name": "stderr",
     "output_type": "stream",
     "text": [
      "  2%|▎         | 1/40 [00:14<07:25, 11.43s/it]"
     ]
    },
    {
     "name": "stdout",
     "output_type": "stream",
     "text": [
      "Epoch [2/40], Iter [40/145] Loss: 4.0109\n",
      "Epoch [2/40], Iter [41/145] Loss: 3.8391\n",
      "Epoch [2/40], Iter [42/145] Loss: 4.0737\n"
     ]
    },
    {
     "name": "stderr",
     "output_type": "stream",
     "text": [
      "  2%|▎         | 1/40 [00:15<07:25, 11.43s/it]"
     ]
    },
    {
     "name": "stdout",
     "output_type": "stream",
     "text": [
      "Epoch [2/40], Iter [43/145] Loss: 3.9366\n",
      "Epoch [2/40], Iter [44/145] Loss: 3.6534\n",
      "Epoch [2/40], Iter [45/145] Loss: 3.9400\n"
     ]
    },
    {
     "name": "stderr",
     "output_type": "stream",
     "text": [
      "  2%|▎         | 1/40 [00:15<07:25, 11.43s/it]"
     ]
    },
    {
     "name": "stdout",
     "output_type": "stream",
     "text": [
      "Epoch [2/40], Iter [46/145] Loss: 3.6695\n",
      "Epoch [2/40], Iter [47/145] Loss: 3.8416\n",
      "Epoch [2/40], Iter [48/145] Loss: 3.7164\n"
     ]
    },
    {
     "name": "stderr",
     "output_type": "stream",
     "text": [
      "  2%|▎         | 1/40 [00:15<07:25, 11.43s/it]"
     ]
    },
    {
     "name": "stdout",
     "output_type": "stream",
     "text": [
      "Epoch [2/40], Iter [49/145] Loss: 3.7416\n",
      "Epoch [2/40], Iter [50/145] Loss: 3.7800\n",
      "Epoch [2/40], Iter [51/145] Loss: 4.0542\n"
     ]
    },
    {
     "name": "stderr",
     "output_type": "stream",
     "text": [
      "  2%|▎         | 1/40 [00:15<07:25, 11.43s/it]"
     ]
    },
    {
     "name": "stdout",
     "output_type": "stream",
     "text": [
      "Epoch [2/40], Iter [52/145] Loss: 3.9329\n",
      "Epoch [2/40], Iter [53/145] Loss: 3.7337\n",
      "Epoch [2/40], Iter [54/145] Loss: 4.0370\n"
     ]
    },
    {
     "name": "stderr",
     "output_type": "stream",
     "text": [
      "  2%|▎         | 1/40 [00:15<07:25, 11.43s/it]"
     ]
    },
    {
     "name": "stdout",
     "output_type": "stream",
     "text": [
      "Epoch [2/40], Iter [55/145] Loss: 4.1373\n",
      "Epoch [2/40], Iter [56/145] Loss: 3.7606\n",
      "Epoch [2/40], Iter [57/145] Loss: 3.9192\n"
     ]
    },
    {
     "name": "stderr",
     "output_type": "stream",
     "text": [
      "  2%|▎         | 1/40 [00:16<07:25, 11.43s/it]"
     ]
    },
    {
     "name": "stdout",
     "output_type": "stream",
     "text": [
      "Epoch [2/40], Iter [58/145] Loss: 3.8591\n",
      "Epoch [2/40], Iter [59/145] Loss: 3.7264\n",
      "Epoch [2/40], Iter [60/145] Loss: 3.8654\n"
     ]
    },
    {
     "name": "stderr",
     "output_type": "stream",
     "text": [
      "  2%|▎         | 1/40 [00:16<07:25, 11.43s/it]"
     ]
    },
    {
     "name": "stdout",
     "output_type": "stream",
     "text": [
      "Epoch [2/40], Iter [61/145] Loss: 3.6356\n",
      "Epoch [2/40], Iter [62/145] Loss: 3.9946\n",
      "Epoch [2/40], Iter [63/145] Loss: 3.6577\n"
     ]
    },
    {
     "name": "stderr",
     "output_type": "stream",
     "text": [
      "  2%|▎         | 1/40 [00:16<07:25, 11.43s/it]"
     ]
    },
    {
     "name": "stdout",
     "output_type": "stream",
     "text": [
      "Epoch [2/40], Iter [64/145] Loss: 3.9562\n",
      "Epoch [2/40], Iter [65/145] Loss: 3.8558\n",
      "Epoch [2/40], Iter [66/145] Loss: 3.7117\n"
     ]
    },
    {
     "name": "stderr",
     "output_type": "stream",
     "text": [
      "  2%|▎         | 1/40 [00:16<07:25, 11.43s/it]"
     ]
    },
    {
     "name": "stdout",
     "output_type": "stream",
     "text": [
      "Epoch [2/40], Iter [67/145] Loss: 3.7295\n",
      "Epoch [2/40], Iter [68/145] Loss: 3.7959\n",
      "Epoch [2/40], Iter [69/145] Loss: 3.7042\n"
     ]
    },
    {
     "name": "stderr",
     "output_type": "stream",
     "text": [
      "  2%|▎         | 1/40 [00:17<07:25, 11.43s/it]"
     ]
    },
    {
     "name": "stdout",
     "output_type": "stream",
     "text": [
      "Epoch [2/40], Iter [70/145] Loss: 3.8497\n",
      "Epoch [2/40], Iter [71/145] Loss: 3.6546\n",
      "Epoch [2/40], Iter [72/145] Loss: 4.2204\n"
     ]
    },
    {
     "name": "stderr",
     "output_type": "stream",
     "text": [
      "  2%|▎         | 1/40 [00:17<07:25, 11.43s/it]"
     ]
    },
    {
     "name": "stdout",
     "output_type": "stream",
     "text": [
      "Epoch [2/40], Iter [73/145] Loss: 3.6776\n",
      "Epoch [2/40], Iter [74/145] Loss: 4.0044\n",
      "Epoch [2/40], Iter [75/145] Loss: 3.8715\n"
     ]
    },
    {
     "name": "stderr",
     "output_type": "stream",
     "text": [
      "  2%|▎         | 1/40 [00:17<07:25, 11.43s/it]"
     ]
    },
    {
     "name": "stdout",
     "output_type": "stream",
     "text": [
      "Epoch [2/40], Iter [76/145] Loss: 3.5533\n",
      "Epoch [2/40], Iter [77/145] Loss: 3.7612\n",
      "Epoch [2/40], Iter [78/145] Loss: 3.4795\n"
     ]
    },
    {
     "name": "stderr",
     "output_type": "stream",
     "text": [
      "  2%|▎         | 1/40 [00:17<07:25, 11.43s/it]"
     ]
    },
    {
     "name": "stdout",
     "output_type": "stream",
     "text": [
      "Epoch [2/40], Iter [79/145] Loss: 3.5646\n",
      "Epoch [2/40], Iter [80/145] Loss: 3.7460\n",
      "Epoch [2/40], Iter [81/145] Loss: 4.1052\n"
     ]
    },
    {
     "name": "stderr",
     "output_type": "stream",
     "text": [
      "  2%|▎         | 1/40 [00:17<07:25, 11.43s/it]"
     ]
    },
    {
     "name": "stdout",
     "output_type": "stream",
     "text": [
      "Epoch [2/40], Iter [82/145] Loss: 3.9390\n",
      "Epoch [2/40], Iter [83/145] Loss: 3.4790\n",
      "Epoch [2/40], Iter [84/145] Loss: 3.8138\n"
     ]
    },
    {
     "name": "stderr",
     "output_type": "stream",
     "text": [
      "  2%|▎         | 1/40 [00:18<07:25, 11.43s/it]"
     ]
    },
    {
     "name": "stdout",
     "output_type": "stream",
     "text": [
      "Epoch [2/40], Iter [85/145] Loss: 3.8467\n",
      "Epoch [2/40], Iter [86/145] Loss: 3.7250\n",
      "Epoch [2/40], Iter [87/145] Loss: 3.8988\n"
     ]
    },
    {
     "name": "stderr",
     "output_type": "stream",
     "text": [
      "  2%|▎         | 1/40 [00:18<07:25, 11.43s/it]"
     ]
    },
    {
     "name": "stdout",
     "output_type": "stream",
     "text": [
      "Epoch [2/40], Iter [88/145] Loss: 3.7399\n",
      "Epoch [2/40], Iter [89/145] Loss: 3.9875\n",
      "Epoch [2/40], Iter [90/145] Loss: 3.7150\n"
     ]
    },
    {
     "name": "stderr",
     "output_type": "stream",
     "text": [
      "  2%|▎         | 1/40 [00:18<07:25, 11.43s/it]"
     ]
    },
    {
     "name": "stdout",
     "output_type": "stream",
     "text": [
      "Epoch [2/40], Iter [91/145] Loss: 3.5814\n",
      "Epoch [2/40], Iter [92/145] Loss: 3.8924\n",
      "Epoch [2/40], Iter [93/145] Loss: 3.9017\n"
     ]
    },
    {
     "name": "stderr",
     "output_type": "stream",
     "text": [
      "  2%|▎         | 1/40 [00:18<07:25, 11.43s/it]"
     ]
    },
    {
     "name": "stdout",
     "output_type": "stream",
     "text": [
      "Epoch [2/40], Iter [94/145] Loss: 3.8870\n",
      "Epoch [2/40], Iter [95/145] Loss: 3.5800\n",
      "Epoch [2/40], Iter [96/145] Loss: 3.7237\n"
     ]
    },
    {
     "name": "stderr",
     "output_type": "stream",
     "text": [
      "  2%|▎         | 1/40 [00:19<07:25, 11.43s/it]"
     ]
    },
    {
     "name": "stdout",
     "output_type": "stream",
     "text": [
      "Epoch [2/40], Iter [97/145] Loss: 3.9087\n",
      "Epoch [2/40], Iter [98/145] Loss: 3.5419\n",
      "Epoch [2/40], Iter [99/145] Loss: 3.6626\n"
     ]
    },
    {
     "name": "stderr",
     "output_type": "stream",
     "text": [
      "  2%|▎         | 1/40 [00:19<07:25, 11.43s/it]"
     ]
    },
    {
     "name": "stdout",
     "output_type": "stream",
     "text": [
      "Epoch [2/40], Iter [100/145] Loss: 3.9092\n",
      "Epoch [2/40], Iter [101/145] Loss: 3.9486\n",
      "Epoch [2/40], Iter [102/145] Loss: 3.6194\n"
     ]
    },
    {
     "name": "stderr",
     "output_type": "stream",
     "text": [
      "  2%|▎         | 1/40 [00:19<07:25, 11.43s/it]"
     ]
    },
    {
     "name": "stdout",
     "output_type": "stream",
     "text": [
      "Epoch [2/40], Iter [103/145] Loss: 3.7992\n",
      "Epoch [2/40], Iter [104/145] Loss: 3.9489\n",
      "Epoch [2/40], Iter [105/145] Loss: 3.8334\n"
     ]
    },
    {
     "name": "stderr",
     "output_type": "stream",
     "text": [
      "  2%|▎         | 1/40 [00:19<07:25, 11.43s/it]"
     ]
    },
    {
     "name": "stdout",
     "output_type": "stream",
     "text": [
      "Epoch [2/40], Iter [106/145] Loss: 3.9432\n",
      "Epoch [2/40], Iter [107/145] Loss: 3.9745\n",
      "Epoch [2/40], Iter [108/145] Loss: 3.9606\n"
     ]
    },
    {
     "name": "stderr",
     "output_type": "stream",
     "text": [
      "  2%|▎         | 1/40 [00:20<07:25, 11.43s/it]"
     ]
    },
    {
     "name": "stdout",
     "output_type": "stream",
     "text": [
      "Epoch [2/40], Iter [109/145] Loss: 3.9173\n",
      "Epoch [2/40], Iter [110/145] Loss: 3.9241\n",
      "Epoch [2/40], Iter [111/145] Loss: 3.5890\n"
     ]
    },
    {
     "name": "stderr",
     "output_type": "stream",
     "text": [
      "  2%|▎         | 1/40 [00:20<07:25, 11.43s/it]"
     ]
    },
    {
     "name": "stdout",
     "output_type": "stream",
     "text": [
      "Epoch [2/40], Iter [112/145] Loss: 4.0071\n",
      "Epoch [2/40], Iter [113/145] Loss: 3.9876\n",
      "Epoch [2/40], Iter [114/145] Loss: 3.6199\n"
     ]
    },
    {
     "name": "stderr",
     "output_type": "stream",
     "text": [
      "  2%|▎         | 1/40 [00:20<07:25, 11.43s/it]"
     ]
    },
    {
     "name": "stdout",
     "output_type": "stream",
     "text": [
      "Epoch [2/40], Iter [115/145] Loss: 3.8929\n",
      "Epoch [2/40], Iter [116/145] Loss: 3.9711\n",
      "Epoch [2/40], Iter [117/145] Loss: 3.9186\n"
     ]
    },
    {
     "name": "stderr",
     "output_type": "stream",
     "text": [
      "  2%|▎         | 1/40 [00:20<07:25, 11.43s/it]"
     ]
    },
    {
     "name": "stdout",
     "output_type": "stream",
     "text": [
      "Epoch [2/40], Iter [118/145] Loss: 3.8014\n",
      "Epoch [2/40], Iter [119/145] Loss: 3.8242\n",
      "Epoch [2/40], Iter [120/145] Loss: 3.9087\n"
     ]
    },
    {
     "name": "stderr",
     "output_type": "stream",
     "text": [
      "  2%|▎         | 1/40 [00:20<07:25, 11.43s/it]"
     ]
    },
    {
     "name": "stdout",
     "output_type": "stream",
     "text": [
      "Epoch [2/40], Iter [121/145] Loss: 3.8907\n",
      "Epoch [2/40], Iter [122/145] Loss: 3.9367\n",
      "Epoch [2/40], Iter [123/145] Loss: 3.8104\n"
     ]
    },
    {
     "name": "stderr",
     "output_type": "stream",
     "text": [
      "  2%|▎         | 1/40 [00:21<07:25, 11.43s/it]"
     ]
    },
    {
     "name": "stdout",
     "output_type": "stream",
     "text": [
      "Epoch [2/40], Iter [124/145] Loss: 3.8714\n",
      "Epoch [2/40], Iter [125/145] Loss: 3.9019\n",
      "Epoch [2/40], Iter [126/145] Loss: 3.9542\n"
     ]
    },
    {
     "name": "stderr",
     "output_type": "stream",
     "text": [
      "  2%|▎         | 1/40 [00:21<07:25, 11.43s/it]"
     ]
    },
    {
     "name": "stdout",
     "output_type": "stream",
     "text": [
      "Epoch [2/40], Iter [127/145] Loss: 3.7401\n",
      "Epoch [2/40], Iter [128/145] Loss: 3.8408\n",
      "Epoch [2/40], Iter [129/145] Loss: 3.7739\n"
     ]
    },
    {
     "name": "stderr",
     "output_type": "stream",
     "text": [
      "  2%|▎         | 1/40 [00:21<07:25, 11.43s/it]"
     ]
    },
    {
     "name": "stdout",
     "output_type": "stream",
     "text": [
      "Epoch [2/40], Iter [130/145] Loss: 3.7991\n",
      "Epoch [2/40], Iter [131/145] Loss: 3.8351\n",
      "Epoch [2/40], Iter [132/145] Loss: 3.8993\n"
     ]
    },
    {
     "name": "stderr",
     "output_type": "stream",
     "text": [
      "  2%|▎         | 1/40 [00:21<07:25, 11.43s/it]"
     ]
    },
    {
     "name": "stdout",
     "output_type": "stream",
     "text": [
      "Epoch [2/40], Iter [133/145] Loss: 3.6386\n",
      "Epoch [2/40], Iter [134/145] Loss: 3.6381\n",
      "Epoch [2/40], Iter [135/145] Loss: 3.6524\n"
     ]
    },
    {
     "name": "stderr",
     "output_type": "stream",
     "text": [
      "  2%|▎         | 1/40 [00:22<07:25, 11.43s/it]"
     ]
    },
    {
     "name": "stdout",
     "output_type": "stream",
     "text": [
      "Epoch [2/40], Iter [136/145] Loss: 3.5950\n",
      "Epoch [2/40], Iter [137/145] Loss: 3.7080\n",
      "Epoch [2/40], Iter [138/145] Loss: 3.9075\n"
     ]
    },
    {
     "name": "stderr",
     "output_type": "stream",
     "text": [
      "  2%|▎         | 1/40 [00:22<07:25, 11.43s/it]"
     ]
    },
    {
     "name": "stdout",
     "output_type": "stream",
     "text": [
      "Epoch [2/40], Iter [139/145] Loss: 3.8258\n",
      "Epoch [2/40], Iter [140/145] Loss: 3.7076\n",
      "Epoch [2/40], Iter [141/145] Loss: 3.8689\n"
     ]
    },
    {
     "name": "stderr",
     "output_type": "stream",
     "text": [
      "  2%|▎         | 1/40 [00:22<07:25, 11.43s/it]"
     ]
    },
    {
     "name": "stdout",
     "output_type": "stream",
     "text": [
      "Epoch [2/40], Iter [142/145] Loss: 3.6258\n",
      "Epoch [2/40], Iter [143/145] Loss: 3.8715\n",
      "Epoch [2/40], Iter [144/145] Loss: 3.9680\n"
     ]
    },
    {
     "name": "stderr",
     "output_type": "stream",
     "text": [
      "  5%|▌         | 2/40 [00:22<07:10, 11.33s/it]"
     ]
    },
    {
     "name": "stdout",
     "output_type": "stream",
     "text": [
      "Epoch [2/40], Iter [145/145] Loss: 3.6473\n"
     ]
    },
    {
     "name": "stderr",
     "output_type": "stream",
     "text": [
      "  5%|▌         | 2/40 [00:23<07:10, 11.33s/it]"
     ]
    },
    {
     "name": "stdout",
     "output_type": "stream",
     "text": [
      "Epoch [3/40], Iter [1/145] Loss: 3.8926\n",
      "Epoch [3/40], Iter [2/145] Loss: 3.7772\n",
      "Epoch [3/40], Iter [3/145] Loss: 3.7917\n"
     ]
    },
    {
     "name": "stderr",
     "output_type": "stream",
     "text": [
      "  5%|▌         | 2/40 [00:23<07:10, 11.33s/it]"
     ]
    },
    {
     "name": "stdout",
     "output_type": "stream",
     "text": [
      "Epoch [3/40], Iter [4/145] Loss: 3.8622\n",
      "Epoch [3/40], Iter [5/145] Loss: 3.8308\n",
      "Epoch [3/40], Iter [6/145] Loss: 3.6968\n"
     ]
    },
    {
     "name": "stderr",
     "output_type": "stream",
     "text": [
      "  5%|▌         | 2/40 [00:23<07:10, 11.33s/it]"
     ]
    },
    {
     "name": "stdout",
     "output_type": "stream",
     "text": [
      "Epoch [3/40], Iter [7/145] Loss: 3.7560\n",
      "Epoch [3/40], Iter [8/145] Loss: 3.8769\n",
      "Epoch [3/40], Iter [9/145] Loss: 3.6181\n"
     ]
    },
    {
     "name": "stderr",
     "output_type": "stream",
     "text": [
      "  5%|▌         | 2/40 [00:23<07:10, 11.33s/it]"
     ]
    },
    {
     "name": "stdout",
     "output_type": "stream",
     "text": [
      "Epoch [3/40], Iter [10/145] Loss: 3.8264\n",
      "Epoch [3/40], Iter [11/145] Loss: 3.7286\n",
      "Epoch [3/40], Iter [12/145] Loss: 3.5814\n"
     ]
    },
    {
     "name": "stderr",
     "output_type": "stream",
     "text": [
      "  5%|▌         | 2/40 [00:23<07:10, 11.33s/it]"
     ]
    },
    {
     "name": "stdout",
     "output_type": "stream",
     "text": [
      "Epoch [3/40], Iter [13/145] Loss: 3.8402\n",
      "Epoch [3/40], Iter [14/145] Loss: 3.9678\n",
      "Epoch [3/40], Iter [15/145] Loss: 3.8883\n"
     ]
    },
    {
     "name": "stderr",
     "output_type": "stream",
     "text": [
      "  5%|▌         | 2/40 [00:24<07:10, 11.33s/it]"
     ]
    },
    {
     "name": "stdout",
     "output_type": "stream",
     "text": [
      "Epoch [3/40], Iter [16/145] Loss: 3.8183\n",
      "Epoch [3/40], Iter [17/145] Loss: 4.1298\n",
      "Epoch [3/40], Iter [18/145] Loss: 3.5738\n"
     ]
    },
    {
     "name": "stderr",
     "output_type": "stream",
     "text": [
      "  5%|▌         | 2/40 [00:24<07:10, 11.33s/it]"
     ]
    },
    {
     "name": "stdout",
     "output_type": "stream",
     "text": [
      "Epoch [3/40], Iter [19/145] Loss: 3.7928\n",
      "Epoch [3/40], Iter [20/145] Loss: 3.7149\n",
      "Epoch [3/40], Iter [21/145] Loss: 3.7620\n"
     ]
    },
    {
     "name": "stderr",
     "output_type": "stream",
     "text": [
      "  5%|▌         | 2/40 [00:24<07:10, 11.33s/it]"
     ]
    },
    {
     "name": "stdout",
     "output_type": "stream",
     "text": [
      "Epoch [3/40], Iter [22/145] Loss: 3.6614\n",
      "Epoch [3/40], Iter [23/145] Loss: 4.0108\n",
      "Epoch [3/40], Iter [24/145] Loss: 3.8647\n"
     ]
    },
    {
     "name": "stderr",
     "output_type": "stream",
     "text": [
      "  5%|▌         | 2/40 [00:24<07:10, 11.33s/it]"
     ]
    },
    {
     "name": "stdout",
     "output_type": "stream",
     "text": [
      "Epoch [3/40], Iter [25/145] Loss: 3.7183\n",
      "Epoch [3/40], Iter [26/145] Loss: 3.7432\n",
      "Epoch [3/40], Iter [27/145] Loss: 3.8874\n"
     ]
    },
    {
     "name": "stderr",
     "output_type": "stream",
     "text": [
      "  5%|▌         | 2/40 [00:25<07:10, 11.33s/it]"
     ]
    },
    {
     "name": "stdout",
     "output_type": "stream",
     "text": [
      "Epoch [3/40], Iter [28/145] Loss: 3.8212\n",
      "Epoch [3/40], Iter [29/145] Loss: 4.0318\n",
      "Epoch [3/40], Iter [30/145] Loss: 3.8309\n"
     ]
    },
    {
     "name": "stderr",
     "output_type": "stream",
     "text": [
      "  5%|▌         | 2/40 [00:25<07:10, 11.33s/it]"
     ]
    },
    {
     "name": "stdout",
     "output_type": "stream",
     "text": [
      "Epoch [3/40], Iter [31/145] Loss: 3.7823\n",
      "Epoch [3/40], Iter [32/145] Loss: 3.7116\n",
      "Epoch [3/40], Iter [33/145] Loss: 4.1093\n"
     ]
    },
    {
     "name": "stderr",
     "output_type": "stream",
     "text": [
      "  5%|▌         | 2/40 [00:25<07:10, 11.33s/it]"
     ]
    },
    {
     "name": "stdout",
     "output_type": "stream",
     "text": [
      "Epoch [3/40], Iter [34/145] Loss: 3.6074\n",
      "Epoch [3/40], Iter [35/145] Loss: 3.9143\n",
      "Epoch [3/40], Iter [36/145] Loss: 3.9526\n"
     ]
    },
    {
     "name": "stderr",
     "output_type": "stream",
     "text": [
      "  5%|▌         | 2/40 [00:25<07:10, 11.33s/it]"
     ]
    },
    {
     "name": "stdout",
     "output_type": "stream",
     "text": [
      "Epoch [3/40], Iter [37/145] Loss: 3.7726\n",
      "Epoch [3/40], Iter [38/145] Loss: 3.6780\n",
      "Epoch [3/40], Iter [39/145] Loss: 3.7293\n"
     ]
    },
    {
     "name": "stderr",
     "output_type": "stream",
     "text": [
      "  5%|▌         | 2/40 [00:25<07:10, 11.33s/it]"
     ]
    },
    {
     "name": "stdout",
     "output_type": "stream",
     "text": [
      "Epoch [3/40], Iter [40/145] Loss: 3.9002\n",
      "Epoch [3/40], Iter [41/145] Loss: 3.6255\n",
      "Epoch [3/40], Iter [42/145] Loss: 3.8863\n"
     ]
    },
    {
     "name": "stderr",
     "output_type": "stream",
     "text": [
      "  5%|▌         | 2/40 [00:26<07:10, 11.33s/it]"
     ]
    },
    {
     "name": "stdout",
     "output_type": "stream",
     "text": [
      "Epoch [3/40], Iter [43/145] Loss: 3.8271\n",
      "Epoch [3/40], Iter [44/145] Loss: 3.8376\n",
      "Epoch [3/40], Iter [45/145] Loss: 4.1087\n"
     ]
    },
    {
     "name": "stderr",
     "output_type": "stream",
     "text": [
      "  5%|▌         | 2/40 [00:26<07:10, 11.33s/it]"
     ]
    },
    {
     "name": "stdout",
     "output_type": "stream",
     "text": [
      "Epoch [3/40], Iter [46/145] Loss: 3.9620\n",
      "Epoch [3/40], Iter [47/145] Loss: 3.8019\n",
      "Epoch [3/40], Iter [48/145] Loss: 3.8277\n"
     ]
    },
    {
     "name": "stderr",
     "output_type": "stream",
     "text": [
      "  5%|▌         | 2/40 [00:26<07:10, 11.33s/it]"
     ]
    },
    {
     "name": "stdout",
     "output_type": "stream",
     "text": [
      "Epoch [3/40], Iter [49/145] Loss: 3.7742\n",
      "Epoch [3/40], Iter [50/145] Loss: 4.0274\n",
      "Epoch [3/40], Iter [51/145] Loss: 3.9546\n"
     ]
    },
    {
     "name": "stderr",
     "output_type": "stream",
     "text": [
      "  5%|▌         | 2/40 [00:26<07:10, 11.33s/it]"
     ]
    },
    {
     "name": "stdout",
     "output_type": "stream",
     "text": [
      "Epoch [3/40], Iter [52/145] Loss: 3.7577\n",
      "Epoch [3/40], Iter [53/145] Loss: 3.6459\n",
      "Epoch [3/40], Iter [54/145] Loss: 3.6915\n"
     ]
    },
    {
     "name": "stderr",
     "output_type": "stream",
     "text": [
      "  5%|▌         | 2/40 [00:27<07:10, 11.33s/it]"
     ]
    },
    {
     "name": "stdout",
     "output_type": "stream",
     "text": [
      "Epoch [3/40], Iter [55/145] Loss: 3.8572\n",
      "Epoch [3/40], Iter [56/145] Loss: 3.8992\n",
      "Epoch [3/40], Iter [57/145] Loss: 3.7570\n"
     ]
    },
    {
     "name": "stderr",
     "output_type": "stream",
     "text": [
      "  5%|▌         | 2/40 [00:27<07:10, 11.33s/it]"
     ]
    },
    {
     "name": "stdout",
     "output_type": "stream",
     "text": [
      "Epoch [3/40], Iter [58/145] Loss: 3.7869\n",
      "Epoch [3/40], Iter [59/145] Loss: 4.0393\n",
      "Epoch [3/40], Iter [60/145] Loss: 3.6224\n"
     ]
    },
    {
     "name": "stderr",
     "output_type": "stream",
     "text": [
      "  5%|▌         | 2/40 [00:27<07:10, 11.33s/it]"
     ]
    },
    {
     "name": "stdout",
     "output_type": "stream",
     "text": [
      "Epoch [3/40], Iter [61/145] Loss: 3.7802\n",
      "Epoch [3/40], Iter [62/145] Loss: 3.6846\n",
      "Epoch [3/40], Iter [63/145] Loss: 3.7143\n"
     ]
    },
    {
     "name": "stderr",
     "output_type": "stream",
     "text": [
      "  5%|▌         | 2/40 [00:27<07:10, 11.33s/it]"
     ]
    },
    {
     "name": "stdout",
     "output_type": "stream",
     "text": [
      "Epoch [3/40], Iter [64/145] Loss: 3.8007\n",
      "Epoch [3/40], Iter [65/145] Loss: 4.0333\n",
      "Epoch [3/40], Iter [66/145] Loss: 4.0895\n"
     ]
    },
    {
     "name": "stderr",
     "output_type": "stream",
     "text": [
      "  5%|▌         | 2/40 [00:28<07:10, 11.33s/it]"
     ]
    },
    {
     "name": "stdout",
     "output_type": "stream",
     "text": [
      "Epoch [3/40], Iter [67/145] Loss: 3.9350\n",
      "Epoch [3/40], Iter [68/145] Loss: 3.9924\n",
      "Epoch [3/40], Iter [69/145] Loss: 3.7993\n"
     ]
    },
    {
     "name": "stderr",
     "output_type": "stream",
     "text": [
      "  5%|▌         | 2/40 [00:28<07:10, 11.33s/it]"
     ]
    },
    {
     "name": "stdout",
     "output_type": "stream",
     "text": [
      "Epoch [3/40], Iter [70/145] Loss: 3.8865\n",
      "Epoch [3/40], Iter [71/145] Loss: 3.6073\n",
      "Epoch [3/40], Iter [72/145] Loss: 3.8006\n"
     ]
    },
    {
     "name": "stderr",
     "output_type": "stream",
     "text": [
      "  5%|▌         | 2/40 [00:28<07:10, 11.33s/it]"
     ]
    },
    {
     "name": "stdout",
     "output_type": "stream",
     "text": [
      "Epoch [3/40], Iter [73/145] Loss: 3.8100\n",
      "Epoch [3/40], Iter [74/145] Loss: 3.8588\n",
      "Epoch [3/40], Iter [75/145] Loss: 3.9282\n"
     ]
    },
    {
     "name": "stderr",
     "output_type": "stream",
     "text": [
      "  5%|▌         | 2/40 [00:28<07:10, 11.33s/it]"
     ]
    },
    {
     "name": "stdout",
     "output_type": "stream",
     "text": [
      "Epoch [3/40], Iter [76/145] Loss: 3.5184\n",
      "Epoch [3/40], Iter [77/145] Loss: 3.9729\n",
      "Epoch [3/40], Iter [78/145] Loss: 3.8681\n"
     ]
    },
    {
     "name": "stderr",
     "output_type": "stream",
     "text": [
      "  5%|▌         | 2/40 [00:28<07:10, 11.33s/it]"
     ]
    },
    {
     "name": "stdout",
     "output_type": "stream",
     "text": [
      "Epoch [3/40], Iter [79/145] Loss: 3.5439\n",
      "Epoch [3/40], Iter [80/145] Loss: 3.4970\n",
      "Epoch [3/40], Iter [81/145] Loss: 3.7723\n"
     ]
    },
    {
     "name": "stderr",
     "output_type": "stream",
     "text": [
      "  5%|▌         | 2/40 [00:29<07:10, 11.33s/it]"
     ]
    },
    {
     "name": "stdout",
     "output_type": "stream",
     "text": [
      "Epoch [3/40], Iter [82/145] Loss: 3.9177\n",
      "Epoch [3/40], Iter [83/145] Loss: 3.6915\n",
      "Epoch [3/40], Iter [84/145] Loss: 3.1470\n"
     ]
    },
    {
     "name": "stderr",
     "output_type": "stream",
     "text": [
      "  5%|▌         | 2/40 [00:29<07:10, 11.33s/it]"
     ]
    },
    {
     "name": "stdout",
     "output_type": "stream",
     "text": [
      "Epoch [3/40], Iter [85/145] Loss: 3.8932\n",
      "Epoch [3/40], Iter [86/145] Loss: 4.1850\n",
      "Epoch [3/40], Iter [87/145] Loss: 4.0387\n"
     ]
    },
    {
     "name": "stderr",
     "output_type": "stream",
     "text": [
      "  5%|▌         | 2/40 [00:29<07:10, 11.33s/it]"
     ]
    },
    {
     "name": "stdout",
     "output_type": "stream",
     "text": [
      "Epoch [3/40], Iter [88/145] Loss: 4.0001\n",
      "Epoch [3/40], Iter [89/145] Loss: 3.8459\n",
      "Epoch [3/40], Iter [90/145] Loss: 4.0340\n"
     ]
    },
    {
     "name": "stderr",
     "output_type": "stream",
     "text": [
      "  5%|▌         | 2/40 [00:29<07:10, 11.33s/it]"
     ]
    },
    {
     "name": "stdout",
     "output_type": "stream",
     "text": [
      "Epoch [3/40], Iter [91/145] Loss: 3.9795\n",
      "Epoch [3/40], Iter [92/145] Loss: 3.6785\n",
      "Epoch [3/40], Iter [93/145] Loss: 3.8781\n"
     ]
    },
    {
     "name": "stderr",
     "output_type": "stream",
     "text": [
      "  5%|▌         | 2/40 [00:30<07:10, 11.33s/it]"
     ]
    },
    {
     "name": "stdout",
     "output_type": "stream",
     "text": [
      "Epoch [3/40], Iter [94/145] Loss: 3.8133\n",
      "Epoch [3/40], Iter [95/145] Loss: 3.9230\n",
      "Epoch [3/40], Iter [96/145] Loss: 3.9624\n"
     ]
    },
    {
     "name": "stderr",
     "output_type": "stream",
     "text": [
      "  5%|▌         | 2/40 [00:30<07:10, 11.33s/it]"
     ]
    },
    {
     "name": "stdout",
     "output_type": "stream",
     "text": [
      "Epoch [3/40], Iter [97/145] Loss: 3.9074\n",
      "Epoch [3/40], Iter [98/145] Loss: 3.8996\n",
      "Epoch [3/40], Iter [99/145] Loss: 3.8874\n"
     ]
    },
    {
     "name": "stderr",
     "output_type": "stream",
     "text": [
      "  5%|▌         | 2/40 [00:30<07:10, 11.33s/it]"
     ]
    },
    {
     "name": "stdout",
     "output_type": "stream",
     "text": [
      "Epoch [3/40], Iter [100/145] Loss: 3.8394\n",
      "Epoch [3/40], Iter [101/145] Loss: 3.8481\n",
      "Epoch [3/40], Iter [102/145] Loss: 3.8762\n"
     ]
    },
    {
     "name": "stderr",
     "output_type": "stream",
     "text": [
      "  5%|▌         | 2/40 [00:30<07:10, 11.33s/it]"
     ]
    },
    {
     "name": "stdout",
     "output_type": "stream",
     "text": [
      "Epoch [3/40], Iter [103/145] Loss: 3.5981\n",
      "Epoch [3/40], Iter [104/145] Loss: 3.8112\n",
      "Epoch [3/40], Iter [105/145] Loss: 4.1160\n"
     ]
    },
    {
     "name": "stderr",
     "output_type": "stream",
     "text": [
      "  5%|▌         | 2/40 [00:30<07:10, 11.33s/it]"
     ]
    },
    {
     "name": "stdout",
     "output_type": "stream",
     "text": [
      "Epoch [3/40], Iter [106/145] Loss: 3.9844\n",
      "Epoch [3/40], Iter [107/145] Loss: 3.9261\n",
      "Epoch [3/40], Iter [108/145] Loss: 3.7599\n"
     ]
    },
    {
     "name": "stderr",
     "output_type": "stream",
     "text": [
      "  5%|▌         | 2/40 [00:31<07:10, 11.33s/it]"
     ]
    },
    {
     "name": "stdout",
     "output_type": "stream",
     "text": [
      "Epoch [3/40], Iter [109/145] Loss: 3.9674\n",
      "Epoch [3/40], Iter [110/145] Loss: 3.8322\n",
      "Epoch [3/40], Iter [111/145] Loss: 3.7911\n"
     ]
    },
    {
     "name": "stderr",
     "output_type": "stream",
     "text": [
      "  5%|▌         | 2/40 [00:31<07:10, 11.33s/it]"
     ]
    },
    {
     "name": "stdout",
     "output_type": "stream",
     "text": [
      "Epoch [3/40], Iter [112/145] Loss: 3.9482\n",
      "Epoch [3/40], Iter [113/145] Loss: 3.7844\n",
      "Epoch [3/40], Iter [114/145] Loss: 3.7409\n"
     ]
    },
    {
     "name": "stderr",
     "output_type": "stream",
     "text": [
      "  5%|▌         | 2/40 [00:31<07:10, 11.33s/it]"
     ]
    },
    {
     "name": "stdout",
     "output_type": "stream",
     "text": [
      "Epoch [3/40], Iter [115/145] Loss: 3.7414\n",
      "Epoch [3/40], Iter [116/145] Loss: 3.8383\n",
      "Epoch [3/40], Iter [117/145] Loss: 3.9401\n"
     ]
    },
    {
     "name": "stderr",
     "output_type": "stream",
     "text": [
      "  5%|▌         | 2/40 [00:31<07:10, 11.33s/it]"
     ]
    },
    {
     "name": "stdout",
     "output_type": "stream",
     "text": [
      "Epoch [3/40], Iter [118/145] Loss: 3.9527\n",
      "Epoch [3/40], Iter [119/145] Loss: 3.8487\n",
      "Epoch [3/40], Iter [120/145] Loss: 3.9297\n"
     ]
    },
    {
     "name": "stderr",
     "output_type": "stream",
     "text": [
      "  5%|▌         | 2/40 [00:32<07:10, 11.33s/it]"
     ]
    },
    {
     "name": "stdout",
     "output_type": "stream",
     "text": [
      "Epoch [3/40], Iter [121/145] Loss: 3.7506\n",
      "Epoch [3/40], Iter [122/145] Loss: 3.8874\n",
      "Epoch [3/40], Iter [123/145] Loss: 3.8157\n"
     ]
    },
    {
     "name": "stderr",
     "output_type": "stream",
     "text": [
      "  5%|▌         | 2/40 [00:32<07:10, 11.33s/it]"
     ]
    },
    {
     "name": "stdout",
     "output_type": "stream",
     "text": [
      "Epoch [3/40], Iter [124/145] Loss: 3.6053\n",
      "Epoch [3/40], Iter [125/145] Loss: 4.0847\n",
      "Epoch [3/40], Iter [126/145] Loss: 3.8647\n"
     ]
    },
    {
     "name": "stderr",
     "output_type": "stream",
     "text": [
      "  5%|▌         | 2/40 [00:32<07:10, 11.33s/it]"
     ]
    },
    {
     "name": "stdout",
     "output_type": "stream",
     "text": [
      "Epoch [3/40], Iter [127/145] Loss: 3.8290\n",
      "Epoch [3/40], Iter [128/145] Loss: 3.7509\n",
      "Epoch [3/40], Iter [129/145] Loss: 3.9150\n"
     ]
    },
    {
     "name": "stderr",
     "output_type": "stream",
     "text": [
      "  5%|▌         | 2/40 [00:32<07:10, 11.33s/it]"
     ]
    },
    {
     "name": "stdout",
     "output_type": "stream",
     "text": [
      "Epoch [3/40], Iter [130/145] Loss: 3.6027\n",
      "Epoch [3/40], Iter [131/145] Loss: 4.0370\n",
      "Epoch [3/40], Iter [132/145] Loss: 3.7777\n"
     ]
    },
    {
     "name": "stderr",
     "output_type": "stream",
     "text": [
      "  5%|▌         | 2/40 [00:33<07:10, 11.33s/it]"
     ]
    },
    {
     "name": "stdout",
     "output_type": "stream",
     "text": [
      "Epoch [3/40], Iter [133/145] Loss: 3.8063\n",
      "Epoch [3/40], Iter [134/145] Loss: 3.6566\n",
      "Epoch [3/40], Iter [135/145] Loss: 3.9577\n"
     ]
    },
    {
     "name": "stderr",
     "output_type": "stream",
     "text": [
      "  5%|▌         | 2/40 [00:33<07:10, 11.33s/it]"
     ]
    },
    {
     "name": "stdout",
     "output_type": "stream",
     "text": [
      "Epoch [3/40], Iter [136/145] Loss: 4.2439\n",
      "Epoch [3/40], Iter [137/145] Loss: 4.0038\n",
      "Epoch [3/40], Iter [138/145] Loss: 3.8338\n"
     ]
    },
    {
     "name": "stderr",
     "output_type": "stream",
     "text": [
      "  5%|▌         | 2/40 [00:33<07:10, 11.33s/it]"
     ]
    },
    {
     "name": "stdout",
     "output_type": "stream",
     "text": [
      "Epoch [3/40], Iter [139/145] Loss: 3.7727\n",
      "Epoch [3/40], Iter [140/145] Loss: 3.7875\n",
      "Epoch [3/40], Iter [141/145] Loss: 3.9129\n"
     ]
    },
    {
     "name": "stderr",
     "output_type": "stream",
     "text": [
      "  5%|▌         | 2/40 [00:33<07:10, 11.33s/it]"
     ]
    },
    {
     "name": "stdout",
     "output_type": "stream",
     "text": [
      "Epoch [3/40], Iter [142/145] Loss: 4.0269\n",
      "Epoch [3/40], Iter [143/145] Loss: 3.9515\n",
      "Epoch [3/40], Iter [144/145] Loss: 4.0147\n"
     ]
    },
    {
     "name": "stderr",
     "output_type": "stream",
     "text": [
      "  8%|▊         | 3/40 [00:33<06:55, 11.22s/it]"
     ]
    },
    {
     "name": "stdout",
     "output_type": "stream",
     "text": [
      "Epoch [3/40], Iter [145/145] Loss: 3.9111\n"
     ]
    },
    {
     "name": "stderr",
     "output_type": "stream",
     "text": [
      "  8%|▊         | 3/40 [00:34<06:55, 11.22s/it]"
     ]
    },
    {
     "name": "stdout",
     "output_type": "stream",
     "text": [
      "Epoch [4/40], Iter [1/145] Loss: 3.7936\n",
      "Epoch [4/40], Iter [2/145] Loss: 3.9213\n",
      "Epoch [4/40], Iter [3/145] Loss: 4.0468\n"
     ]
    },
    {
     "name": "stderr",
     "output_type": "stream",
     "text": [
      "  8%|▊         | 3/40 [00:34<06:55, 11.22s/it]"
     ]
    },
    {
     "name": "stdout",
     "output_type": "stream",
     "text": [
      "Epoch [4/40], Iter [4/145] Loss: 3.7137\n",
      "Epoch [4/40], Iter [5/145] Loss: 3.6330\n",
      "Epoch [4/40], Iter [6/145] Loss: 3.7385\n"
     ]
    },
    {
     "name": "stderr",
     "output_type": "stream",
     "text": [
      "  8%|▊         | 3/40 [00:34<06:55, 11.22s/it]"
     ]
    },
    {
     "name": "stdout",
     "output_type": "stream",
     "text": [
      "Epoch [4/40], Iter [7/145] Loss: 3.6872\n",
      "Epoch [4/40], Iter [8/145] Loss: 3.9249\n",
      "Epoch [4/40], Iter [9/145] Loss: 3.7905\n"
     ]
    },
    {
     "name": "stderr",
     "output_type": "stream",
     "text": [
      "  8%|▊         | 3/40 [00:34<06:55, 11.22s/it]"
     ]
    },
    {
     "name": "stdout",
     "output_type": "stream",
     "text": [
      "Epoch [4/40], Iter [10/145] Loss: 3.7019\n",
      "Epoch [4/40], Iter [11/145] Loss: 3.8630\n",
      "Epoch [4/40], Iter [12/145] Loss: 3.6291\n"
     ]
    },
    {
     "name": "stderr",
     "output_type": "stream",
     "text": [
      "  8%|▊         | 3/40 [00:35<06:55, 11.22s/it]"
     ]
    },
    {
     "name": "stdout",
     "output_type": "stream",
     "text": [
      "Epoch [4/40], Iter [13/145] Loss: 3.8905\n",
      "Epoch [4/40], Iter [14/145] Loss: 4.0362\n",
      "Epoch [4/40], Iter [15/145] Loss: 3.5208\n"
     ]
    },
    {
     "name": "stderr",
     "output_type": "stream",
     "text": [
      "  8%|▊         | 3/40 [00:35<06:55, 11.22s/it]"
     ]
    },
    {
     "name": "stdout",
     "output_type": "stream",
     "text": [
      "Epoch [4/40], Iter [16/145] Loss: 3.6464\n",
      "Epoch [4/40], Iter [17/145] Loss: 4.1188\n",
      "Epoch [4/40], Iter [18/145] Loss: 3.7082\n"
     ]
    },
    {
     "name": "stderr",
     "output_type": "stream",
     "text": [
      "  8%|▊         | 3/40 [00:35<06:55, 11.22s/it]"
     ]
    },
    {
     "name": "stdout",
     "output_type": "stream",
     "text": [
      "Epoch [4/40], Iter [19/145] Loss: 3.6319\n",
      "Epoch [4/40], Iter [20/145] Loss: 3.9060\n",
      "Epoch [4/40], Iter [21/145] Loss: 3.6144\n"
     ]
    },
    {
     "name": "stderr",
     "output_type": "stream",
     "text": [
      "  8%|▊         | 3/40 [00:35<06:55, 11.22s/it]"
     ]
    },
    {
     "name": "stdout",
     "output_type": "stream",
     "text": [
      "Epoch [4/40], Iter [22/145] Loss: 3.9164\n",
      "Epoch [4/40], Iter [23/145] Loss: 3.7662\n",
      "Epoch [4/40], Iter [24/145] Loss: 3.7948\n"
     ]
    },
    {
     "name": "stderr",
     "output_type": "stream",
     "text": [
      "  8%|▊         | 3/40 [00:36<06:55, 11.22s/it]"
     ]
    },
    {
     "name": "stdout",
     "output_type": "stream",
     "text": [
      "Epoch [4/40], Iter [25/145] Loss: 3.8099\n",
      "Epoch [4/40], Iter [26/145] Loss: 3.8944\n",
      "Epoch [4/40], Iter [27/145] Loss: 3.8939\n"
     ]
    },
    {
     "name": "stderr",
     "output_type": "stream",
     "text": [
      "  8%|▊         | 3/40 [00:36<06:55, 11.22s/it]"
     ]
    },
    {
     "name": "stdout",
     "output_type": "stream",
     "text": [
      "Epoch [4/40], Iter [28/145] Loss: 3.6451\n",
      "Epoch [4/40], Iter [29/145] Loss: 3.7777\n",
      "Epoch [4/40], Iter [30/145] Loss: 3.9832\n"
     ]
    },
    {
     "name": "stderr",
     "output_type": "stream",
     "text": [
      "  8%|▊         | 3/40 [00:36<06:55, 11.22s/it]"
     ]
    },
    {
     "name": "stdout",
     "output_type": "stream",
     "text": [
      "Epoch [4/40], Iter [31/145] Loss: 3.9680\n",
      "Epoch [4/40], Iter [32/145] Loss: 3.8982\n",
      "Epoch [4/40], Iter [33/145] Loss: 3.9049\n"
     ]
    },
    {
     "name": "stderr",
     "output_type": "stream",
     "text": [
      "  8%|▊         | 3/40 [00:36<06:55, 11.22s/it]"
     ]
    },
    {
     "name": "stdout",
     "output_type": "stream",
     "text": [
      "Epoch [4/40], Iter [34/145] Loss: 3.8060\n",
      "Epoch [4/40], Iter [35/145] Loss: 3.9153\n",
      "Epoch [4/40], Iter [36/145] Loss: 3.7755\n"
     ]
    },
    {
     "name": "stderr",
     "output_type": "stream",
     "text": [
      "  8%|▊         | 3/40 [00:36<06:55, 11.22s/it]"
     ]
    },
    {
     "name": "stdout",
     "output_type": "stream",
     "text": [
      "Epoch [4/40], Iter [37/145] Loss: 3.4614\n",
      "Epoch [4/40], Iter [38/145] Loss: 4.0293\n",
      "Epoch [4/40], Iter [39/145] Loss: 3.7380\n"
     ]
    },
    {
     "name": "stderr",
     "output_type": "stream",
     "text": [
      "  8%|▊         | 3/40 [00:37<06:55, 11.22s/it]"
     ]
    },
    {
     "name": "stdout",
     "output_type": "stream",
     "text": [
      "Epoch [4/40], Iter [40/145] Loss: 3.7994\n",
      "Epoch [4/40], Iter [41/145] Loss: 3.7867\n",
      "Epoch [4/40], Iter [42/145] Loss: 3.8622\n"
     ]
    },
    {
     "name": "stderr",
     "output_type": "stream",
     "text": [
      "  8%|▊         | 3/40 [00:37<06:55, 11.22s/it]"
     ]
    },
    {
     "name": "stdout",
     "output_type": "stream",
     "text": [
      "Epoch [4/40], Iter [43/145] Loss: 3.8890\n",
      "Epoch [4/40], Iter [44/145] Loss: 3.6666\n",
      "Epoch [4/40], Iter [45/145] Loss: 3.3836\n"
     ]
    },
    {
     "name": "stderr",
     "output_type": "stream",
     "text": [
      "  8%|▊         | 3/40 [00:37<06:55, 11.22s/it]"
     ]
    },
    {
     "name": "stdout",
     "output_type": "stream",
     "text": [
      "Epoch [4/40], Iter [46/145] Loss: 3.7480\n",
      "Epoch [4/40], Iter [47/145] Loss: 3.8451\n",
      "Epoch [4/40], Iter [48/145] Loss: 4.1497\n"
     ]
    },
    {
     "name": "stderr",
     "output_type": "stream",
     "text": [
      "  8%|▊         | 3/40 [00:37<06:55, 11.22s/it]"
     ]
    },
    {
     "name": "stdout",
     "output_type": "stream",
     "text": [
      "Epoch [4/40], Iter [49/145] Loss: 3.8137\n",
      "Epoch [4/40], Iter [50/145] Loss: 4.0200\n",
      "Epoch [4/40], Iter [51/145] Loss: 4.0619\n"
     ]
    },
    {
     "name": "stderr",
     "output_type": "stream",
     "text": [
      "  8%|▊         | 3/40 [00:38<06:55, 11.22s/it]"
     ]
    },
    {
     "name": "stdout",
     "output_type": "stream",
     "text": [
      "Epoch [4/40], Iter [52/145] Loss: 3.8712\n",
      "Epoch [4/40], Iter [53/145] Loss: 3.8361\n",
      "Epoch [4/40], Iter [54/145] Loss: 3.7066\n"
     ]
    },
    {
     "name": "stderr",
     "output_type": "stream",
     "text": [
      "  8%|▊         | 3/40 [00:38<06:55, 11.22s/it]"
     ]
    },
    {
     "name": "stdout",
     "output_type": "stream",
     "text": [
      "Epoch [4/40], Iter [55/145] Loss: 3.9665\n",
      "Epoch [4/40], Iter [56/145] Loss: 3.7191\n",
      "Epoch [4/40], Iter [57/145] Loss: 3.8829\n"
     ]
    },
    {
     "name": "stderr",
     "output_type": "stream",
     "text": [
      "  8%|▊         | 3/40 [00:38<06:55, 11.22s/it]"
     ]
    },
    {
     "name": "stdout",
     "output_type": "stream",
     "text": [
      "Epoch [4/40], Iter [58/145] Loss: 3.8710\n",
      "Epoch [4/40], Iter [59/145] Loss: 3.6666\n",
      "Epoch [4/40], Iter [60/145] Loss: 3.9992\n"
     ]
    },
    {
     "name": "stderr",
     "output_type": "stream",
     "text": [
      "  8%|▊         | 3/40 [00:38<06:55, 11.22s/it]"
     ]
    },
    {
     "name": "stdout",
     "output_type": "stream",
     "text": [
      "Epoch [4/40], Iter [61/145] Loss: 3.7612\n",
      "Epoch [4/40], Iter [62/145] Loss: 3.6798\n",
      "Epoch [4/40], Iter [63/145] Loss: 3.8691\n"
     ]
    },
    {
     "name": "stderr",
     "output_type": "stream",
     "text": [
      "  8%|▊         | 3/40 [00:38<06:55, 11.22s/it]"
     ]
    },
    {
     "name": "stdout",
     "output_type": "stream",
     "text": [
      "Epoch [4/40], Iter [64/145] Loss: 3.8181\n",
      "Epoch [4/40], Iter [65/145] Loss: 3.7272\n",
      "Epoch [4/40], Iter [66/145] Loss: 3.8419\n"
     ]
    },
    {
     "name": "stderr",
     "output_type": "stream",
     "text": [
      "  8%|▊         | 3/40 [00:39<06:55, 11.22s/it]"
     ]
    },
    {
     "name": "stdout",
     "output_type": "stream",
     "text": [
      "Epoch [4/40], Iter [67/145] Loss: 3.7972\n",
      "Epoch [4/40], Iter [68/145] Loss: 3.9540\n",
      "Epoch [4/40], Iter [69/145] Loss: 3.9775\n"
     ]
    },
    {
     "name": "stderr",
     "output_type": "stream",
     "text": [
      "  8%|▊         | 3/40 [00:39<06:55, 11.22s/it]"
     ]
    },
    {
     "name": "stdout",
     "output_type": "stream",
     "text": [
      "Epoch [4/40], Iter [70/145] Loss: 4.0097\n",
      "Epoch [4/40], Iter [71/145] Loss: 3.9437\n",
      "Epoch [4/40], Iter [72/145] Loss: 3.7958\n"
     ]
    },
    {
     "name": "stderr",
     "output_type": "stream",
     "text": [
      "  8%|▊         | 3/40 [00:39<06:55, 11.22s/it]"
     ]
    },
    {
     "name": "stdout",
     "output_type": "stream",
     "text": [
      "Epoch [4/40], Iter [73/145] Loss: 3.9176\n",
      "Epoch [4/40], Iter [74/145] Loss: 3.9239\n",
      "Epoch [4/40], Iter [75/145] Loss: 3.8746\n"
     ]
    },
    {
     "name": "stderr",
     "output_type": "stream",
     "text": [
      "  8%|▊         | 3/40 [00:39<06:55, 11.22s/it]"
     ]
    },
    {
     "name": "stdout",
     "output_type": "stream",
     "text": [
      "Epoch [4/40], Iter [76/145] Loss: 3.6528\n",
      "Epoch [4/40], Iter [77/145] Loss: 3.8374\n",
      "Epoch [4/40], Iter [78/145] Loss: 3.8931\n"
     ]
    },
    {
     "name": "stderr",
     "output_type": "stream",
     "text": [
      "  8%|▊         | 3/40 [00:40<06:55, 11.22s/it]"
     ]
    },
    {
     "name": "stdout",
     "output_type": "stream",
     "text": [
      "Epoch [4/40], Iter [79/145] Loss: 3.6961\n",
      "Epoch [4/40], Iter [80/145] Loss: 3.9797\n",
      "Epoch [4/40], Iter [81/145] Loss: 3.8400\n"
     ]
    },
    {
     "name": "stderr",
     "output_type": "stream",
     "text": [
      "  8%|▊         | 3/40 [00:40<06:55, 11.22s/it]"
     ]
    },
    {
     "name": "stdout",
     "output_type": "stream",
     "text": [
      "Epoch [4/40], Iter [82/145] Loss: 3.6985\n",
      "Epoch [4/40], Iter [83/145] Loss: 3.9472\n",
      "Epoch [4/40], Iter [84/145] Loss: 3.6795\n"
     ]
    },
    {
     "name": "stderr",
     "output_type": "stream",
     "text": [
      "  8%|▊         | 3/40 [00:40<06:55, 11.22s/it]"
     ]
    },
    {
     "name": "stdout",
     "output_type": "stream",
     "text": [
      "Epoch [4/40], Iter [85/145] Loss: 3.7323\n",
      "Epoch [4/40], Iter [86/145] Loss: 4.0148\n",
      "Epoch [4/40], Iter [87/145] Loss: 4.2217\n"
     ]
    },
    {
     "name": "stderr",
     "output_type": "stream",
     "text": [
      "  8%|▊         | 3/40 [00:40<06:55, 11.22s/it]"
     ]
    },
    {
     "name": "stdout",
     "output_type": "stream",
     "text": [
      "Epoch [4/40], Iter [88/145] Loss: 3.7937\n",
      "Epoch [4/40], Iter [89/145] Loss: 4.1948\n",
      "Epoch [4/40], Iter [90/145] Loss: 3.9450\n"
     ]
    },
    {
     "name": "stderr",
     "output_type": "stream",
     "text": [
      "  8%|▊         | 3/40 [00:40<06:55, 11.22s/it]"
     ]
    },
    {
     "name": "stdout",
     "output_type": "stream",
     "text": [
      "Epoch [4/40], Iter [91/145] Loss: 3.9716\n",
      "Epoch [4/40], Iter [92/145] Loss: 3.6925\n",
      "Epoch [4/40], Iter [93/145] Loss: 3.7673\n"
     ]
    },
    {
     "name": "stderr",
     "output_type": "stream",
     "text": [
      "  8%|▊         | 3/40 [00:41<06:55, 11.22s/it]"
     ]
    },
    {
     "name": "stdout",
     "output_type": "stream",
     "text": [
      "Epoch [4/40], Iter [94/145] Loss: 4.1139\n",
      "Epoch [4/40], Iter [95/145] Loss: 3.8475\n",
      "Epoch [4/40], Iter [96/145] Loss: 4.0022\n"
     ]
    },
    {
     "name": "stderr",
     "output_type": "stream",
     "text": [
      "  8%|▊         | 3/40 [00:41<06:55, 11.22s/it]"
     ]
    },
    {
     "name": "stdout",
     "output_type": "stream",
     "text": [
      "Epoch [4/40], Iter [97/145] Loss: 3.7746\n",
      "Epoch [4/40], Iter [98/145] Loss: 3.7929\n",
      "Epoch [4/40], Iter [99/145] Loss: 3.8008\n"
     ]
    },
    {
     "name": "stderr",
     "output_type": "stream",
     "text": [
      "  8%|▊         | 3/40 [00:41<06:55, 11.22s/it]"
     ]
    },
    {
     "name": "stdout",
     "output_type": "stream",
     "text": [
      "Epoch [4/40], Iter [100/145] Loss: 3.8448\n",
      "Epoch [4/40], Iter [101/145] Loss: 3.8533\n",
      "Epoch [4/40], Iter [102/145] Loss: 3.9632\n"
     ]
    },
    {
     "name": "stderr",
     "output_type": "stream",
     "text": [
      "  8%|▊         | 3/40 [00:41<06:55, 11.22s/it]"
     ]
    },
    {
     "name": "stdout",
     "output_type": "stream",
     "text": [
      "Epoch [4/40], Iter [103/145] Loss: 3.7905\n",
      "Epoch [4/40], Iter [104/145] Loss: 4.0313\n",
      "Epoch [4/40], Iter [105/145] Loss: 3.8989\n"
     ]
    },
    {
     "name": "stderr",
     "output_type": "stream",
     "text": [
      "  8%|▊         | 3/40 [00:42<06:55, 11.22s/it]"
     ]
    },
    {
     "name": "stdout",
     "output_type": "stream",
     "text": [
      "Epoch [4/40], Iter [106/145] Loss: 3.9323\n",
      "Epoch [4/40], Iter [107/145] Loss: 4.0778\n",
      "Epoch [4/40], Iter [108/145] Loss: 3.8519\n"
     ]
    },
    {
     "name": "stderr",
     "output_type": "stream",
     "text": [
      "  8%|▊         | 3/40 [00:42<06:55, 11.22s/it]"
     ]
    },
    {
     "name": "stdout",
     "output_type": "stream",
     "text": [
      "Epoch [4/40], Iter [109/145] Loss: 3.9398\n",
      "Epoch [4/40], Iter [110/145] Loss: 3.7266\n",
      "Epoch [4/40], Iter [111/145] Loss: 3.8346\n"
     ]
    },
    {
     "name": "stderr",
     "output_type": "stream",
     "text": [
      "  8%|▊         | 3/40 [00:42<06:55, 11.22s/it]"
     ]
    },
    {
     "name": "stdout",
     "output_type": "stream",
     "text": [
      "Epoch [4/40], Iter [112/145] Loss: 3.9760\n",
      "Epoch [4/40], Iter [113/145] Loss: 3.8276\n",
      "Epoch [4/40], Iter [114/145] Loss: 3.8802\n"
     ]
    },
    {
     "name": "stderr",
     "output_type": "stream",
     "text": [
      "  8%|▊         | 3/40 [00:42<06:55, 11.22s/it]"
     ]
    },
    {
     "name": "stdout",
     "output_type": "stream",
     "text": [
      "Epoch [4/40], Iter [115/145] Loss: 3.8300\n",
      "Epoch [4/40], Iter [116/145] Loss: 3.8403\n",
      "Epoch [4/40], Iter [117/145] Loss: 3.8260\n"
     ]
    },
    {
     "name": "stderr",
     "output_type": "stream",
     "text": [
      "  8%|▊         | 3/40 [00:43<06:55, 11.22s/it]"
     ]
    },
    {
     "name": "stdout",
     "output_type": "stream",
     "text": [
      "Epoch [4/40], Iter [118/145] Loss: 3.8030\n",
      "Epoch [4/40], Iter [119/145] Loss: 3.8112\n",
      "Epoch [4/40], Iter [120/145] Loss: 3.9653\n"
     ]
    },
    {
     "name": "stderr",
     "output_type": "stream",
     "text": [
      "  8%|▊         | 3/40 [00:43<06:55, 11.22s/it]"
     ]
    },
    {
     "name": "stdout",
     "output_type": "stream",
     "text": [
      "Epoch [4/40], Iter [121/145] Loss: 3.9853\n",
      "Epoch [4/40], Iter [122/145] Loss: 3.9038\n",
      "Epoch [4/40], Iter [123/145] Loss: 3.8812\n"
     ]
    },
    {
     "name": "stderr",
     "output_type": "stream",
     "text": [
      "  8%|▊         | 3/40 [00:43<06:55, 11.22s/it]"
     ]
    },
    {
     "name": "stdout",
     "output_type": "stream",
     "text": [
      "Epoch [4/40], Iter [124/145] Loss: 3.8409\n",
      "Epoch [4/40], Iter [125/145] Loss: 4.0429\n",
      "Epoch [4/40], Iter [126/145] Loss: 3.7054\n"
     ]
    },
    {
     "name": "stderr",
     "output_type": "stream",
     "text": [
      "  8%|▊         | 3/40 [00:43<06:55, 11.22s/it]"
     ]
    },
    {
     "name": "stdout",
     "output_type": "stream",
     "text": [
      "Epoch [4/40], Iter [127/145] Loss: 3.8322\n",
      "Epoch [4/40], Iter [128/145] Loss: 3.8419\n",
      "Epoch [4/40], Iter [129/145] Loss: 3.8288\n"
     ]
    },
    {
     "name": "stderr",
     "output_type": "stream",
     "text": [
      "  8%|▊         | 3/40 [00:43<06:55, 11.22s/it]"
     ]
    },
    {
     "name": "stdout",
     "output_type": "stream",
     "text": [
      "Epoch [4/40], Iter [130/145] Loss: 3.9934\n",
      "Epoch [4/40], Iter [131/145] Loss: 3.9770\n",
      "Epoch [4/40], Iter [132/145] Loss: 3.7045\n"
     ]
    },
    {
     "name": "stderr",
     "output_type": "stream",
     "text": [
      "  8%|▊         | 3/40 [00:44<06:55, 11.22s/it]"
     ]
    },
    {
     "name": "stdout",
     "output_type": "stream",
     "text": [
      "Epoch [4/40], Iter [133/145] Loss: 3.7110\n",
      "Epoch [4/40], Iter [134/145] Loss: 3.9934\n",
      "Epoch [4/40], Iter [135/145] Loss: 3.9366\n"
     ]
    },
    {
     "name": "stderr",
     "output_type": "stream",
     "text": [
      "  8%|▊         | 3/40 [00:44<06:55, 11.22s/it]"
     ]
    },
    {
     "name": "stdout",
     "output_type": "stream",
     "text": [
      "Epoch [4/40], Iter [136/145] Loss: 3.6311\n",
      "Epoch [4/40], Iter [137/145] Loss: 3.8770\n",
      "Epoch [4/40], Iter [138/145] Loss: 3.6999\n"
     ]
    },
    {
     "name": "stderr",
     "output_type": "stream",
     "text": [
      "  8%|▊         | 3/40 [00:44<06:55, 11.22s/it]"
     ]
    },
    {
     "name": "stdout",
     "output_type": "stream",
     "text": [
      "Epoch [4/40], Iter [139/145] Loss: 3.8017\n",
      "Epoch [4/40], Iter [140/145] Loss: 3.7580\n",
      "Epoch [4/40], Iter [141/145] Loss: 3.6277\n"
     ]
    },
    {
     "name": "stderr",
     "output_type": "stream",
     "text": [
      "  8%|▊         | 3/40 [00:44<06:55, 11.22s/it]"
     ]
    },
    {
     "name": "stdout",
     "output_type": "stream",
     "text": [
      "Epoch [4/40], Iter [142/145] Loss: 3.5708\n",
      "Epoch [4/40], Iter [143/145] Loss: 3.6594\n",
      "Epoch [4/40], Iter [144/145] Loss: 3.5386\n"
     ]
    },
    {
     "name": "stderr",
     "output_type": "stream",
     "text": [
      " 10%|█         | 4/40 [00:44<06:42, 11.19s/it]"
     ]
    },
    {
     "name": "stdout",
     "output_type": "stream",
     "text": [
      "Epoch [4/40], Iter [145/145] Loss: 3.6384\n"
     ]
    },
    {
     "name": "stderr",
     "output_type": "stream",
     "text": [
      " 10%|█         | 4/40 [00:45<06:42, 11.19s/it]"
     ]
    },
    {
     "name": "stdout",
     "output_type": "stream",
     "text": [
      "Epoch [5/40], Iter [1/145] Loss: 3.5706\n",
      "Epoch [5/40], Iter [2/145] Loss: 3.8714\n",
      "Epoch [5/40], Iter [3/145] Loss: 4.1020\n"
     ]
    },
    {
     "name": "stderr",
     "output_type": "stream",
     "text": [
      " 10%|█         | 4/40 [00:45<06:42, 11.19s/it]"
     ]
    },
    {
     "name": "stdout",
     "output_type": "stream",
     "text": [
      "Epoch [5/40], Iter [4/145] Loss: 3.8398\n",
      "Epoch [5/40], Iter [5/145] Loss: 3.8499\n",
      "Epoch [5/40], Iter [6/145] Loss: 4.0474\n"
     ]
    },
    {
     "name": "stderr",
     "output_type": "stream",
     "text": [
      " 10%|█         | 4/40 [00:45<06:42, 11.19s/it]"
     ]
    },
    {
     "name": "stdout",
     "output_type": "stream",
     "text": [
      "Epoch [5/40], Iter [7/145] Loss: 3.6655\n",
      "Epoch [5/40], Iter [8/145] Loss: 3.8418\n",
      "Epoch [5/40], Iter [9/145] Loss: 3.7549\n"
     ]
    },
    {
     "name": "stderr",
     "output_type": "stream",
     "text": [
      " 10%|█         | 4/40 [00:46<06:42, 11.19s/it]"
     ]
    },
    {
     "name": "stdout",
     "output_type": "stream",
     "text": [
      "Epoch [5/40], Iter [10/145] Loss: 4.0598\n",
      "Epoch [5/40], Iter [11/145] Loss: 3.8631\n",
      "Epoch [5/40], Iter [12/145] Loss: 3.7827\n"
     ]
    },
    {
     "name": "stderr",
     "output_type": "stream",
     "text": [
      " 10%|█         | 4/40 [00:46<06:42, 11.19s/it]"
     ]
    },
    {
     "name": "stdout",
     "output_type": "stream",
     "text": [
      "Epoch [5/40], Iter [13/145] Loss: 3.6277\n",
      "Epoch [5/40], Iter [14/145] Loss: 3.8320\n",
      "Epoch [5/40], Iter [15/145] Loss: 3.9691\n"
     ]
    },
    {
     "name": "stderr",
     "output_type": "stream",
     "text": [
      " 10%|█         | 4/40 [00:46<06:42, 11.19s/it]"
     ]
    },
    {
     "name": "stdout",
     "output_type": "stream",
     "text": [
      "Epoch [5/40], Iter [16/145] Loss: 3.9394\n",
      "Epoch [5/40], Iter [17/145] Loss: 3.8794\n",
      "Epoch [5/40], Iter [18/145] Loss: 4.1149\n"
     ]
    },
    {
     "name": "stderr",
     "output_type": "stream",
     "text": [
      " 10%|█         | 4/40 [00:46<06:42, 11.19s/it]"
     ]
    },
    {
     "name": "stdout",
     "output_type": "stream",
     "text": [
      "Epoch [5/40], Iter [19/145] Loss: 3.8475\n",
      "Epoch [5/40], Iter [20/145] Loss: 3.6170\n",
      "Epoch [5/40], Iter [21/145] Loss: 3.9594\n"
     ]
    },
    {
     "name": "stderr",
     "output_type": "stream",
     "text": [
      " 10%|█         | 4/40 [00:46<06:42, 11.19s/it]"
     ]
    },
    {
     "name": "stdout",
     "output_type": "stream",
     "text": [
      "Epoch [5/40], Iter [22/145] Loss: 3.6315\n",
      "Epoch [5/40], Iter [23/145] Loss: 3.5721\n",
      "Epoch [5/40], Iter [24/145] Loss: 3.8521\n"
     ]
    },
    {
     "name": "stderr",
     "output_type": "stream",
     "text": [
      " 10%|█         | 4/40 [00:47<06:42, 11.19s/it]"
     ]
    },
    {
     "name": "stdout",
     "output_type": "stream",
     "text": [
      "Epoch [5/40], Iter [25/145] Loss: 3.8036\n",
      "Epoch [5/40], Iter [26/145] Loss: 3.8575\n",
      "Epoch [5/40], Iter [27/145] Loss: 3.6697\n"
     ]
    },
    {
     "name": "stderr",
     "output_type": "stream",
     "text": [
      " 10%|█         | 4/40 [00:47<06:42, 11.19s/it]"
     ]
    },
    {
     "name": "stdout",
     "output_type": "stream",
     "text": [
      "Epoch [5/40], Iter [28/145] Loss: 3.9150\n",
      "Epoch [5/40], Iter [29/145] Loss: 4.0361\n",
      "Epoch [5/40], Iter [30/145] Loss: 4.1701\n"
     ]
    },
    {
     "name": "stderr",
     "output_type": "stream",
     "text": [
      " 10%|█         | 4/40 [00:47<06:42, 11.19s/it]"
     ]
    },
    {
     "name": "stdout",
     "output_type": "stream",
     "text": [
      "Epoch [5/40], Iter [31/145] Loss: 3.9778\n",
      "Epoch [5/40], Iter [32/145] Loss: 3.8784\n",
      "Epoch [5/40], Iter [33/145] Loss: 3.8635\n"
     ]
    },
    {
     "name": "stderr",
     "output_type": "stream",
     "text": [
      " 10%|█         | 4/40 [00:47<06:42, 11.19s/it]"
     ]
    },
    {
     "name": "stdout",
     "output_type": "stream",
     "text": [
      "Epoch [5/40], Iter [34/145] Loss: 3.8044\n",
      "Epoch [5/40], Iter [35/145] Loss: 3.8096\n",
      "Epoch [5/40], Iter [36/145] Loss: 4.0406\n"
     ]
    },
    {
     "name": "stderr",
     "output_type": "stream",
     "text": [
      " 10%|█         | 4/40 [00:48<06:42, 11.19s/it]"
     ]
    },
    {
     "name": "stdout",
     "output_type": "stream",
     "text": [
      "Epoch [5/40], Iter [37/145] Loss: 3.9186\n",
      "Epoch [5/40], Iter [38/145] Loss: 4.0494\n",
      "Epoch [5/40], Iter [39/145] Loss: 3.8703\n"
     ]
    },
    {
     "name": "stderr",
     "output_type": "stream",
     "text": [
      " 10%|█         | 4/40 [00:48<06:42, 11.19s/it]"
     ]
    },
    {
     "name": "stdout",
     "output_type": "stream",
     "text": [
      "Epoch [5/40], Iter [40/145] Loss: 3.7892\n",
      "Epoch [5/40], Iter [41/145] Loss: 4.0471\n",
      "Epoch [5/40], Iter [42/145] Loss: 3.7393\n"
     ]
    },
    {
     "name": "stderr",
     "output_type": "stream",
     "text": [
      " 10%|█         | 4/40 [00:48<06:42, 11.19s/it]"
     ]
    },
    {
     "name": "stdout",
     "output_type": "stream",
     "text": [
      "Epoch [5/40], Iter [43/145] Loss: 3.8143\n",
      "Epoch [5/40], Iter [44/145] Loss: 3.8467\n",
      "Epoch [5/40], Iter [45/145] Loss: 4.0026\n"
     ]
    },
    {
     "name": "stderr",
     "output_type": "stream",
     "text": [
      " 10%|█         | 4/40 [00:48<06:42, 11.19s/it]"
     ]
    },
    {
     "name": "stdout",
     "output_type": "stream",
     "text": [
      "Epoch [5/40], Iter [46/145] Loss: 3.7146\n",
      "Epoch [5/40], Iter [47/145] Loss: 3.8515\n",
      "Epoch [5/40], Iter [48/145] Loss: 3.8510\n"
     ]
    },
    {
     "name": "stderr",
     "output_type": "stream",
     "text": [
      " 10%|█         | 4/40 [00:49<06:42, 11.19s/it]"
     ]
    },
    {
     "name": "stdout",
     "output_type": "stream",
     "text": [
      "Epoch [5/40], Iter [49/145] Loss: 3.6215\n",
      "Epoch [5/40], Iter [50/145] Loss: 3.8224\n",
      "Epoch [5/40], Iter [51/145] Loss: 3.7252\n"
     ]
    },
    {
     "name": "stderr",
     "output_type": "stream",
     "text": [
      " 10%|█         | 4/40 [00:49<06:42, 11.19s/it]"
     ]
    },
    {
     "name": "stdout",
     "output_type": "stream",
     "text": [
      "Epoch [5/40], Iter [52/145] Loss: 3.8563\n",
      "Epoch [5/40], Iter [53/145] Loss: 3.6740\n",
      "Epoch [5/40], Iter [54/145] Loss: 3.7284\n"
     ]
    },
    {
     "name": "stderr",
     "output_type": "stream",
     "text": [
      " 10%|█         | 4/40 [00:49<06:42, 11.19s/it]"
     ]
    },
    {
     "name": "stdout",
     "output_type": "stream",
     "text": [
      "Epoch [5/40], Iter [55/145] Loss: 3.7552\n",
      "Epoch [5/40], Iter [56/145] Loss: 3.7842\n",
      "Epoch [5/40], Iter [57/145] Loss: 3.7235\n"
     ]
    },
    {
     "name": "stderr",
     "output_type": "stream",
     "text": [
      " 10%|█         | 4/40 [00:49<06:42, 11.19s/it]"
     ]
    },
    {
     "name": "stdout",
     "output_type": "stream",
     "text": [
      "Epoch [5/40], Iter [58/145] Loss: 3.9489\n",
      "Epoch [5/40], Iter [59/145] Loss: 4.1140\n",
      "Epoch [5/40], Iter [60/145] Loss: 3.6132\n"
     ]
    },
    {
     "name": "stderr",
     "output_type": "stream",
     "text": [
      " 10%|█         | 4/40 [00:49<06:42, 11.19s/it]"
     ]
    },
    {
     "name": "stdout",
     "output_type": "stream",
     "text": [
      "Epoch [5/40], Iter [61/145] Loss: 3.8056\n",
      "Epoch [5/40], Iter [62/145] Loss: 3.9610\n",
      "Epoch [5/40], Iter [63/145] Loss: 3.8034\n"
     ]
    },
    {
     "name": "stderr",
     "output_type": "stream",
     "text": [
      " 10%|█         | 4/40 [00:50<06:42, 11.19s/it]"
     ]
    },
    {
     "name": "stdout",
     "output_type": "stream",
     "text": [
      "Epoch [5/40], Iter [64/145] Loss: 3.5676\n",
      "Epoch [5/40], Iter [65/145] Loss: 4.1210\n",
      "Epoch [5/40], Iter [66/145] Loss: 3.7153\n"
     ]
    },
    {
     "name": "stderr",
     "output_type": "stream",
     "text": [
      " 10%|█         | 4/40 [00:50<06:42, 11.19s/it]"
     ]
    },
    {
     "name": "stdout",
     "output_type": "stream",
     "text": [
      "Epoch [5/40], Iter [67/145] Loss: 3.8955\n",
      "Epoch [5/40], Iter [68/145] Loss: 4.1043\n",
      "Epoch [5/40], Iter [69/145] Loss: 4.0466\n"
     ]
    },
    {
     "name": "stderr",
     "output_type": "stream",
     "text": [
      " 10%|█         | 4/40 [00:50<06:42, 11.19s/it]"
     ]
    },
    {
     "name": "stdout",
     "output_type": "stream",
     "text": [
      "Epoch [5/40], Iter [70/145] Loss: 3.7727\n",
      "Epoch [5/40], Iter [71/145] Loss: 3.8483\n",
      "Epoch [5/40], Iter [72/145] Loss: 3.8129\n"
     ]
    },
    {
     "name": "stderr",
     "output_type": "stream",
     "text": [
      " 10%|█         | 4/40 [00:50<06:42, 11.19s/it]"
     ]
    },
    {
     "name": "stdout",
     "output_type": "stream",
     "text": [
      "Epoch [5/40], Iter [73/145] Loss: 3.8177\n",
      "Epoch [5/40], Iter [74/145] Loss: 3.7360\n",
      "Epoch [5/40], Iter [75/145] Loss: 3.9587\n"
     ]
    },
    {
     "name": "stderr",
     "output_type": "stream",
     "text": [
      " 10%|█         | 4/40 [00:51<06:42, 11.19s/it]"
     ]
    },
    {
     "name": "stdout",
     "output_type": "stream",
     "text": [
      "Epoch [5/40], Iter [76/145] Loss: 3.9211\n",
      "Epoch [5/40], Iter [77/145] Loss: 3.8004\n",
      "Epoch [5/40], Iter [78/145] Loss: 3.9918\n"
     ]
    },
    {
     "name": "stderr",
     "output_type": "stream",
     "text": [
      " 10%|█         | 4/40 [00:51<06:42, 11.19s/it]"
     ]
    },
    {
     "name": "stdout",
     "output_type": "stream",
     "text": [
      "Epoch [5/40], Iter [79/145] Loss: 3.8689\n",
      "Epoch [5/40], Iter [80/145] Loss: 3.5870\n",
      "Epoch [5/40], Iter [81/145] Loss: 3.9900\n"
     ]
    },
    {
     "name": "stderr",
     "output_type": "stream",
     "text": [
      " 10%|█         | 4/40 [00:51<06:42, 11.19s/it]"
     ]
    },
    {
     "name": "stdout",
     "output_type": "stream",
     "text": [
      "Epoch [5/40], Iter [82/145] Loss: 3.5255\n",
      "Epoch [5/40], Iter [83/145] Loss: 3.6464\n",
      "Epoch [5/40], Iter [84/145] Loss: 3.7308\n"
     ]
    },
    {
     "name": "stderr",
     "output_type": "stream",
     "text": [
      " 10%|█         | 4/40 [00:51<06:42, 11.19s/it]"
     ]
    },
    {
     "name": "stdout",
     "output_type": "stream",
     "text": [
      "Epoch [5/40], Iter [85/145] Loss: 3.6006\n",
      "Epoch [5/40], Iter [86/145] Loss: 3.7240\n",
      "Epoch [5/40], Iter [87/145] Loss: 4.0245\n"
     ]
    },
    {
     "name": "stderr",
     "output_type": "stream",
     "text": [
      " 10%|█         | 4/40 [00:51<06:42, 11.19s/it]"
     ]
    },
    {
     "name": "stdout",
     "output_type": "stream",
     "text": [
      "Epoch [5/40], Iter [88/145] Loss: 3.7531\n",
      "Epoch [5/40], Iter [89/145] Loss: 3.6305\n",
      "Epoch [5/40], Iter [90/145] Loss: 3.6602\n"
     ]
    },
    {
     "name": "stderr",
     "output_type": "stream",
     "text": [
      " 10%|█         | 4/40 [00:52<06:42, 11.19s/it]"
     ]
    },
    {
     "name": "stdout",
     "output_type": "stream",
     "text": [
      "Epoch [5/40], Iter [91/145] Loss: 4.0382\n",
      "Epoch [5/40], Iter [92/145] Loss: 3.4985\n",
      "Epoch [5/40], Iter [93/145] Loss: 3.9192\n"
     ]
    },
    {
     "name": "stderr",
     "output_type": "stream",
     "text": [
      " 10%|█         | 4/40 [00:52<06:42, 11.19s/it]"
     ]
    },
    {
     "name": "stdout",
     "output_type": "stream",
     "text": [
      "Epoch [5/40], Iter [94/145] Loss: 3.7401\n",
      "Epoch [5/40], Iter [95/145] Loss: 3.9421\n",
      "Epoch [5/40], Iter [96/145] Loss: 3.8110\n"
     ]
    },
    {
     "name": "stderr",
     "output_type": "stream",
     "text": [
      " 10%|█         | 4/40 [00:52<06:42, 11.19s/it]"
     ]
    },
    {
     "name": "stdout",
     "output_type": "stream",
     "text": [
      "Epoch [5/40], Iter [97/145] Loss: 4.1358\n",
      "Epoch [5/40], Iter [98/145] Loss: 3.9604\n",
      "Epoch [5/40], Iter [99/145] Loss: 4.1040\n"
     ]
    },
    {
     "name": "stderr",
     "output_type": "stream",
     "text": [
      " 10%|█         | 4/40 [00:52<06:42, 11.19s/it]"
     ]
    },
    {
     "name": "stdout",
     "output_type": "stream",
     "text": [
      "Epoch [5/40], Iter [100/145] Loss: 3.8920\n",
      "Epoch [5/40], Iter [101/145] Loss: 4.0241\n",
      "Epoch [5/40], Iter [102/145] Loss: 3.8394\n"
     ]
    },
    {
     "name": "stderr",
     "output_type": "stream",
     "text": [
      " 10%|█         | 4/40 [00:53<06:42, 11.19s/it]"
     ]
    },
    {
     "name": "stdout",
     "output_type": "stream",
     "text": [
      "Epoch [5/40], Iter [103/145] Loss: 3.9114\n",
      "Epoch [5/40], Iter [104/145] Loss: 3.8541\n",
      "Epoch [5/40], Iter [105/145] Loss: 3.7908\n"
     ]
    },
    {
     "name": "stderr",
     "output_type": "stream",
     "text": [
      " 10%|█         | 4/40 [00:53<06:42, 11.19s/it]"
     ]
    },
    {
     "name": "stdout",
     "output_type": "stream",
     "text": [
      "Epoch [5/40], Iter [106/145] Loss: 3.8763\n",
      "Epoch [5/40], Iter [107/145] Loss: 3.9488\n",
      "Epoch [5/40], Iter [108/145] Loss: 3.8978\n"
     ]
    },
    {
     "name": "stderr",
     "output_type": "stream",
     "text": [
      " 10%|█         | 4/40 [00:53<06:42, 11.19s/it]"
     ]
    },
    {
     "name": "stdout",
     "output_type": "stream",
     "text": [
      "Epoch [5/40], Iter [109/145] Loss: 4.0470\n",
      "Epoch [5/40], Iter [110/145] Loss: 3.6268\n",
      "Epoch [5/40], Iter [111/145] Loss: 3.6001\n"
     ]
    },
    {
     "name": "stderr",
     "output_type": "stream",
     "text": [
      " 10%|█         | 4/40 [00:53<06:42, 11.19s/it]"
     ]
    },
    {
     "name": "stdout",
     "output_type": "stream",
     "text": [
      "Epoch [5/40], Iter [112/145] Loss: 3.9503\n",
      "Epoch [5/40], Iter [113/145] Loss: 3.6341\n",
      "Epoch [5/40], Iter [114/145] Loss: 3.9840\n"
     ]
    },
    {
     "name": "stderr",
     "output_type": "stream",
     "text": [
      " 10%|█         | 4/40 [00:53<06:42, 11.19s/it]"
     ]
    },
    {
     "name": "stdout",
     "output_type": "stream",
     "text": [
      "Epoch [5/40], Iter [115/145] Loss: 3.6783\n",
      "Epoch [5/40], Iter [116/145] Loss: 4.0765\n",
      "Epoch [5/40], Iter [117/145] Loss: 3.9679\n"
     ]
    },
    {
     "name": "stderr",
     "output_type": "stream",
     "text": [
      " 10%|█         | 4/40 [00:54<06:42, 11.19s/it]"
     ]
    },
    {
     "name": "stdout",
     "output_type": "stream",
     "text": [
      "Epoch [5/40], Iter [118/145] Loss: 3.9012\n",
      "Epoch [5/40], Iter [119/145] Loss: 3.8123\n",
      "Epoch [5/40], Iter [120/145] Loss: 3.9088\n"
     ]
    },
    {
     "name": "stderr",
     "output_type": "stream",
     "text": [
      " 10%|█         | 4/40 [00:54<06:42, 11.19s/it]"
     ]
    },
    {
     "name": "stdout",
     "output_type": "stream",
     "text": [
      "Epoch [5/40], Iter [121/145] Loss: 3.8327\n",
      "Epoch [5/40], Iter [122/145] Loss: 3.8330\n",
      "Epoch [5/40], Iter [123/145] Loss: 3.9236\n"
     ]
    },
    {
     "name": "stderr",
     "output_type": "stream",
     "text": [
      " 10%|█         | 4/40 [00:54<06:42, 11.19s/it]"
     ]
    },
    {
     "name": "stdout",
     "output_type": "stream",
     "text": [
      "Epoch [5/40], Iter [124/145] Loss: 3.8947\n",
      "Epoch [5/40], Iter [125/145] Loss: 3.8582\n",
      "Epoch [5/40], Iter [126/145] Loss: 3.8288\n"
     ]
    },
    {
     "name": "stderr",
     "output_type": "stream",
     "text": [
      " 10%|█         | 4/40 [00:54<06:42, 11.19s/it]"
     ]
    },
    {
     "name": "stdout",
     "output_type": "stream",
     "text": [
      "Epoch [5/40], Iter [127/145] Loss: 3.6529\n",
      "Epoch [5/40], Iter [128/145] Loss: 3.8834\n",
      "Epoch [5/40], Iter [129/145] Loss: 3.6324\n"
     ]
    },
    {
     "name": "stderr",
     "output_type": "stream",
     "text": [
      " 10%|█         | 4/40 [00:55<06:42, 11.19s/it]"
     ]
    },
    {
     "name": "stdout",
     "output_type": "stream",
     "text": [
      "Epoch [5/40], Iter [130/145] Loss: 3.6268\n",
      "Epoch [5/40], Iter [131/145] Loss: 3.8471\n",
      "Epoch [5/40], Iter [132/145] Loss: 3.7671\n"
     ]
    },
    {
     "name": "stderr",
     "output_type": "stream",
     "text": [
      " 10%|█         | 4/40 [00:55<06:42, 11.19s/it]"
     ]
    },
    {
     "name": "stdout",
     "output_type": "stream",
     "text": [
      "Epoch [5/40], Iter [133/145] Loss: 3.7910\n",
      "Epoch [5/40], Iter [134/145] Loss: 3.6292\n",
      "Epoch [5/40], Iter [135/145] Loss: 3.8503\n"
     ]
    },
    {
     "name": "stderr",
     "output_type": "stream",
     "text": [
      " 10%|█         | 4/40 [00:55<06:42, 11.19s/it]"
     ]
    },
    {
     "name": "stdout",
     "output_type": "stream",
     "text": [
      "Epoch [5/40], Iter [136/145] Loss: 3.7219\n",
      "Epoch [5/40], Iter [137/145] Loss: 3.9437\n",
      "Epoch [5/40], Iter [138/145] Loss: 3.9685\n"
     ]
    },
    {
     "name": "stderr",
     "output_type": "stream",
     "text": [
      " 10%|█         | 4/40 [00:55<06:42, 11.19s/it]"
     ]
    },
    {
     "name": "stdout",
     "output_type": "stream",
     "text": [
      "Epoch [5/40], Iter [139/145] Loss: 3.5289\n",
      "Epoch [5/40], Iter [140/145] Loss: 3.7892\n",
      "Epoch [5/40], Iter [141/145] Loss: 3.8606\n"
     ]
    },
    {
     "name": "stderr",
     "output_type": "stream",
     "text": [
      " 10%|█         | 4/40 [00:55<06:42, 11.19s/it]"
     ]
    },
    {
     "name": "stdout",
     "output_type": "stream",
     "text": [
      "Epoch [5/40], Iter [142/145] Loss: 3.6139\n",
      "Epoch [5/40], Iter [143/145] Loss: 3.8367\n",
      "Epoch [5/40], Iter [144/145] Loss: 3.8496\n"
     ]
    },
    {
     "name": "stderr",
     "output_type": "stream",
     "text": [
      " 12%|█▎        | 5/40 [00:56<06:31, 11.18s/it]"
     ]
    },
    {
     "name": "stdout",
     "output_type": "stream",
     "text": [
      "Epoch [5/40], Iter [145/145] Loss: 4.0790\n"
     ]
    },
    {
     "name": "stderr",
     "output_type": "stream",
     "text": [
      " 12%|█▎        | 5/40 [00:56<06:31, 11.18s/it]"
     ]
    },
    {
     "name": "stdout",
     "output_type": "stream",
     "text": [
      "Epoch [6/40], Iter [1/145] Loss: 3.6271\n",
      "Epoch [6/40], Iter [2/145] Loss: 3.7781\n",
      "Epoch [6/40], Iter [3/145] Loss: 3.8627\n"
     ]
    },
    {
     "name": "stderr",
     "output_type": "stream",
     "text": [
      " 12%|█▎        | 5/40 [00:56<06:31, 11.18s/it]"
     ]
    },
    {
     "name": "stdout",
     "output_type": "stream",
     "text": [
      "Epoch [6/40], Iter [4/145] Loss: 3.4732\n",
      "Epoch [6/40], Iter [5/145] Loss: 3.8289\n",
      "Epoch [6/40], Iter [6/145] Loss: 3.8955\n"
     ]
    },
    {
     "name": "stderr",
     "output_type": "stream",
     "text": [
      " 12%|█▎        | 5/40 [00:56<06:31, 11.18s/it]"
     ]
    },
    {
     "name": "stdout",
     "output_type": "stream",
     "text": [
      "Epoch [6/40], Iter [7/145] Loss: 3.6749\n",
      "Epoch [6/40], Iter [8/145] Loss: 4.0529\n",
      "Epoch [6/40], Iter [9/145] Loss: 3.9334\n"
     ]
    },
    {
     "name": "stderr",
     "output_type": "stream",
     "text": [
      " 12%|█▎        | 5/40 [00:57<06:31, 11.18s/it]"
     ]
    },
    {
     "name": "stdout",
     "output_type": "stream",
     "text": [
      "Epoch [6/40], Iter [10/145] Loss: 3.9496\n",
      "Epoch [6/40], Iter [11/145] Loss: 4.1346\n",
      "Epoch [6/40], Iter [12/145] Loss: 4.0114\n"
     ]
    },
    {
     "name": "stderr",
     "output_type": "stream",
     "text": [
      " 12%|█▎        | 5/40 [00:57<06:31, 11.18s/it]"
     ]
    },
    {
     "name": "stdout",
     "output_type": "stream",
     "text": [
      "Epoch [6/40], Iter [13/145] Loss: 3.5702\n",
      "Epoch [6/40], Iter [14/145] Loss: 3.7310\n",
      "Epoch [6/40], Iter [15/145] Loss: 3.7932\n"
     ]
    },
    {
     "name": "stderr",
     "output_type": "stream",
     "text": [
      " 12%|█▎        | 5/40 [00:57<06:31, 11.18s/it]"
     ]
    },
    {
     "name": "stdout",
     "output_type": "stream",
     "text": [
      "Epoch [6/40], Iter [16/145] Loss: 3.9305\n",
      "Epoch [6/40], Iter [17/145] Loss: 3.8645\n",
      "Epoch [6/40], Iter [18/145] Loss: 3.8450\n"
     ]
    },
    {
     "name": "stderr",
     "output_type": "stream",
     "text": [
      " 12%|█▎        | 5/40 [00:57<06:31, 11.18s/it]"
     ]
    },
    {
     "name": "stdout",
     "output_type": "stream",
     "text": [
      "Epoch [6/40], Iter [19/145] Loss: 3.9167\n",
      "Epoch [6/40], Iter [20/145] Loss: 3.7566\n",
      "Epoch [6/40], Iter [21/145] Loss: 3.8311\n"
     ]
    },
    {
     "name": "stderr",
     "output_type": "stream",
     "text": [
      " 12%|█▎        | 5/40 [00:58<06:31, 11.18s/it]"
     ]
    },
    {
     "name": "stdout",
     "output_type": "stream",
     "text": [
      "Epoch [6/40], Iter [22/145] Loss: 3.7593\n",
      "Epoch [6/40], Iter [23/145] Loss: 3.6346\n",
      "Epoch [6/40], Iter [24/145] Loss: 3.7786\n"
     ]
    },
    {
     "name": "stderr",
     "output_type": "stream",
     "text": [
      " 12%|█▎        | 5/40 [00:58<06:31, 11.18s/it]"
     ]
    },
    {
     "name": "stdout",
     "output_type": "stream",
     "text": [
      "Epoch [6/40], Iter [25/145] Loss: 3.9079\n",
      "Epoch [6/40], Iter [26/145] Loss: 4.0487\n",
      "Epoch [6/40], Iter [27/145] Loss: 3.9025\n"
     ]
    },
    {
     "name": "stderr",
     "output_type": "stream",
     "text": [
      " 12%|█▎        | 5/40 [00:58<06:31, 11.18s/it]"
     ]
    },
    {
     "name": "stdout",
     "output_type": "stream",
     "text": [
      "Epoch [6/40], Iter [28/145] Loss: 3.9487\n",
      "Epoch [6/40], Iter [29/145] Loss: 3.7079\n",
      "Epoch [6/40], Iter [30/145] Loss: 3.7810\n"
     ]
    },
    {
     "name": "stderr",
     "output_type": "stream",
     "text": [
      " 12%|█▎        | 5/40 [00:58<06:31, 11.18s/it]"
     ]
    },
    {
     "name": "stdout",
     "output_type": "stream",
     "text": [
      "Epoch [6/40], Iter [31/145] Loss: 3.9033\n",
      "Epoch [6/40], Iter [32/145] Loss: 3.9534\n",
      "Epoch [6/40], Iter [33/145] Loss: 3.9204\n"
     ]
    },
    {
     "name": "stderr",
     "output_type": "stream",
     "text": [
      " 12%|█▎        | 5/40 [00:59<06:31, 11.18s/it]"
     ]
    },
    {
     "name": "stdout",
     "output_type": "stream",
     "text": [
      "Epoch [6/40], Iter [34/145] Loss: 3.8296\n",
      "Epoch [6/40], Iter [35/145] Loss: 3.6888\n",
      "Epoch [6/40], Iter [36/145] Loss: 3.8232\n"
     ]
    },
    {
     "name": "stderr",
     "output_type": "stream",
     "text": [
      " 12%|█▎        | 5/40 [00:59<06:31, 11.18s/it]"
     ]
    },
    {
     "name": "stdout",
     "output_type": "stream",
     "text": [
      "Epoch [6/40], Iter [37/145] Loss: 3.8440\n",
      "Epoch [6/40], Iter [38/145] Loss: 3.7224\n",
      "Epoch [6/40], Iter [39/145] Loss: 3.7973\n"
     ]
    },
    {
     "name": "stderr",
     "output_type": "stream",
     "text": [
      " 12%|█▎        | 5/40 [00:59<06:31, 11.18s/it]"
     ]
    },
    {
     "name": "stdout",
     "output_type": "stream",
     "text": [
      "Epoch [6/40], Iter [40/145] Loss: 3.8845\n",
      "Epoch [6/40], Iter [41/145] Loss: 3.8181\n",
      "Epoch [6/40], Iter [42/145] Loss: 3.5657\n"
     ]
    },
    {
     "name": "stderr",
     "output_type": "stream",
     "text": [
      " 12%|█▎        | 5/40 [00:59<06:31, 11.18s/it]"
     ]
    },
    {
     "name": "stdout",
     "output_type": "stream",
     "text": [
      "Epoch [6/40], Iter [43/145] Loss: 3.8657\n",
      "Epoch [6/40], Iter [44/145] Loss: 3.5809\n",
      "Epoch [6/40], Iter [45/145] Loss: 3.9036\n"
     ]
    },
    {
     "name": "stderr",
     "output_type": "stream",
     "text": [
      " 12%|█▎        | 5/40 [00:59<06:31, 11.18s/it]"
     ]
    },
    {
     "name": "stdout",
     "output_type": "stream",
     "text": [
      "Epoch [6/40], Iter [46/145] Loss: 3.9601\n",
      "Epoch [6/40], Iter [47/145] Loss: 3.9880\n",
      "Epoch [6/40], Iter [48/145] Loss: 3.8710\n"
     ]
    },
    {
     "name": "stderr",
     "output_type": "stream",
     "text": [
      " 12%|█▎        | 5/40 [01:00<06:31, 11.18s/it]"
     ]
    },
    {
     "name": "stdout",
     "output_type": "stream",
     "text": [
      "Epoch [6/40], Iter [49/145] Loss: 3.8700\n",
      "Epoch [6/40], Iter [50/145] Loss: 3.7892\n",
      "Epoch [6/40], Iter [51/145] Loss: 3.5797\n"
     ]
    },
    {
     "name": "stderr",
     "output_type": "stream",
     "text": [
      " 12%|█▎        | 5/40 [01:00<06:31, 11.18s/it]"
     ]
    },
    {
     "name": "stdout",
     "output_type": "stream",
     "text": [
      "Epoch [6/40], Iter [52/145] Loss: 3.8627\n",
      "Epoch [6/40], Iter [53/145] Loss: 3.9703\n",
      "Epoch [6/40], Iter [54/145] Loss: 3.8397\n"
     ]
    },
    {
     "name": "stderr",
     "output_type": "stream",
     "text": [
      " 12%|█▎        | 5/40 [01:00<06:31, 11.18s/it]"
     ]
    },
    {
     "name": "stdout",
     "output_type": "stream",
     "text": [
      "Epoch [6/40], Iter [55/145] Loss: 3.9087\n",
      "Epoch [6/40], Iter [56/145] Loss: 3.7427\n",
      "Epoch [6/40], Iter [57/145] Loss: 3.4852\n",
      "Epoch [6/40], Iter [58/145] Loss: 3.9552\n"
     ]
    },
    {
     "name": "stderr",
     "output_type": "stream",
     "text": [
      " 12%|█▎        | 5/40 [01:00<06:31, 11.18s/it]"
     ]
    },
    {
     "name": "stdout",
     "output_type": "stream",
     "text": [
      "Epoch [6/40], Iter [59/145] Loss: 3.8778\n",
      "Epoch [6/40], Iter [60/145] Loss: 3.7604\n",
      "Epoch [6/40], Iter [61/145] Loss: 3.8791\n"
     ]
    },
    {
     "name": "stderr",
     "output_type": "stream",
     "text": [
      " 12%|█▎        | 5/40 [01:01<06:31, 11.18s/it]"
     ]
    },
    {
     "name": "stdout",
     "output_type": "stream",
     "text": [
      "Epoch [6/40], Iter [62/145] Loss: 3.8344\n",
      "Epoch [6/40], Iter [63/145] Loss: 4.1252\n",
      "Epoch [6/40], Iter [64/145] Loss: 3.8347\n"
     ]
    },
    {
     "name": "stderr",
     "output_type": "stream",
     "text": [
      " 12%|█▎        | 5/40 [01:01<06:31, 11.18s/it]"
     ]
    },
    {
     "name": "stdout",
     "output_type": "stream",
     "text": [
      "Epoch [6/40], Iter [65/145] Loss: 3.6615\n",
      "Epoch [6/40], Iter [66/145] Loss: 3.8342\n",
      "Epoch [6/40], Iter [67/145] Loss: 3.7547\n"
     ]
    },
    {
     "name": "stderr",
     "output_type": "stream",
     "text": [
      " 12%|█▎        | 5/40 [01:01<06:31, 11.18s/it]"
     ]
    },
    {
     "name": "stdout",
     "output_type": "stream",
     "text": [
      "Epoch [6/40], Iter [68/145] Loss: 3.9625\n",
      "Epoch [6/40], Iter [69/145] Loss: 3.8574\n",
      "Epoch [6/40], Iter [70/145] Loss: 3.9397\n"
     ]
    },
    {
     "name": "stderr",
     "output_type": "stream",
     "text": [
      " 12%|█▎        | 5/40 [01:01<06:31, 11.18s/it]"
     ]
    },
    {
     "name": "stdout",
     "output_type": "stream",
     "text": [
      "Epoch [6/40], Iter [71/145] Loss: 3.9657\n",
      "Epoch [6/40], Iter [72/145] Loss: 4.0719\n",
      "Epoch [6/40], Iter [73/145] Loss: 3.7179\n"
     ]
    },
    {
     "name": "stderr",
     "output_type": "stream",
     "text": [
      " 12%|█▎        | 5/40 [01:01<06:31, 11.18s/it]"
     ]
    },
    {
     "name": "stdout",
     "output_type": "stream",
     "text": [
      "Epoch [6/40], Iter [74/145] Loss: 3.8850\n",
      "Epoch [6/40], Iter [75/145] Loss: 3.9200\n",
      "Epoch [6/40], Iter [76/145] Loss: 3.8831\n"
     ]
    },
    {
     "name": "stderr",
     "output_type": "stream",
     "text": [
      " 12%|█▎        | 5/40 [01:02<06:31, 11.18s/it]"
     ]
    },
    {
     "name": "stdout",
     "output_type": "stream",
     "text": [
      "Epoch [6/40], Iter [77/145] Loss: 3.8388\n",
      "Epoch [6/40], Iter [78/145] Loss: 3.9499\n",
      "Epoch [6/40], Iter [79/145] Loss: 4.0016\n"
     ]
    },
    {
     "name": "stderr",
     "output_type": "stream",
     "text": [
      " 12%|█▎        | 5/40 [01:02<06:31, 11.18s/it]"
     ]
    },
    {
     "name": "stdout",
     "output_type": "stream",
     "text": [
      "Epoch [6/40], Iter [80/145] Loss: 3.8005\n",
      "Epoch [6/40], Iter [81/145] Loss: 3.8905\n",
      "Epoch [6/40], Iter [82/145] Loss: 4.0184\n"
     ]
    },
    {
     "name": "stderr",
     "output_type": "stream",
     "text": [
      " 12%|█▎        | 5/40 [01:02<06:31, 11.18s/it]"
     ]
    },
    {
     "name": "stdout",
     "output_type": "stream",
     "text": [
      "Epoch [6/40], Iter [83/145] Loss: 4.0298\n",
      "Epoch [6/40], Iter [84/145] Loss: 3.9837\n",
      "Epoch [6/40], Iter [85/145] Loss: 3.5427\n"
     ]
    },
    {
     "name": "stderr",
     "output_type": "stream",
     "text": [
      " 12%|█▎        | 5/40 [01:02<06:31, 11.18s/it]"
     ]
    },
    {
     "name": "stdout",
     "output_type": "stream",
     "text": [
      "Epoch [6/40], Iter [86/145] Loss: 3.9333\n",
      "Epoch [6/40], Iter [87/145] Loss: 3.8775\n",
      "Epoch [6/40], Iter [88/145] Loss: 3.7457\n"
     ]
    },
    {
     "name": "stderr",
     "output_type": "stream",
     "text": [
      " 12%|█▎        | 5/40 [01:02<06:31, 11.18s/it]"
     ]
    },
    {
     "name": "stdout",
     "output_type": "stream",
     "text": [
      "Epoch [6/40], Iter [89/145] Loss: 3.6175\n",
      "Epoch [6/40], Iter [90/145] Loss: 3.9272\n",
      "Epoch [6/40], Iter [91/145] Loss: 3.6615\n"
     ]
    },
    {
     "name": "stderr",
     "output_type": "stream",
     "text": [
      " 12%|█▎        | 5/40 [01:03<06:31, 11.18s/it]"
     ]
    },
    {
     "name": "stdout",
     "output_type": "stream",
     "text": [
      "Epoch [6/40], Iter [92/145] Loss: 4.0700\n",
      "Epoch [6/40], Iter [93/145] Loss: 3.7747\n",
      "Epoch [6/40], Iter [94/145] Loss: 3.9569\n"
     ]
    },
    {
     "name": "stderr",
     "output_type": "stream",
     "text": [
      " 12%|█▎        | 5/40 [01:03<06:31, 11.18s/it]"
     ]
    },
    {
     "name": "stdout",
     "output_type": "stream",
     "text": [
      "Epoch [6/40], Iter [95/145] Loss: 3.9208\n",
      "Epoch [6/40], Iter [96/145] Loss: 3.8116\n",
      "Epoch [6/40], Iter [97/145] Loss: 3.7569\n"
     ]
    },
    {
     "name": "stderr",
     "output_type": "stream",
     "text": [
      " 12%|█▎        | 5/40 [01:03<06:31, 11.18s/it]"
     ]
    },
    {
     "name": "stdout",
     "output_type": "stream",
     "text": [
      "Epoch [6/40], Iter [98/145] Loss: 3.6045\n",
      "Epoch [6/40], Iter [99/145] Loss: 3.8031\n",
      "Epoch [6/40], Iter [100/145] Loss: 3.8314\n"
     ]
    },
    {
     "name": "stderr",
     "output_type": "stream",
     "text": [
      " 12%|█▎        | 5/40 [01:03<06:31, 11.18s/it]"
     ]
    },
    {
     "name": "stdout",
     "output_type": "stream",
     "text": [
      "Epoch [6/40], Iter [101/145] Loss: 3.7031\n",
      "Epoch [6/40], Iter [102/145] Loss: 3.6795\n",
      "Epoch [6/40], Iter [103/145] Loss: 3.7394\n"
     ]
    },
    {
     "name": "stderr",
     "output_type": "stream",
     "text": [
      " 12%|█▎        | 5/40 [01:04<06:31, 11.18s/it]"
     ]
    },
    {
     "name": "stdout",
     "output_type": "stream",
     "text": [
      "Epoch [6/40], Iter [104/145] Loss: 3.5051\n",
      "Epoch [6/40], Iter [105/145] Loss: 3.7901\n",
      "Epoch [6/40], Iter [106/145] Loss: 3.8353\n"
     ]
    },
    {
     "name": "stderr",
     "output_type": "stream",
     "text": [
      " 12%|█▎        | 5/40 [01:04<06:31, 11.18s/it]"
     ]
    },
    {
     "name": "stdout",
     "output_type": "stream",
     "text": [
      "Epoch [6/40], Iter [107/145] Loss: 3.7282\n",
      "Epoch [6/40], Iter [108/145] Loss: 3.7816\n",
      "Epoch [6/40], Iter [109/145] Loss: 4.0745\n"
     ]
    },
    {
     "name": "stderr",
     "output_type": "stream",
     "text": [
      " 12%|█▎        | 5/40 [01:04<06:31, 11.18s/it]"
     ]
    },
    {
     "name": "stdout",
     "output_type": "stream",
     "text": [
      "Epoch [6/40], Iter [110/145] Loss: 3.9353\n",
      "Epoch [6/40], Iter [111/145] Loss: 3.9004\n",
      "Epoch [6/40], Iter [112/145] Loss: 3.7912\n"
     ]
    },
    {
     "name": "stderr",
     "output_type": "stream",
     "text": [
      " 12%|█▎        | 5/40 [01:04<06:31, 11.18s/it]"
     ]
    },
    {
     "name": "stdout",
     "output_type": "stream",
     "text": [
      "Epoch [6/40], Iter [113/145] Loss: 3.7711\n",
      "Epoch [6/40], Iter [114/145] Loss: 3.7892\n",
      "Epoch [6/40], Iter [115/145] Loss: 3.7683\n"
     ]
    },
    {
     "name": "stderr",
     "output_type": "stream",
     "text": [
      " 12%|█▎        | 5/40 [01:04<06:31, 11.18s/it]"
     ]
    },
    {
     "name": "stdout",
     "output_type": "stream",
     "text": [
      "Epoch [6/40], Iter [116/145] Loss: 3.7634\n",
      "Epoch [6/40], Iter [117/145] Loss: 4.0464\n",
      "Epoch [6/40], Iter [118/145] Loss: 3.8465\n"
     ]
    },
    {
     "name": "stderr",
     "output_type": "stream",
     "text": [
      " 12%|█▎        | 5/40 [01:05<06:31, 11.18s/it]"
     ]
    },
    {
     "name": "stdout",
     "output_type": "stream",
     "text": [
      "Epoch [6/40], Iter [119/145] Loss: 3.9525\n",
      "Epoch [6/40], Iter [120/145] Loss: 4.1081\n",
      "Epoch [6/40], Iter [121/145] Loss: 3.8293\n"
     ]
    },
    {
     "name": "stderr",
     "output_type": "stream",
     "text": [
      " 12%|█▎        | 5/40 [01:05<06:31, 11.18s/it]"
     ]
    },
    {
     "name": "stdout",
     "output_type": "stream",
     "text": [
      "Epoch [6/40], Iter [122/145] Loss: 3.7257\n",
      "Epoch [6/40], Iter [123/145] Loss: 3.7433\n",
      "Epoch [6/40], Iter [124/145] Loss: 3.8976\n"
     ]
    },
    {
     "name": "stderr",
     "output_type": "stream",
     "text": [
      " 12%|█▎        | 5/40 [01:05<06:31, 11.18s/it]"
     ]
    },
    {
     "name": "stdout",
     "output_type": "stream",
     "text": [
      "Epoch [6/40], Iter [125/145] Loss: 3.9838\n",
      "Epoch [6/40], Iter [126/145] Loss: 3.7889\n",
      "Epoch [6/40], Iter [127/145] Loss: 3.6454\n"
     ]
    },
    {
     "name": "stderr",
     "output_type": "stream",
     "text": [
      " 12%|█▎        | 5/40 [01:05<06:31, 11.18s/it]"
     ]
    },
    {
     "name": "stdout",
     "output_type": "stream",
     "text": [
      "Epoch [6/40], Iter [128/145] Loss: 3.7914\n",
      "Epoch [6/40], Iter [129/145] Loss: 3.9135\n",
      "Epoch [6/40], Iter [130/145] Loss: 4.0696\n"
     ]
    },
    {
     "name": "stderr",
     "output_type": "stream",
     "text": [
      " 12%|█▎        | 5/40 [01:06<06:31, 11.18s/it]"
     ]
    },
    {
     "name": "stdout",
     "output_type": "stream",
     "text": [
      "Epoch [6/40], Iter [131/145] Loss: 3.9228\n",
      "Epoch [6/40], Iter [132/145] Loss: 3.8043\n",
      "Epoch [6/40], Iter [133/145] Loss: 4.0086\n"
     ]
    },
    {
     "name": "stderr",
     "output_type": "stream",
     "text": [
      " 12%|█▎        | 5/40 [01:06<06:31, 11.18s/it]"
     ]
    },
    {
     "name": "stdout",
     "output_type": "stream",
     "text": [
      "Epoch [6/40], Iter [134/145] Loss: 3.7322\n",
      "Epoch [6/40], Iter [135/145] Loss: 3.9164\n",
      "Epoch [6/40], Iter [136/145] Loss: 3.7322\n"
     ]
    },
    {
     "name": "stderr",
     "output_type": "stream",
     "text": [
      " 12%|█▎        | 5/40 [01:06<06:31, 11.18s/it]"
     ]
    },
    {
     "name": "stdout",
     "output_type": "stream",
     "text": [
      "Epoch [6/40], Iter [137/145] Loss: 3.6790\n",
      "Epoch [6/40], Iter [138/145] Loss: 3.9110\n",
      "Epoch [6/40], Iter [139/145] Loss: 3.6834\n"
     ]
    },
    {
     "name": "stderr",
     "output_type": "stream",
     "text": [
      " 12%|█▎        | 5/40 [01:06<06:31, 11.18s/it]"
     ]
    },
    {
     "name": "stdout",
     "output_type": "stream",
     "text": [
      "Epoch [6/40], Iter [140/145] Loss: 3.9581\n",
      "Epoch [6/40], Iter [141/145] Loss: 3.9012\n",
      "Epoch [6/40], Iter [142/145] Loss: 3.8518\n"
     ]
    },
    {
     "name": "stderr",
     "output_type": "stream",
     "text": [
      " 15%|█▌        | 6/40 [01:06<06:16, 11.06s/it]"
     ]
    },
    {
     "name": "stdout",
     "output_type": "stream",
     "text": [
      "Epoch [6/40], Iter [143/145] Loss: 3.7490\n",
      "Epoch [6/40], Iter [144/145] Loss: 3.6583\n",
      "Epoch [6/40], Iter [145/145] Loss: 3.9886\n"
     ]
    },
    {
     "name": "stderr",
     "output_type": "stream",
     "text": [
      " 15%|█▌        | 6/40 [01:07<06:16, 11.06s/it]"
     ]
    },
    {
     "name": "stdout",
     "output_type": "stream",
     "text": [
      "Epoch [7/40], Iter [1/145] Loss: 3.9442\n",
      "Epoch [7/40], Iter [2/145] Loss: 3.7968\n",
      "Epoch [7/40], Iter [3/145] Loss: 3.4528\n"
     ]
    },
    {
     "name": "stderr",
     "output_type": "stream",
     "text": [
      " 15%|█▌        | 6/40 [01:07<06:16, 11.06s/it]"
     ]
    },
    {
     "name": "stdout",
     "output_type": "stream",
     "text": [
      "Epoch [7/40], Iter [4/145] Loss: 3.7282\n",
      "Epoch [7/40], Iter [5/145] Loss: 4.0123\n",
      "Epoch [7/40], Iter [6/145] Loss: 3.9133\n"
     ]
    },
    {
     "name": "stderr",
     "output_type": "stream",
     "text": [
      " 15%|█▌        | 6/40 [01:07<06:16, 11.06s/it]"
     ]
    },
    {
     "name": "stdout",
     "output_type": "stream",
     "text": [
      "Epoch [7/40], Iter [7/145] Loss: 3.9506\n",
      "Epoch [7/40], Iter [8/145] Loss: 3.8966\n",
      "Epoch [7/40], Iter [9/145] Loss: 3.6148\n"
     ]
    },
    {
     "name": "stderr",
     "output_type": "stream",
     "text": [
      " 15%|█▌        | 6/40 [01:08<06:16, 11.06s/it]"
     ]
    },
    {
     "name": "stdout",
     "output_type": "stream",
     "text": [
      "Epoch [7/40], Iter [10/145] Loss: 3.8171\n",
      "Epoch [7/40], Iter [11/145] Loss: 4.0728\n",
      "Epoch [7/40], Iter [12/145] Loss: 3.5469\n"
     ]
    },
    {
     "name": "stderr",
     "output_type": "stream",
     "text": [
      " 15%|█▌        | 6/40 [01:08<06:16, 11.06s/it]"
     ]
    },
    {
     "name": "stdout",
     "output_type": "stream",
     "text": [
      "Epoch [7/40], Iter [13/145] Loss: 3.9013\n",
      "Epoch [7/40], Iter [14/145] Loss: 3.7876\n",
      "Epoch [7/40], Iter [15/145] Loss: 4.0270\n"
     ]
    },
    {
     "name": "stderr",
     "output_type": "stream",
     "text": [
      " 15%|█▌        | 6/40 [01:08<06:16, 11.06s/it]"
     ]
    },
    {
     "name": "stdout",
     "output_type": "stream",
     "text": [
      "Epoch [7/40], Iter [16/145] Loss: 4.1419\n",
      "Epoch [7/40], Iter [17/145] Loss: 3.8170\n",
      "Epoch [7/40], Iter [18/145] Loss: 3.9446\n"
     ]
    },
    {
     "name": "stderr",
     "output_type": "stream",
     "text": [
      " 15%|█▌        | 6/40 [01:08<06:16, 11.06s/it]"
     ]
    },
    {
     "name": "stdout",
     "output_type": "stream",
     "text": [
      "Epoch [7/40], Iter [19/145] Loss: 3.9848\n",
      "Epoch [7/40], Iter [20/145] Loss: 3.8875\n",
      "Epoch [7/40], Iter [21/145] Loss: 3.7482\n"
     ]
    },
    {
     "name": "stderr",
     "output_type": "stream",
     "text": [
      " 15%|█▌        | 6/40 [01:08<06:16, 11.06s/it]"
     ]
    },
    {
     "name": "stdout",
     "output_type": "stream",
     "text": [
      "Epoch [7/40], Iter [22/145] Loss: 3.9307\n",
      "Epoch [7/40], Iter [23/145] Loss: 3.6882\n",
      "Epoch [7/40], Iter [24/145] Loss: 3.8575\n"
     ]
    },
    {
     "name": "stderr",
     "output_type": "stream",
     "text": [
      " 15%|█▌        | 6/40 [01:09<06:16, 11.06s/it]"
     ]
    },
    {
     "name": "stdout",
     "output_type": "stream",
     "text": [
      "Epoch [7/40], Iter [25/145] Loss: 3.9820\n",
      "Epoch [7/40], Iter [26/145] Loss: 3.7940\n",
      "Epoch [7/40], Iter [27/145] Loss: 3.8702\n"
     ]
    },
    {
     "name": "stderr",
     "output_type": "stream",
     "text": [
      " 15%|█▌        | 6/40 [01:09<06:16, 11.06s/it]"
     ]
    },
    {
     "name": "stdout",
     "output_type": "stream",
     "text": [
      "Epoch [7/40], Iter [28/145] Loss: 3.7475\n",
      "Epoch [7/40], Iter [29/145] Loss: 3.8574\n",
      "Epoch [7/40], Iter [30/145] Loss: 3.8082\n"
     ]
    },
    {
     "name": "stderr",
     "output_type": "stream",
     "text": [
      " 15%|█▌        | 6/40 [01:09<06:16, 11.06s/it]"
     ]
    },
    {
     "name": "stdout",
     "output_type": "stream",
     "text": [
      "Epoch [7/40], Iter [31/145] Loss: 3.9483\n",
      "Epoch [7/40], Iter [32/145] Loss: 3.5462\n",
      "Epoch [7/40], Iter [33/145] Loss: 3.5274\n"
     ]
    },
    {
     "name": "stderr",
     "output_type": "stream",
     "text": [
      " 15%|█▌        | 6/40 [01:09<06:16, 11.06s/it]"
     ]
    },
    {
     "name": "stdout",
     "output_type": "stream",
     "text": [
      "Epoch [7/40], Iter [34/145] Loss: 3.5423\n",
      "Epoch [7/40], Iter [35/145] Loss: 3.6517\n",
      "Epoch [7/40], Iter [36/145] Loss: 3.4849\n"
     ]
    },
    {
     "name": "stderr",
     "output_type": "stream",
     "text": [
      " 15%|█▌        | 6/40 [01:10<06:16, 11.06s/it]"
     ]
    },
    {
     "name": "stdout",
     "output_type": "stream",
     "text": [
      "Epoch [7/40], Iter [37/145] Loss: 3.5388\n",
      "Epoch [7/40], Iter [38/145] Loss: 4.1438\n",
      "Epoch [7/40], Iter [39/145] Loss: 3.6513\n"
     ]
    },
    {
     "name": "stderr",
     "output_type": "stream",
     "text": [
      " 15%|█▌        | 6/40 [01:10<06:16, 11.06s/it]"
     ]
    },
    {
     "name": "stdout",
     "output_type": "stream",
     "text": [
      "Epoch [7/40], Iter [40/145] Loss: 3.9730\n",
      "Epoch [7/40], Iter [41/145] Loss: 4.1119\n",
      "Epoch [7/40], Iter [42/145] Loss: 3.6793\n"
     ]
    },
    {
     "name": "stderr",
     "output_type": "stream",
     "text": [
      " 15%|█▌        | 6/40 [01:10<06:16, 11.06s/it]"
     ]
    },
    {
     "name": "stdout",
     "output_type": "stream",
     "text": [
      "Epoch [7/40], Iter [43/145] Loss: 3.6663\n",
      "Epoch [7/40], Iter [44/145] Loss: 3.8384\n",
      "Epoch [7/40], Iter [45/145] Loss: 3.7196\n"
     ]
    },
    {
     "name": "stderr",
     "output_type": "stream",
     "text": [
      " 15%|█▌        | 6/40 [01:10<06:16, 11.06s/it]"
     ]
    },
    {
     "name": "stdout",
     "output_type": "stream",
     "text": [
      "Epoch [7/40], Iter [46/145] Loss: 3.5404\n",
      "Epoch [7/40], Iter [47/145] Loss: 4.0887\n",
      "Epoch [7/40], Iter [48/145] Loss: 3.8538\n"
     ]
    },
    {
     "name": "stderr",
     "output_type": "stream",
     "text": [
      " 15%|█▌        | 6/40 [01:10<06:16, 11.06s/it]"
     ]
    },
    {
     "name": "stdout",
     "output_type": "stream",
     "text": [
      "Epoch [7/40], Iter [49/145] Loss: 4.1617\n",
      "Epoch [7/40], Iter [50/145] Loss: 3.8413\n",
      "Epoch [7/40], Iter [51/145] Loss: 3.9179\n"
     ]
    },
    {
     "name": "stderr",
     "output_type": "stream",
     "text": [
      " 15%|█▌        | 6/40 [01:11<06:16, 11.06s/it]"
     ]
    },
    {
     "name": "stdout",
     "output_type": "stream",
     "text": [
      "Epoch [7/40], Iter [52/145] Loss: 3.7999\n",
      "Epoch [7/40], Iter [53/145] Loss: 3.9631\n",
      "Epoch [7/40], Iter [54/145] Loss: 3.6742\n"
     ]
    },
    {
     "name": "stderr",
     "output_type": "stream",
     "text": [
      " 15%|█▌        | 6/40 [01:11<06:16, 11.06s/it]"
     ]
    },
    {
     "name": "stdout",
     "output_type": "stream",
     "text": [
      "Epoch [7/40], Iter [55/145] Loss: 3.9900\n",
      "Epoch [7/40], Iter [56/145] Loss: 3.8382\n",
      "Epoch [7/40], Iter [57/145] Loss: 3.9308\n"
     ]
    },
    {
     "name": "stderr",
     "output_type": "stream",
     "text": [
      " 15%|█▌        | 6/40 [01:11<06:16, 11.06s/it]"
     ]
    },
    {
     "name": "stdout",
     "output_type": "stream",
     "text": [
      "Epoch [7/40], Iter [58/145] Loss: 3.8771\n",
      "Epoch [7/40], Iter [59/145] Loss: 3.9650\n",
      "Epoch [7/40], Iter [60/145] Loss: 3.8092\n"
     ]
    },
    {
     "name": "stderr",
     "output_type": "stream",
     "text": [
      " 15%|█▌        | 6/40 [01:11<06:16, 11.06s/it]"
     ]
    },
    {
     "name": "stdout",
     "output_type": "stream",
     "text": [
      "Epoch [7/40], Iter [61/145] Loss: 4.0470\n",
      "Epoch [7/40], Iter [62/145] Loss: 3.9761\n",
      "Epoch [7/40], Iter [63/145] Loss: 3.9051\n"
     ]
    },
    {
     "name": "stderr",
     "output_type": "stream",
     "text": [
      " 15%|█▌        | 6/40 [01:12<06:16, 11.06s/it]"
     ]
    },
    {
     "name": "stdout",
     "output_type": "stream",
     "text": [
      "Epoch [7/40], Iter [64/145] Loss: 3.6998\n",
      "Epoch [7/40], Iter [65/145] Loss: 3.8636\n",
      "Epoch [7/40], Iter [66/145] Loss: 3.7109\n"
     ]
    },
    {
     "name": "stderr",
     "output_type": "stream",
     "text": [
      " 15%|█▌        | 6/40 [01:12<06:16, 11.06s/it]"
     ]
    },
    {
     "name": "stdout",
     "output_type": "stream",
     "text": [
      "Epoch [7/40], Iter [67/145] Loss: 4.0502\n",
      "Epoch [7/40], Iter [68/145] Loss: 3.8765\n",
      "Epoch [7/40], Iter [69/145] Loss: 3.7660\n"
     ]
    },
    {
     "name": "stderr",
     "output_type": "stream",
     "text": [
      " 15%|█▌        | 6/40 [01:12<06:16, 11.06s/it]"
     ]
    },
    {
     "name": "stdout",
     "output_type": "stream",
     "text": [
      "Epoch [7/40], Iter [70/145] Loss: 3.9006\n",
      "Epoch [7/40], Iter [71/145] Loss: 3.8238\n",
      "Epoch [7/40], Iter [72/145] Loss: 3.9366\n"
     ]
    },
    {
     "name": "stderr",
     "output_type": "stream",
     "text": [
      " 15%|█▌        | 6/40 [01:12<06:16, 11.06s/it]"
     ]
    },
    {
     "name": "stdout",
     "output_type": "stream",
     "text": [
      "Epoch [7/40], Iter [73/145] Loss: 3.7873\n",
      "Epoch [7/40], Iter [74/145] Loss: 3.7787\n",
      "Epoch [7/40], Iter [75/145] Loss: 3.7529\n"
     ]
    },
    {
     "name": "stderr",
     "output_type": "stream",
     "text": [
      " 15%|█▌        | 6/40 [01:13<06:16, 11.06s/it]"
     ]
    },
    {
     "name": "stdout",
     "output_type": "stream",
     "text": [
      "Epoch [7/40], Iter [76/145] Loss: 4.0811\n",
      "Epoch [7/40], Iter [77/145] Loss: 3.5893\n",
      "Epoch [7/40], Iter [78/145] Loss: 3.9726\n"
     ]
    },
    {
     "name": "stderr",
     "output_type": "stream",
     "text": [
      " 15%|█▌        | 6/40 [01:13<06:16, 11.06s/it]"
     ]
    },
    {
     "name": "stdout",
     "output_type": "stream",
     "text": [
      "Epoch [7/40], Iter [79/145] Loss: 3.5680\n",
      "Epoch [7/40], Iter [80/145] Loss: 3.9825\n",
      "Epoch [7/40], Iter [81/145] Loss: 3.6903\n"
     ]
    },
    {
     "name": "stderr",
     "output_type": "stream",
     "text": [
      " 15%|█▌        | 6/40 [01:13<06:16, 11.06s/it]"
     ]
    },
    {
     "name": "stdout",
     "output_type": "stream",
     "text": [
      "Epoch [7/40], Iter [82/145] Loss: 4.0903\n",
      "Epoch [7/40], Iter [83/145] Loss: 3.6752\n",
      "Epoch [7/40], Iter [84/145] Loss: 4.0513\n"
     ]
    },
    {
     "name": "stderr",
     "output_type": "stream",
     "text": [
      " 15%|█▌        | 6/40 [01:13<06:16, 11.06s/it]"
     ]
    },
    {
     "name": "stdout",
     "output_type": "stream",
     "text": [
      "Epoch [7/40], Iter [85/145] Loss: 3.8673\n",
      "Epoch [7/40], Iter [86/145] Loss: 3.9969\n",
      "Epoch [7/40], Iter [87/145] Loss: 3.8789\n"
     ]
    },
    {
     "name": "stderr",
     "output_type": "stream",
     "text": [
      " 15%|█▌        | 6/40 [01:13<06:16, 11.06s/it]"
     ]
    },
    {
     "name": "stdout",
     "output_type": "stream",
     "text": [
      "Epoch [7/40], Iter [88/145] Loss: 3.9841\n",
      "Epoch [7/40], Iter [89/145] Loss: 3.7893\n",
      "Epoch [7/40], Iter [90/145] Loss: 3.8634\n"
     ]
    },
    {
     "name": "stderr",
     "output_type": "stream",
     "text": [
      " 15%|█▌        | 6/40 [01:14<06:16, 11.06s/it]"
     ]
    },
    {
     "name": "stdout",
     "output_type": "stream",
     "text": [
      "Epoch [7/40], Iter [91/145] Loss: 3.8085\n",
      "Epoch [7/40], Iter [92/145] Loss: 3.9612\n",
      "Epoch [7/40], Iter [93/145] Loss: 3.8436\n"
     ]
    },
    {
     "name": "stderr",
     "output_type": "stream",
     "text": [
      " 15%|█▌        | 6/40 [01:14<06:16, 11.06s/it]"
     ]
    },
    {
     "name": "stdout",
     "output_type": "stream",
     "text": [
      "Epoch [7/40], Iter [94/145] Loss: 3.7831\n",
      "Epoch [7/40], Iter [95/145] Loss: 3.7865\n",
      "Epoch [7/40], Iter [96/145] Loss: 3.6955\n"
     ]
    },
    {
     "name": "stderr",
     "output_type": "stream",
     "text": [
      " 15%|█▌        | 6/40 [01:14<06:16, 11.06s/it]"
     ]
    },
    {
     "name": "stdout",
     "output_type": "stream",
     "text": [
      "Epoch [7/40], Iter [97/145] Loss: 3.6699\n",
      "Epoch [7/40], Iter [98/145] Loss: 3.7961\n",
      "Epoch [7/40], Iter [99/145] Loss: 3.9369\n"
     ]
    },
    {
     "name": "stderr",
     "output_type": "stream",
     "text": [
      " 15%|█▌        | 6/40 [01:14<06:16, 11.06s/it]"
     ]
    },
    {
     "name": "stdout",
     "output_type": "stream",
     "text": [
      "Epoch [7/40], Iter [100/145] Loss: 4.0828\n",
      "Epoch [7/40], Iter [101/145] Loss: 4.0869\n",
      "Epoch [7/40], Iter [102/145] Loss: 3.5402\n"
     ]
    },
    {
     "name": "stderr",
     "output_type": "stream",
     "text": [
      " 15%|█▌        | 6/40 [01:15<06:16, 11.06s/it]"
     ]
    },
    {
     "name": "stdout",
     "output_type": "stream",
     "text": [
      "Epoch [7/40], Iter [103/145] Loss: 3.8699\n",
      "Epoch [7/40], Iter [104/145] Loss: 3.6565\n",
      "Epoch [7/40], Iter [105/145] Loss: 3.8572\n"
     ]
    },
    {
     "name": "stderr",
     "output_type": "stream",
     "text": [
      " 15%|█▌        | 6/40 [01:15<06:16, 11.06s/it]"
     ]
    },
    {
     "name": "stdout",
     "output_type": "stream",
     "text": [
      "Epoch [7/40], Iter [106/145] Loss: 3.7350\n",
      "Epoch [7/40], Iter [107/145] Loss: 3.5980\n",
      "Epoch [7/40], Iter [108/145] Loss: 3.6430\n"
     ]
    },
    {
     "name": "stderr",
     "output_type": "stream",
     "text": [
      " 15%|█▌        | 6/40 [01:15<06:16, 11.06s/it]"
     ]
    },
    {
     "name": "stdout",
     "output_type": "stream",
     "text": [
      "Epoch [7/40], Iter [109/145] Loss: 3.8071\n",
      "Epoch [7/40], Iter [110/145] Loss: 3.7476\n",
      "Epoch [7/40], Iter [111/145] Loss: 3.8461\n"
     ]
    },
    {
     "name": "stderr",
     "output_type": "stream",
     "text": [
      " 15%|█▌        | 6/40 [01:15<06:16, 11.06s/it]"
     ]
    },
    {
     "name": "stdout",
     "output_type": "stream",
     "text": [
      "Epoch [7/40], Iter [112/145] Loss: 3.8815\n",
      "Epoch [7/40], Iter [113/145] Loss: 4.0221\n",
      "Epoch [7/40], Iter [114/145] Loss: 3.6902\n"
     ]
    },
    {
     "name": "stderr",
     "output_type": "stream",
     "text": [
      " 15%|█▌        | 6/40 [01:16<06:16, 11.06s/it]"
     ]
    },
    {
     "name": "stdout",
     "output_type": "stream",
     "text": [
      "Epoch [7/40], Iter [115/145] Loss: 3.5688\n",
      "Epoch [7/40], Iter [116/145] Loss: 3.6229\n",
      "Epoch [7/40], Iter [117/145] Loss: 3.8274\n"
     ]
    },
    {
     "name": "stderr",
     "output_type": "stream",
     "text": [
      " 15%|█▌        | 6/40 [01:16<06:16, 11.06s/it]"
     ]
    },
    {
     "name": "stdout",
     "output_type": "stream",
     "text": [
      "Epoch [7/40], Iter [118/145] Loss: 3.6656\n",
      "Epoch [7/40], Iter [119/145] Loss: 3.9730\n",
      "Epoch [7/40], Iter [120/145] Loss: 3.5510\n"
     ]
    },
    {
     "name": "stderr",
     "output_type": "stream",
     "text": [
      " 15%|█▌        | 6/40 [01:16<06:16, 11.06s/it]"
     ]
    },
    {
     "name": "stdout",
     "output_type": "stream",
     "text": [
      "Epoch [7/40], Iter [121/145] Loss: 3.7879\n",
      "Epoch [7/40], Iter [122/145] Loss: 3.9220\n",
      "Epoch [7/40], Iter [123/145] Loss: 3.8390\n"
     ]
    },
    {
     "name": "stderr",
     "output_type": "stream",
     "text": [
      " 15%|█▌        | 6/40 [01:16<06:16, 11.06s/it]"
     ]
    },
    {
     "name": "stdout",
     "output_type": "stream",
     "text": [
      "Epoch [7/40], Iter [124/145] Loss: 3.7219\n",
      "Epoch [7/40], Iter [125/145] Loss: 4.0576\n",
      "Epoch [7/40], Iter [126/145] Loss: 4.1713\n"
     ]
    },
    {
     "name": "stderr",
     "output_type": "stream",
     "text": [
      " 15%|█▌        | 6/40 [01:16<06:16, 11.06s/it]"
     ]
    },
    {
     "name": "stdout",
     "output_type": "stream",
     "text": [
      "Epoch [7/40], Iter [127/145] Loss: 3.8072\n",
      "Epoch [7/40], Iter [128/145] Loss: 3.8335\n",
      "Epoch [7/40], Iter [129/145] Loss: 3.8831\n"
     ]
    },
    {
     "name": "stderr",
     "output_type": "stream",
     "text": [
      " 15%|█▌        | 6/40 [01:17<06:16, 11.06s/it]"
     ]
    },
    {
     "name": "stdout",
     "output_type": "stream",
     "text": [
      "Epoch [7/40], Iter [130/145] Loss: 3.9417\n",
      "Epoch [7/40], Iter [131/145] Loss: 4.0369\n",
      "Epoch [7/40], Iter [132/145] Loss: 3.9001\n"
     ]
    },
    {
     "name": "stderr",
     "output_type": "stream",
     "text": [
      " 15%|█▌        | 6/40 [01:17<06:16, 11.06s/it]"
     ]
    },
    {
     "name": "stdout",
     "output_type": "stream",
     "text": [
      "Epoch [7/40], Iter [133/145] Loss: 3.8175\n",
      "Epoch [7/40], Iter [134/145] Loss: 4.0251\n",
      "Epoch [7/40], Iter [135/145] Loss: 3.7351\n"
     ]
    },
    {
     "name": "stderr",
     "output_type": "stream",
     "text": [
      " 15%|█▌        | 6/40 [01:17<06:16, 11.06s/it]"
     ]
    },
    {
     "name": "stdout",
     "output_type": "stream",
     "text": [
      "Epoch [7/40], Iter [136/145] Loss: 3.8821\n",
      "Epoch [7/40], Iter [137/145] Loss: 3.7537\n",
      "Epoch [7/40], Iter [138/145] Loss: 3.6579\n"
     ]
    },
    {
     "name": "stderr",
     "output_type": "stream",
     "text": [
      " 15%|█▌        | 6/40 [01:17<06:16, 11.06s/it]"
     ]
    },
    {
     "name": "stdout",
     "output_type": "stream",
     "text": [
      "Epoch [7/40], Iter [139/145] Loss: 3.8878\n",
      "Epoch [7/40], Iter [140/145] Loss: 3.8146\n",
      "Epoch [7/40], Iter [141/145] Loss: 3.7871\n"
     ]
    },
    {
     "name": "stderr",
     "output_type": "stream",
     "text": [
      " 15%|█▌        | 6/40 [01:18<06:16, 11.06s/it]"
     ]
    },
    {
     "name": "stdout",
     "output_type": "stream",
     "text": [
      "Epoch [7/40], Iter [142/145] Loss: 3.6241\n",
      "Epoch [7/40], Iter [143/145] Loss: 3.9074\n",
      "Epoch [7/40], Iter [144/145] Loss: 3.9244\n"
     ]
    },
    {
     "name": "stderr",
     "output_type": "stream",
     "text": [
      " 18%|█▊        | 7/40 [01:18<06:06, 11.11s/it]"
     ]
    },
    {
     "name": "stdout",
     "output_type": "stream",
     "text": [
      "Epoch [7/40], Iter [145/145] Loss: 4.0181\n"
     ]
    },
    {
     "name": "stderr",
     "output_type": "stream",
     "text": [
      " 18%|█▊        | 7/40 [01:18<06:06, 11.11s/it]"
     ]
    },
    {
     "name": "stdout",
     "output_type": "stream",
     "text": [
      "Epoch [8/40], Iter [1/145] Loss: 3.6786\n",
      "Epoch [8/40], Iter [2/145] Loss: 3.9157\n",
      "Epoch [8/40], Iter [3/145] Loss: 3.7057\n"
     ]
    },
    {
     "name": "stderr",
     "output_type": "stream",
     "text": [
      " 18%|█▊        | 7/40 [01:18<06:06, 11.11s/it]"
     ]
    },
    {
     "name": "stdout",
     "output_type": "stream",
     "text": [
      "Epoch [8/40], Iter [4/145] Loss: 4.0031\n",
      "Epoch [8/40], Iter [5/145] Loss: 3.8015\n",
      "Epoch [8/40], Iter [6/145] Loss: 3.4316\n"
     ]
    },
    {
     "name": "stderr",
     "output_type": "stream",
     "text": [
      " 18%|█▊        | 7/40 [01:19<06:06, 11.11s/it]"
     ]
    },
    {
     "name": "stdout",
     "output_type": "stream",
     "text": [
      "Epoch [8/40], Iter [7/145] Loss: 4.0279\n",
      "Epoch [8/40], Iter [8/145] Loss: 4.0171\n",
      "Epoch [8/40], Iter [9/145] Loss: 3.9163\n"
     ]
    },
    {
     "name": "stderr",
     "output_type": "stream",
     "text": [
      " 18%|█▊        | 7/40 [01:19<06:06, 11.11s/it]"
     ]
    },
    {
     "name": "stdout",
     "output_type": "stream",
     "text": [
      "Epoch [8/40], Iter [10/145] Loss: 3.9662\n",
      "Epoch [8/40], Iter [11/145] Loss: 3.7209\n",
      "Epoch [8/40], Iter [12/145] Loss: 3.7993\n"
     ]
    },
    {
     "name": "stderr",
     "output_type": "stream",
     "text": [
      " 18%|█▊        | 7/40 [01:19<06:06, 11.11s/it]"
     ]
    },
    {
     "name": "stdout",
     "output_type": "stream",
     "text": [
      "Epoch [8/40], Iter [13/145] Loss: 3.6925\n",
      "Epoch [8/40], Iter [14/145] Loss: 3.7519\n",
      "Epoch [8/40], Iter [15/145] Loss: 3.5664\n"
     ]
    },
    {
     "name": "stderr",
     "output_type": "stream",
     "text": [
      " 18%|█▊        | 7/40 [01:19<06:06, 11.11s/it]"
     ]
    },
    {
     "name": "stdout",
     "output_type": "stream",
     "text": [
      "Epoch [8/40], Iter [16/145] Loss: 3.6744\n",
      "Epoch [8/40], Iter [17/145] Loss: 3.6753\n",
      "Epoch [8/40], Iter [18/145] Loss: 3.5459\n"
     ]
    },
    {
     "name": "stderr",
     "output_type": "stream",
     "text": [
      " 18%|█▊        | 7/40 [01:19<06:06, 11.11s/it]"
     ]
    },
    {
     "name": "stdout",
     "output_type": "stream",
     "text": [
      "Epoch [8/40], Iter [19/145] Loss: 3.9997\n",
      "Epoch [8/40], Iter [20/145] Loss: 3.9869\n",
      "Epoch [8/40], Iter [21/145] Loss: 4.0632\n"
     ]
    },
    {
     "name": "stderr",
     "output_type": "stream",
     "text": [
      " 18%|█▊        | 7/40 [01:20<06:06, 11.11s/it]"
     ]
    },
    {
     "name": "stdout",
     "output_type": "stream",
     "text": [
      "Epoch [8/40], Iter [22/145] Loss: 3.8985\n",
      "Epoch [8/40], Iter [23/145] Loss: 3.8874\n",
      "Epoch [8/40], Iter [24/145] Loss: 3.6870\n"
     ]
    },
    {
     "name": "stderr",
     "output_type": "stream",
     "text": [
      " 18%|█▊        | 7/40 [01:20<06:06, 11.11s/it]"
     ]
    },
    {
     "name": "stdout",
     "output_type": "stream",
     "text": [
      "Epoch [8/40], Iter [25/145] Loss: 4.1190\n",
      "Epoch [8/40], Iter [26/145] Loss: 3.6733\n",
      "Epoch [8/40], Iter [27/145] Loss: 3.6425\n"
     ]
    },
    {
     "name": "stderr",
     "output_type": "stream",
     "text": [
      " 18%|█▊        | 7/40 [01:20<06:06, 11.11s/it]"
     ]
    },
    {
     "name": "stdout",
     "output_type": "stream",
     "text": [
      "Epoch [8/40], Iter [28/145] Loss: 3.8985\n",
      "Epoch [8/40], Iter [29/145] Loss: 3.7777\n",
      "Epoch [8/40], Iter [30/145] Loss: 3.6869\n"
     ]
    },
    {
     "name": "stderr",
     "output_type": "stream",
     "text": [
      " 18%|█▊        | 7/40 [01:20<06:06, 11.11s/it]"
     ]
    },
    {
     "name": "stdout",
     "output_type": "stream",
     "text": [
      "Epoch [8/40], Iter [31/145] Loss: 3.8838\n",
      "Epoch [8/40], Iter [32/145] Loss: 3.7185\n",
      "Epoch [8/40], Iter [33/145] Loss: 3.8005\n"
     ]
    },
    {
     "name": "stderr",
     "output_type": "stream",
     "text": [
      " 18%|█▊        | 7/40 [01:21<06:06, 11.11s/it]"
     ]
    },
    {
     "name": "stdout",
     "output_type": "stream",
     "text": [
      "Epoch [8/40], Iter [34/145] Loss: 3.7744\n",
      "Epoch [8/40], Iter [35/145] Loss: 3.9010\n",
      "Epoch [8/40], Iter [36/145] Loss: 3.8932\n"
     ]
    },
    {
     "name": "stderr",
     "output_type": "stream",
     "text": [
      " 18%|█▊        | 7/40 [01:21<06:06, 11.11s/it]"
     ]
    },
    {
     "name": "stdout",
     "output_type": "stream",
     "text": [
      "Epoch [8/40], Iter [37/145] Loss: 4.0027\n",
      "Epoch [8/40], Iter [38/145] Loss: 3.7289\n",
      "Epoch [8/40], Iter [39/145] Loss: 4.0710\n"
     ]
    },
    {
     "name": "stderr",
     "output_type": "stream",
     "text": [
      " 18%|█▊        | 7/40 [01:21<06:06, 11.11s/it]"
     ]
    },
    {
     "name": "stdout",
     "output_type": "stream",
     "text": [
      "Epoch [8/40], Iter [40/145] Loss: 3.9074\n",
      "Epoch [8/40], Iter [41/145] Loss: 3.7913\n",
      "Epoch [8/40], Iter [42/145] Loss: 3.8318\n"
     ]
    },
    {
     "name": "stderr",
     "output_type": "stream",
     "text": [
      " 18%|█▊        | 7/40 [01:21<06:06, 11.11s/it]"
     ]
    },
    {
     "name": "stdout",
     "output_type": "stream",
     "text": [
      "Epoch [8/40], Iter [43/145] Loss: 3.7082\n",
      "Epoch [8/40], Iter [44/145] Loss: 3.9051\n",
      "Epoch [8/40], Iter [45/145] Loss: 3.7118\n"
     ]
    },
    {
     "name": "stderr",
     "output_type": "stream",
     "text": [
      " 18%|█▊        | 7/40 [01:21<06:06, 11.11s/it]"
     ]
    },
    {
     "name": "stdout",
     "output_type": "stream",
     "text": [
      "Epoch [8/40], Iter [46/145] Loss: 3.7223\n",
      "Epoch [8/40], Iter [47/145] Loss: 3.8812\n",
      "Epoch [8/40], Iter [48/145] Loss: 3.8559\n"
     ]
    },
    {
     "name": "stderr",
     "output_type": "stream",
     "text": [
      " 18%|█▊        | 7/40 [01:22<06:06, 11.11s/it]"
     ]
    },
    {
     "name": "stdout",
     "output_type": "stream",
     "text": [
      "Epoch [8/40], Iter [49/145] Loss: 3.9494\n",
      "Epoch [8/40], Iter [50/145] Loss: 3.8913\n",
      "Epoch [8/40], Iter [51/145] Loss: 3.7029\n"
     ]
    },
    {
     "name": "stderr",
     "output_type": "stream",
     "text": [
      " 18%|█▊        | 7/40 [01:22<06:06, 11.11s/it]"
     ]
    },
    {
     "name": "stdout",
     "output_type": "stream",
     "text": [
      "Epoch [8/40], Iter [52/145] Loss: 3.8870\n",
      "Epoch [8/40], Iter [53/145] Loss: 3.8466\n",
      "Epoch [8/40], Iter [54/145] Loss: 3.8537\n"
     ]
    },
    {
     "name": "stderr",
     "output_type": "stream",
     "text": [
      " 18%|█▊        | 7/40 [01:22<06:06, 11.11s/it]"
     ]
    },
    {
     "name": "stdout",
     "output_type": "stream",
     "text": [
      "Epoch [8/40], Iter [55/145] Loss: 3.7520\n",
      "Epoch [8/40], Iter [56/145] Loss: 4.2116\n",
      "Epoch [8/40], Iter [57/145] Loss: 3.6242\n"
     ]
    },
    {
     "name": "stderr",
     "output_type": "stream",
     "text": [
      " 18%|█▊        | 7/40 [01:22<06:06, 11.11s/it]"
     ]
    },
    {
     "name": "stdout",
     "output_type": "stream",
     "text": [
      "Epoch [8/40], Iter [58/145] Loss: 3.9680\n",
      "Epoch [8/40], Iter [59/145] Loss: 3.9760\n",
      "Epoch [8/40], Iter [60/145] Loss: 4.0471\n"
     ]
    },
    {
     "name": "stderr",
     "output_type": "stream",
     "text": [
      " 18%|█▊        | 7/40 [01:23<06:06, 11.11s/it]"
     ]
    },
    {
     "name": "stdout",
     "output_type": "stream",
     "text": [
      "Epoch [8/40], Iter [61/145] Loss: 4.0048\n",
      "Epoch [8/40], Iter [62/145] Loss: 3.9096\n",
      "Epoch [8/40], Iter [63/145] Loss: 4.0074\n"
     ]
    },
    {
     "name": "stderr",
     "output_type": "stream",
     "text": [
      " 18%|█▊        | 7/40 [01:23<06:06, 11.11s/it]"
     ]
    },
    {
     "name": "stdout",
     "output_type": "stream",
     "text": [
      "Epoch [8/40], Iter [64/145] Loss: 3.8960\n",
      "Epoch [8/40], Iter [65/145] Loss: 3.7148\n",
      "Epoch [8/40], Iter [66/145] Loss: 3.7369\n"
     ]
    },
    {
     "name": "stderr",
     "output_type": "stream",
     "text": [
      " 18%|█▊        | 7/40 [01:23<06:06, 11.11s/it]"
     ]
    },
    {
     "name": "stdout",
     "output_type": "stream",
     "text": [
      "Epoch [8/40], Iter [67/145] Loss: 3.8994\n",
      "Epoch [8/40], Iter [68/145] Loss: 3.7092\n",
      "Epoch [8/40], Iter [69/145] Loss: 3.6271\n"
     ]
    },
    {
     "name": "stderr",
     "output_type": "stream",
     "text": [
      " 18%|█▊        | 7/40 [01:23<06:06, 11.11s/it]"
     ]
    },
    {
     "name": "stdout",
     "output_type": "stream",
     "text": [
      "Epoch [8/40], Iter [70/145] Loss: 3.6442\n",
      "Epoch [8/40], Iter [71/145] Loss: 3.6851\n",
      "Epoch [8/40], Iter [72/145] Loss: 4.2206\n"
     ]
    },
    {
     "name": "stderr",
     "output_type": "stream",
     "text": [
      " 18%|█▊        | 7/40 [01:24<06:06, 11.11s/it]"
     ]
    },
    {
     "name": "stdout",
     "output_type": "stream",
     "text": [
      "Epoch [8/40], Iter [73/145] Loss: 4.0638\n",
      "Epoch [8/40], Iter [74/145] Loss: 4.1416\n",
      "Epoch [8/40], Iter [75/145] Loss: 3.6248\n"
     ]
    },
    {
     "name": "stderr",
     "output_type": "stream",
     "text": [
      " 18%|█▊        | 7/40 [01:24<06:06, 11.11s/it]"
     ]
    },
    {
     "name": "stdout",
     "output_type": "stream",
     "text": [
      "Epoch [8/40], Iter [76/145] Loss: 3.8754\n",
      "Epoch [8/40], Iter [77/145] Loss: 4.0432\n",
      "Epoch [8/40], Iter [78/145] Loss: 3.9513\n"
     ]
    },
    {
     "name": "stderr",
     "output_type": "stream",
     "text": [
      " 18%|█▊        | 7/40 [01:24<06:06, 11.11s/it]"
     ]
    },
    {
     "name": "stdout",
     "output_type": "stream",
     "text": [
      "Epoch [8/40], Iter [79/145] Loss: 3.7703\n",
      "Epoch [8/40], Iter [80/145] Loss: 3.7646\n",
      "Epoch [8/40], Iter [81/145] Loss: 3.9071\n"
     ]
    },
    {
     "name": "stderr",
     "output_type": "stream",
     "text": [
      " 18%|█▊        | 7/40 [01:24<06:06, 11.11s/it]"
     ]
    },
    {
     "name": "stdout",
     "output_type": "stream",
     "text": [
      "Epoch [8/40], Iter [82/145] Loss: 4.0348\n",
      "Epoch [8/40], Iter [83/145] Loss: 3.7644\n",
      "Epoch [8/40], Iter [84/145] Loss: 3.5048\n"
     ]
    },
    {
     "name": "stderr",
     "output_type": "stream",
     "text": [
      " 18%|█▊        | 7/40 [01:25<06:06, 11.11s/it]"
     ]
    },
    {
     "name": "stdout",
     "output_type": "stream",
     "text": [
      "Epoch [8/40], Iter [85/145] Loss: 3.7681\n",
      "Epoch [8/40], Iter [86/145] Loss: 3.9332\n",
      "Epoch [8/40], Iter [87/145] Loss: 3.8442\n"
     ]
    },
    {
     "name": "stderr",
     "output_type": "stream",
     "text": [
      " 18%|█▊        | 7/40 [01:25<06:06, 11.11s/it]"
     ]
    },
    {
     "name": "stdout",
     "output_type": "stream",
     "text": [
      "Epoch [8/40], Iter [88/145] Loss: 3.9361\n",
      "Epoch [8/40], Iter [89/145] Loss: 3.7911\n",
      "Epoch [8/40], Iter [90/145] Loss: 3.7260\n"
     ]
    },
    {
     "name": "stderr",
     "output_type": "stream",
     "text": [
      " 18%|█▊        | 7/40 [01:25<06:06, 11.11s/it]"
     ]
    },
    {
     "name": "stdout",
     "output_type": "stream",
     "text": [
      "Epoch [8/40], Iter [91/145] Loss: 3.5260\n",
      "Epoch [8/40], Iter [92/145] Loss: 3.9834\n",
      "Epoch [8/40], Iter [93/145] Loss: 3.8852\n"
     ]
    },
    {
     "name": "stderr",
     "output_type": "stream",
     "text": [
      " 18%|█▊        | 7/40 [01:25<06:06, 11.11s/it]"
     ]
    },
    {
     "name": "stdout",
     "output_type": "stream",
     "text": [
      "Epoch [8/40], Iter [94/145] Loss: 3.9225\n",
      "Epoch [8/40], Iter [95/145] Loss: 3.6923\n",
      "Epoch [8/40], Iter [96/145] Loss: 3.9202\n"
     ]
    },
    {
     "name": "stderr",
     "output_type": "stream",
     "text": [
      " 18%|█▊        | 7/40 [01:26<06:06, 11.11s/it]"
     ]
    },
    {
     "name": "stdout",
     "output_type": "stream",
     "text": [
      "Epoch [8/40], Iter [97/145] Loss: 3.7039\n",
      "Epoch [8/40], Iter [98/145] Loss: 3.9728\n",
      "Epoch [8/40], Iter [99/145] Loss: 3.7808\n"
     ]
    },
    {
     "name": "stderr",
     "output_type": "stream",
     "text": [
      " 18%|█▊        | 7/40 [01:26<06:06, 11.11s/it]"
     ]
    },
    {
     "name": "stdout",
     "output_type": "stream",
     "text": [
      "Epoch [8/40], Iter [100/145] Loss: 3.7951\n",
      "Epoch [8/40], Iter [101/145] Loss: 3.8957\n",
      "Epoch [8/40], Iter [102/145] Loss: 3.8465\n"
     ]
    },
    {
     "name": "stderr",
     "output_type": "stream",
     "text": [
      " 18%|█▊        | 7/40 [01:26<06:06, 11.11s/it]"
     ]
    },
    {
     "name": "stdout",
     "output_type": "stream",
     "text": [
      "Epoch [8/40], Iter [103/145] Loss: 3.8021\n",
      "Epoch [8/40], Iter [104/145] Loss: 3.8133\n",
      "Epoch [8/40], Iter [105/145] Loss: 3.8474\n"
     ]
    },
    {
     "name": "stderr",
     "output_type": "stream",
     "text": [
      " 18%|█▊        | 7/40 [01:26<06:06, 11.11s/it]"
     ]
    },
    {
     "name": "stdout",
     "output_type": "stream",
     "text": [
      "Epoch [8/40], Iter [106/145] Loss: 3.9645\n",
      "Epoch [8/40], Iter [107/145] Loss: 3.6775\n",
      "Epoch [8/40], Iter [108/145] Loss: 3.6999\n"
     ]
    },
    {
     "name": "stderr",
     "output_type": "stream",
     "text": [
      " 18%|█▊        | 7/40 [01:27<06:06, 11.11s/it]"
     ]
    },
    {
     "name": "stdout",
     "output_type": "stream",
     "text": [
      "Epoch [8/40], Iter [109/145] Loss: 4.0241\n",
      "Epoch [8/40], Iter [110/145] Loss: 3.9820\n",
      "Epoch [8/40], Iter [111/145] Loss: 3.8147\n"
     ]
    },
    {
     "name": "stderr",
     "output_type": "stream",
     "text": [
      " 18%|█▊        | 7/40 [01:27<06:06, 11.11s/it]"
     ]
    },
    {
     "name": "stdout",
     "output_type": "stream",
     "text": [
      "Epoch [8/40], Iter [112/145] Loss: 3.7847\n",
      "Epoch [8/40], Iter [113/145] Loss: 4.0573\n",
      "Epoch [8/40], Iter [114/145] Loss: 3.8870\n"
     ]
    },
    {
     "name": "stderr",
     "output_type": "stream",
     "text": [
      " 18%|█▊        | 7/40 [01:27<06:06, 11.11s/it]"
     ]
    },
    {
     "name": "stdout",
     "output_type": "stream",
     "text": [
      "Epoch [8/40], Iter [115/145] Loss: 3.7495\n",
      "Epoch [8/40], Iter [116/145] Loss: 3.8920\n",
      "Epoch [8/40], Iter [117/145] Loss: 3.6559\n"
     ]
    },
    {
     "name": "stderr",
     "output_type": "stream",
     "text": [
      " 18%|█▊        | 7/40 [01:27<06:06, 11.11s/it]"
     ]
    },
    {
     "name": "stdout",
     "output_type": "stream",
     "text": [
      "Epoch [8/40], Iter [118/145] Loss: 3.9199\n",
      "Epoch [8/40], Iter [119/145] Loss: 3.9166\n",
      "Epoch [8/40], Iter [120/145] Loss: 3.6434\n"
     ]
    },
    {
     "name": "stderr",
     "output_type": "stream",
     "text": [
      " 18%|█▊        | 7/40 [01:28<06:06, 11.11s/it]"
     ]
    },
    {
     "name": "stdout",
     "output_type": "stream",
     "text": [
      "Epoch [8/40], Iter [121/145] Loss: 3.7086\n",
      "Epoch [8/40], Iter [122/145] Loss: 3.9205\n",
      "Epoch [8/40], Iter [123/145] Loss: 3.7998\n"
     ]
    },
    {
     "name": "stderr",
     "output_type": "stream",
     "text": [
      " 18%|█▊        | 7/40 [01:28<06:06, 11.11s/it]"
     ]
    },
    {
     "name": "stdout",
     "output_type": "stream",
     "text": [
      "Epoch [8/40], Iter [124/145] Loss: 4.0021\n",
      "Epoch [8/40], Iter [125/145] Loss: 3.7125\n",
      "Epoch [8/40], Iter [126/145] Loss: 3.8756\n"
     ]
    },
    {
     "name": "stderr",
     "output_type": "stream",
     "text": [
      " 18%|█▊        | 7/40 [01:28<06:06, 11.11s/it]"
     ]
    },
    {
     "name": "stdout",
     "output_type": "stream",
     "text": [
      "Epoch [8/40], Iter [127/145] Loss: 3.8313\n",
      "Epoch [8/40], Iter [128/145] Loss: 3.9109\n",
      "Epoch [8/40], Iter [129/145] Loss: 3.7463\n"
     ]
    },
    {
     "name": "stderr",
     "output_type": "stream",
     "text": [
      " 18%|█▊        | 7/40 [01:28<06:06, 11.11s/it]"
     ]
    },
    {
     "name": "stdout",
     "output_type": "stream",
     "text": [
      "Epoch [8/40], Iter [130/145] Loss: 3.8518\n",
      "Epoch [8/40], Iter [131/145] Loss: 3.9662\n",
      "Epoch [8/40], Iter [132/145] Loss: 3.8127\n"
     ]
    },
    {
     "name": "stderr",
     "output_type": "stream",
     "text": [
      " 18%|█▊        | 7/40 [01:28<06:06, 11.11s/it]"
     ]
    },
    {
     "name": "stdout",
     "output_type": "stream",
     "text": [
      "Epoch [8/40], Iter [133/145] Loss: 3.5271\n",
      "Epoch [8/40], Iter [134/145] Loss: 3.6862\n",
      "Epoch [8/40], Iter [135/145] Loss: 3.8516\n"
     ]
    },
    {
     "name": "stderr",
     "output_type": "stream",
     "text": [
      " 18%|█▊        | 7/40 [01:29<06:06, 11.11s/it]"
     ]
    },
    {
     "name": "stdout",
     "output_type": "stream",
     "text": [
      "Epoch [8/40], Iter [136/145] Loss: 4.0360\n",
      "Epoch [8/40], Iter [137/145] Loss: 3.9031\n",
      "Epoch [8/40], Iter [138/145] Loss: 3.9353\n"
     ]
    },
    {
     "name": "stderr",
     "output_type": "stream",
     "text": [
      " 18%|█▊        | 7/40 [01:29<06:06, 11.11s/it]"
     ]
    },
    {
     "name": "stdout",
     "output_type": "stream",
     "text": [
      "Epoch [8/40], Iter [139/145] Loss: 3.8070\n",
      "Epoch [8/40], Iter [140/145] Loss: 4.1250\n",
      "Epoch [8/40], Iter [141/145] Loss: 3.9766\n"
     ]
    },
    {
     "name": "stderr",
     "output_type": "stream",
     "text": [
      " 18%|█▊        | 7/40 [01:29<06:06, 11.11s/it]"
     ]
    },
    {
     "name": "stdout",
     "output_type": "stream",
     "text": [
      "Epoch [8/40], Iter [142/145] Loss: 3.7967\n",
      "Epoch [8/40], Iter [143/145] Loss: 3.7940\n",
      "Epoch [8/40], Iter [144/145] Loss: 3.8288\n"
     ]
    },
    {
     "name": "stderr",
     "output_type": "stream",
     "text": [
      " 20%|██        | 8/40 [01:29<06:01, 11.30s/it]"
     ]
    },
    {
     "name": "stdout",
     "output_type": "stream",
     "text": [
      "Epoch [8/40], Iter [145/145] Loss: 3.7554\n"
     ]
    },
    {
     "name": "stderr",
     "output_type": "stream",
     "text": [
      " 20%|██        | 8/40 [01:30<06:01, 11.30s/it]"
     ]
    },
    {
     "name": "stdout",
     "output_type": "stream",
     "text": [
      "Epoch [9/40], Iter [1/145] Loss: 3.8622\n",
      "Epoch [9/40], Iter [2/145] Loss: 3.5922\n",
      "Epoch [9/40], Iter [3/145] Loss: 3.8337\n"
     ]
    },
    {
     "name": "stderr",
     "output_type": "stream",
     "text": [
      " 20%|██        | 8/40 [01:30<06:01, 11.30s/it]"
     ]
    },
    {
     "name": "stdout",
     "output_type": "stream",
     "text": [
      "Epoch [9/40], Iter [4/145] Loss: 3.8508\n",
      "Epoch [9/40], Iter [5/145] Loss: 3.8983\n",
      "Epoch [9/40], Iter [6/145] Loss: 3.8833\n"
     ]
    },
    {
     "name": "stderr",
     "output_type": "stream",
     "text": [
      " 20%|██        | 8/40 [01:30<06:01, 11.30s/it]"
     ]
    },
    {
     "name": "stdout",
     "output_type": "stream",
     "text": [
      "Epoch [9/40], Iter [7/145] Loss: 3.9762\n",
      "Epoch [9/40], Iter [8/145] Loss: 3.5592\n",
      "Epoch [9/40], Iter [9/145] Loss: 4.0338\n"
     ]
    },
    {
     "name": "stderr",
     "output_type": "stream",
     "text": [
      " 20%|██        | 8/40 [01:31<06:01, 11.30s/it]"
     ]
    },
    {
     "name": "stdout",
     "output_type": "stream",
     "text": [
      "Epoch [9/40], Iter [10/145] Loss: 3.8278\n",
      "Epoch [9/40], Iter [11/145] Loss: 3.7693\n",
      "Epoch [9/40], Iter [12/145] Loss: 3.8787\n"
     ]
    },
    {
     "name": "stderr",
     "output_type": "stream",
     "text": [
      " 20%|██        | 8/40 [01:31<06:01, 11.30s/it]"
     ]
    },
    {
     "name": "stdout",
     "output_type": "stream",
     "text": [
      "Epoch [9/40], Iter [13/145] Loss: 3.6143\n",
      "Epoch [9/40], Iter [14/145] Loss: 4.0598\n",
      "Epoch [9/40], Iter [15/145] Loss: 3.8025\n"
     ]
    },
    {
     "name": "stderr",
     "output_type": "stream",
     "text": [
      " 20%|██        | 8/40 [01:31<06:01, 11.30s/it]"
     ]
    },
    {
     "name": "stdout",
     "output_type": "stream",
     "text": [
      "Epoch [9/40], Iter [16/145] Loss: 3.7868\n",
      "Epoch [9/40], Iter [17/145] Loss: 4.0211\n",
      "Epoch [9/40], Iter [18/145] Loss: 3.7728\n"
     ]
    },
    {
     "name": "stderr",
     "output_type": "stream",
     "text": [
      " 20%|██        | 8/40 [01:31<06:01, 11.30s/it]"
     ]
    },
    {
     "name": "stdout",
     "output_type": "stream",
     "text": [
      "Epoch [9/40], Iter [19/145] Loss: 3.8109\n",
      "Epoch [9/40], Iter [20/145] Loss: 3.7581\n",
      "Epoch [9/40], Iter [21/145] Loss: 4.1815\n"
     ]
    },
    {
     "name": "stderr",
     "output_type": "stream",
     "text": [
      " 20%|██        | 8/40 [01:32<06:01, 11.30s/it]"
     ]
    },
    {
     "name": "stdout",
     "output_type": "stream",
     "text": [
      "Epoch [9/40], Iter [22/145] Loss: 3.8118\n",
      "Epoch [9/40], Iter [23/145] Loss: 3.8386\n",
      "Epoch [9/40], Iter [24/145] Loss: 3.9113\n"
     ]
    },
    {
     "name": "stderr",
     "output_type": "stream",
     "text": [
      " 20%|██        | 8/40 [01:32<06:01, 11.30s/it]"
     ]
    },
    {
     "name": "stdout",
     "output_type": "stream",
     "text": [
      "Epoch [9/40], Iter [25/145] Loss: 3.8485\n",
      "Epoch [9/40], Iter [26/145] Loss: 3.7764\n",
      "Epoch [9/40], Iter [27/145] Loss: 3.8763\n"
     ]
    },
    {
     "name": "stderr",
     "output_type": "stream",
     "text": [
      " 20%|██        | 8/40 [01:32<06:09, 11.56s/it]\n"
     ]
    },
    {
     "name": "stdout",
     "output_type": "stream",
     "text": [
      "Epoch [9/40], Iter [28/145] Loss: 3.8278\n",
      "Epoch [9/40], Iter [29/145] Loss: 3.7948\n"
     ]
    },
    {
     "ename": "KeyboardInterrupt",
     "evalue": "",
     "output_type": "error",
     "traceback": [
      "\u001b[0;31m---------------------------------------------------------------------------\u001b[0m",
      "\u001b[0;31mKeyboardInterrupt\u001b[0m                         Traceback (most recent call last)",
      "\u001b[1;32m/home/anubhav/Desktop/cil-workspace/LWF/test_without_cil_pytorch.ipynb Cell 3'\u001b[0m in \u001b[0;36m<cell line: 15>\u001b[0;34m()\u001b[0m\n\u001b[1;32m      <a href='vscode-notebook-cell:/home/anubhav/Desktop/cil-workspace/LWF/test_without_cil_pytorch.ipynb#ch0000003?line=8'>9</a>\u001b[0m test_set \u001b[39m=\u001b[39m genomics_data(train\u001b[39m=\u001b[39m\u001b[39mFalse\u001b[39;00m,classes\u001b[39m=\u001b[39mall_classes)\n\u001b[1;32m     <a href='vscode-notebook-cell:/home/anubhav/Desktop/cil-workspace/LWF/test_without_cil_pytorch.ipynb#ch0000003?line=10'>11</a>\u001b[0m test_loader \u001b[39m=\u001b[39m torch\u001b[39m.\u001b[39mutils\u001b[39m.\u001b[39mdata\u001b[39m.\u001b[39mDataLoader(test_set, batch_size\u001b[39m=\u001b[39m\u001b[39m48\u001b[39m,\n\u001b[1;32m     <a href='vscode-notebook-cell:/home/anubhav/Desktop/cil-workspace/LWF/test_without_cil_pytorch.ipynb#ch0000003?line=11'>12</a>\u001b[0m                                             shuffle\u001b[39m=\u001b[39m\u001b[39mFalse\u001b[39;00m, num_workers\u001b[39m=\u001b[39m\u001b[39m8\u001b[39m)\n\u001b[0;32m---> <a href='vscode-notebook-cell:/home/anubhav/Desktop/cil-workspace/LWF/test_without_cil_pytorch.ipynb#ch0000003?line=14'>15</a>\u001b[0m model\u001b[39m.\u001b[39;49mupdate(train_set, all_classes)\n",
      "\u001b[1;32m/home/anubhav/Desktop/cil-workspace/LWF/test_without_cil_pytorch.ipynb Cell 2'\u001b[0m in \u001b[0;36mModel.update\u001b[0;34m(self, dataset, class_map)\u001b[0m\n\u001b[1;32m     <a href='vscode-notebook-cell:/home/anubhav/Desktop/cil-workspace/LWF/test_without_cil_pytorch.ipynb#ch0000001?line=85'>86</a>\u001b[0m logits \u001b[39m=\u001b[39m \u001b[39mself\u001b[39m\u001b[39m.\u001b[39mforward(images)\n\u001b[1;32m     <a href='vscode-notebook-cell:/home/anubhav/Desktop/cil-workspace/LWF/test_without_cil_pytorch.ipynb#ch0000001?line=87'>88</a>\u001b[0m loss \u001b[39m=\u001b[39m nn\u001b[39m.\u001b[39mCrossEntropyLoss()(logits, labels)\n\u001b[0;32m---> <a href='vscode-notebook-cell:/home/anubhav/Desktop/cil-workspace/LWF/test_without_cil_pytorch.ipynb#ch0000001?line=89'>90</a>\u001b[0m loss\u001b[39m.\u001b[39;49mbackward()\n\u001b[1;32m     <a href='vscode-notebook-cell:/home/anubhav/Desktop/cil-workspace/LWF/test_without_cil_pytorch.ipynb#ch0000001?line=90'>91</a>\u001b[0m optimizer\u001b[39m.\u001b[39mstep()\n\u001b[1;32m     <a href='vscode-notebook-cell:/home/anubhav/Desktop/cil-workspace/LWF/test_without_cil_pytorch.ipynb#ch0000001?line=92'>93</a>\u001b[0m \u001b[39mif\u001b[39;00m (i\u001b[39m+\u001b[39m\u001b[39m1\u001b[39m) \u001b[39m%\u001b[39m \u001b[39m1\u001b[39m \u001b[39m==\u001b[39m \u001b[39m0\u001b[39m:\n",
      "File \u001b[0;32m~/anaconda3/envs/torch/lib/python3.9/site-packages/torch/_tensor.py:363\u001b[0m, in \u001b[0;36mTensor.backward\u001b[0;34m(self, gradient, retain_graph, create_graph, inputs)\u001b[0m\n\u001b[1;32m    <a href='file:///~/anaconda3/envs/torch/lib/python3.9/site-packages/torch/_tensor.py?line=353'>354</a>\u001b[0m \u001b[39mif\u001b[39;00m has_torch_function_unary(\u001b[39mself\u001b[39m):\n\u001b[1;32m    <a href='file:///~/anaconda3/envs/torch/lib/python3.9/site-packages/torch/_tensor.py?line=354'>355</a>\u001b[0m     \u001b[39mreturn\u001b[39;00m handle_torch_function(\n\u001b[1;32m    <a href='file:///~/anaconda3/envs/torch/lib/python3.9/site-packages/torch/_tensor.py?line=355'>356</a>\u001b[0m         Tensor\u001b[39m.\u001b[39mbackward,\n\u001b[1;32m    <a href='file:///~/anaconda3/envs/torch/lib/python3.9/site-packages/torch/_tensor.py?line=356'>357</a>\u001b[0m         (\u001b[39mself\u001b[39m,),\n\u001b[0;32m   (...)\u001b[0m\n\u001b[1;32m    <a href='file:///~/anaconda3/envs/torch/lib/python3.9/site-packages/torch/_tensor.py?line=360'>361</a>\u001b[0m         create_graph\u001b[39m=\u001b[39mcreate_graph,\n\u001b[1;32m    <a href='file:///~/anaconda3/envs/torch/lib/python3.9/site-packages/torch/_tensor.py?line=361'>362</a>\u001b[0m         inputs\u001b[39m=\u001b[39minputs)\n\u001b[0;32m--> <a href='file:///~/anaconda3/envs/torch/lib/python3.9/site-packages/torch/_tensor.py?line=362'>363</a>\u001b[0m torch\u001b[39m.\u001b[39;49mautograd\u001b[39m.\u001b[39;49mbackward(\u001b[39mself\u001b[39;49m, gradient, retain_graph, create_graph, inputs\u001b[39m=\u001b[39;49minputs)\n",
      "File \u001b[0;32m~/anaconda3/envs/torch/lib/python3.9/site-packages/torch/autograd/__init__.py:173\u001b[0m, in \u001b[0;36mbackward\u001b[0;34m(tensors, grad_tensors, retain_graph, create_graph, grad_variables, inputs)\u001b[0m\n\u001b[1;32m    <a href='file:///~/anaconda3/envs/torch/lib/python3.9/site-packages/torch/autograd/__init__.py?line=167'>168</a>\u001b[0m     retain_graph \u001b[39m=\u001b[39m create_graph\n\u001b[1;32m    <a href='file:///~/anaconda3/envs/torch/lib/python3.9/site-packages/torch/autograd/__init__.py?line=169'>170</a>\u001b[0m \u001b[39m# The reason we repeat same the comment below is that\u001b[39;00m\n\u001b[1;32m    <a href='file:///~/anaconda3/envs/torch/lib/python3.9/site-packages/torch/autograd/__init__.py?line=170'>171</a>\u001b[0m \u001b[39m# some Python versions print out the first line of a multi-line function\u001b[39;00m\n\u001b[1;32m    <a href='file:///~/anaconda3/envs/torch/lib/python3.9/site-packages/torch/autograd/__init__.py?line=171'>172</a>\u001b[0m \u001b[39m# calls in the traceback and some print out the last line\u001b[39;00m\n\u001b[0;32m--> <a href='file:///~/anaconda3/envs/torch/lib/python3.9/site-packages/torch/autograd/__init__.py?line=172'>173</a>\u001b[0m Variable\u001b[39m.\u001b[39;49m_execution_engine\u001b[39m.\u001b[39;49mrun_backward(  \u001b[39m# Calls into the C++ engine to run the backward pass\u001b[39;49;00m\n\u001b[1;32m    <a href='file:///~/anaconda3/envs/torch/lib/python3.9/site-packages/torch/autograd/__init__.py?line=173'>174</a>\u001b[0m     tensors, grad_tensors_, retain_graph, create_graph, inputs,\n\u001b[1;32m    <a href='file:///~/anaconda3/envs/torch/lib/python3.9/site-packages/torch/autograd/__init__.py?line=174'>175</a>\u001b[0m     allow_unreachable\u001b[39m=\u001b[39;49m\u001b[39mTrue\u001b[39;49;00m, accumulate_grad\u001b[39m=\u001b[39;49m\u001b[39mTrue\u001b[39;49;00m)\n",
      "\u001b[0;31mKeyboardInterrupt\u001b[0m: "
     ]
    }
   ],
   "source": [
    "model = Model(66)\n",
    "model.to(device)\n",
    "all_classes = np.arange(66)\n",
    "\n",
    "train_set = genomics_data(train=True,classes=all_classes)\n",
    "train_loader = torch.utils.data.DataLoader(train_set, batch_size=48,\n",
    "\t\t\t\t\t\t\t\t\t\t\t\t\tshuffle=True, num_workers=8)\n",
    "\n",
    "test_set = genomics_data(train=False,classes=all_classes)\n",
    "\n",
    "test_loader = torch.utils.data.DataLoader(test_set, batch_size=48,\n",
    "                                            shuffle=False, num_workers=8)\n",
    "\n",
    "\n",
    "model.update(train_set, all_classes)"
   ]
  }
 ],
 "metadata": {
  "interpreter": {
   "hash": "3b5a79dab83a4831680fa621fc6936c7fff2d268d3679ee259110d3832e3964b"
  },
  "kernelspec": {
   "display_name": "Python 3.9.12 ('torch')",
   "language": "python",
   "name": "python3"
  },
  "language_info": {
   "codemirror_mode": {
    "name": "ipython",
    "version": 3
   },
   "file_extension": ".py",
   "mimetype": "text/x-python",
   "name": "python",
   "nbconvert_exporter": "python",
   "pygments_lexer": "ipython3",
   "version": "3.9.12"
  },
  "orig_nbformat": 4
 },
 "nbformat": 4,
 "nbformat_minor": 2
}
