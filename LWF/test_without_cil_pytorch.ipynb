{
 "cells": [
  {
   "cell_type": "code",
   "execution_count": 10,
   "metadata": {},
   "outputs": [],
   "source": [
    "from model import Model\n",
    "import torch\n",
    "torch.backends.cudnn.benchmark=True\n",
    "import torch.nn as nn\n",
    "import torchvision.datasets as dsets\n",
    "import torchvision.models as models\n",
    "import torchvision.transforms as transforms\n",
    "from torch.autograd import Variable\n",
    "import torch.optim as optim\n",
    "import torch.nn.functional as F\n",
    "import argparse\n",
    "import time\n",
    "import numpy as np\n",
    "import subprocess\n",
    "from numpy import random\n",
    "import copy\n",
    "device=\"cpu\"\n",
    "from tqdm import tqdm\n",
    "\n",
    "# import matplotlib.pyplot as plt\n",
    "from data_loader import genomics_data"
   ]
  },
  {
   "cell_type": "code",
   "execution_count": 11,
   "metadata": {},
   "outputs": [],
   "source": [
    "def kaiming_normal_init(m):\n",
    "\tif isinstance(m, nn.Conv2d):\n",
    "\t\tnn.init.kaiming_normal_(m.weight, nonlinearity='relu')\n",
    "\telif isinstance(m, nn.Linear):\n",
    "\t\tnn.init.kaiming_normal_(m.weight, nonlinearity='sigmoid')\n",
    "\n",
    "\n",
    "class Model(nn.Module):\n",
    "\tdef __init__(self, classes):\n",
    "\t\t# Hyper Parameters\n",
    "\t\tself.init_lr = 0.1\n",
    "\t\tself.num_epochs = 40\n",
    "\t\tself.batch_size = 48\n",
    "\t\t\n",
    "\t\tself.pretrained = False\n",
    "\t\tself.momentum = 0.9\n",
    "\t\tself.weight_decay = 0.0001\n",
    "\t\t# Constant to provide numerical stability while normalizing\n",
    "\t\tself.epsilon = 1e-16\n",
    "\n",
    "\t\t# Network architecture\n",
    "\t\tsuper(Model, self).__init__()\n",
    "\t\tmodel = nn.Sequential(\n",
    "\t\tnn.Conv1d(1, 6, kernel_size=6),\n",
    "\t\tnn.ReLU(),\n",
    "\t\tnn.Conv1d(6, 3, kernel_size=6),\n",
    "\t\tnn.ReLU(),\n",
    "\t\tnn.Flatten(),\n",
    "\t\tnn.Linear(12258,1024),\n",
    "\t\tnn.ReLU()\n",
    "\t\t)\n",
    "\n",
    "\t\tself.feature_extractor=model\n",
    "\n",
    "\t\tself.feature_extractor.apply(kaiming_normal_init)\n",
    "\t\tself.fc = nn.Linear(1024, classes, bias=False)\n",
    "\n",
    "\t\tself.n_classes = 0\n",
    "\n",
    "\tdef forward(self, x):\n",
    "\t\tx = self.feature_extractor(x)\n",
    "\t\tx = x.view(x.size(0), -1)\n",
    "\t\tx = self.fc(x)\n",
    "\t\treturn x\n",
    "\n",
    "\n",
    "\n",
    "\tdef classify(self, images):\n",
    "\t\t\"\"\"Classify images by softmax\n",
    "\n",
    "\t\tArgs:\n",
    "\t\t\tx: input image batch\n",
    "\t\tReturns:\n",
    "\t\t\tpreds: Tensor of size (batch_size,)\n",
    "\t\t\"\"\"\n",
    "\t\t_, preds = torch.max(torch.softmax(self.forward(images), dim=1), dim=1, keepdim=False)\n",
    "\n",
    "\t\treturn preds\n",
    "\n",
    "\tdef update(self, dataset, class_map):\n",
    "\n",
    "\t\tself.compute_means = True\n",
    "\n",
    "\t\t# Save a copy to compute distillation outputs\n",
    "\n",
    "\n",
    "\t\tclasses = list(set(dataset.train_labels))\n",
    "\n",
    "\t\tloader = torch.utils.data.DataLoader(dataset, batch_size=self.batch_size,\n",
    "\t\t\t\t\t\t\t\t\t\t\t   shuffle=True, num_workers=8)\n",
    "\n",
    "\t\tprint(\"Batch Size (for n_classes classes) : \", len(dataset))\n",
    "\t\toptimizer = optim.SGD(self.parameters(), lr=self.init_lr, momentum = self.momentum, weight_decay=self.weight_decay)\n",
    "\n",
    "\t\twith tqdm(total=self.num_epochs) as pbar:\n",
    "\t\t\tfor epoch in range(self.num_epochs):\n",
    "\t\t\t\t\n",
    "\t\t\t\tfor i, (indices, images, labels) in enumerate(loader):\n",
    "\t\t\t\t\tseen_labels = []\n",
    "\t\t\t\t\timages = Variable(torch.FloatTensor(images)).to(device)\n",
    "\t\t\t\t\tseen_labels = torch.LongTensor([class_map[label] for label in labels.numpy()])\n",
    "\t\t\t\t\tlabels = Variable(seen_labels).to(device)\n",
    "\t\t\t\t\t# indices = indices.cuda()\n",
    "\n",
    "\t\t\t\t\toptimizer.zero_grad()\n",
    "\t\t\t\t\tlogits = self.forward(images)\n",
    "\n",
    "\t\t\t\t\tloss = nn.CrossEntropyLoss()(logits, labels)\n",
    "\n",
    "\t\t\t\t\tloss.backward()\n",
    "\t\t\t\t\toptimizer.step()\n",
    "\n",
    "\t\t\t\t\tif (i+1) % 1 == 0:\n",
    "\t\t\t\t\t\ttqdm.write('Epoch [%d/%d], Iter [%d/%d] Loss: %.4f' \n",
    "\t\t\t\t\t\t\t   %(epoch+1, self.num_epochs, i+1, np.ceil(len(dataset)/self.batch_size), loss.data))\n",
    "\n",
    "\t\t\t\tpbar.update(1)"
   ]
  },
  {
   "cell_type": "code",
   "execution_count": 12,
   "metadata": {},
   "outputs": [
    {
     "name": "stdout",
     "output_type": "stream",
     "text": [
      "Batch Size (for n_classes classes) :  6947\n"
     ]
    },
    {
     "name": "stderr",
     "output_type": "stream",
     "text": [
      "  0%|          | 0/40 [00:00<?, ?it/s]"
     ]
    },
    {
     "name": "stdout",
     "output_type": "stream",
     "text": [
      "Epoch [1/40], Iter [1/145] Loss: 4.1855\n",
      "Epoch [1/40], Iter [2/145] Loss: 4.1856\n",
      "Epoch [1/40], Iter [3/145] Loss: 4.1348\n"
     ]
    },
    {
     "name": "stderr",
     "output_type": "stream",
     "text": [
      "  0%|          | 0/40 [00:00<?, ?it/s]"
     ]
    },
    {
     "name": "stdout",
     "output_type": "stream",
     "text": [
      "Epoch [1/40], Iter [4/145] Loss: 4.0267\n",
      "Epoch [1/40], Iter [5/145] Loss: 3.5059\n",
      "Epoch [1/40], Iter [6/145] Loss: 5.8337\n"
     ]
    },
    {
     "name": "stderr",
     "output_type": "stream",
     "text": [
      "  0%|          | 0/40 [00:00<?, ?it/s]"
     ]
    },
    {
     "name": "stdout",
     "output_type": "stream",
     "text": [
      "Epoch [1/40], Iter [7/145] Loss: 4.1936\n",
      "Epoch [1/40], Iter [8/145] Loss: 4.2061\n",
      "Epoch [1/40], Iter [9/145] Loss: 4.2076\n"
     ]
    },
    {
     "name": "stderr",
     "output_type": "stream",
     "text": [
      "  0%|          | 0/40 [00:01<?, ?it/s]"
     ]
    },
    {
     "name": "stdout",
     "output_type": "stream",
     "text": [
      "Epoch [1/40], Iter [10/145] Loss: 4.2027\n",
      "Epoch [1/40], Iter [11/145] Loss: 4.1929\n",
      "Epoch [1/40], Iter [12/145] Loss: 4.1902\n"
     ]
    },
    {
     "name": "stderr",
     "output_type": "stream",
     "text": [
      "  0%|          | 0/40 [00:01<?, ?it/s]"
     ]
    },
    {
     "name": "stdout",
     "output_type": "stream",
     "text": [
      "Epoch [1/40], Iter [13/145] Loss: 4.1891\n",
      "Epoch [1/40], Iter [14/145] Loss: 4.1879\n",
      "Epoch [1/40], Iter [15/145] Loss: 4.1866\n"
     ]
    },
    {
     "name": "stderr",
     "output_type": "stream",
     "text": [
      "  0%|          | 0/40 [00:01<?, ?it/s]"
     ]
    },
    {
     "name": "stdout",
     "output_type": "stream",
     "text": [
      "Epoch [1/40], Iter [16/145] Loss: 4.1856\n",
      "Epoch [1/40], Iter [17/145] Loss: 4.1843\n",
      "Epoch [1/40], Iter [18/145] Loss: 4.1853\n"
     ]
    },
    {
     "name": "stderr",
     "output_type": "stream",
     "text": [
      "  0%|          | 0/40 [00:01<?, ?it/s]"
     ]
    },
    {
     "name": "stdout",
     "output_type": "stream",
     "text": [
      "Epoch [1/40], Iter [19/145] Loss: 4.1833\n",
      "Epoch [1/40], Iter [20/145] Loss: 4.1802\n",
      "Epoch [1/40], Iter [21/145] Loss: 4.1821\n"
     ]
    },
    {
     "name": "stderr",
     "output_type": "stream",
     "text": [
      "  0%|          | 0/40 [00:02<?, ?it/s]"
     ]
    },
    {
     "name": "stdout",
     "output_type": "stream",
     "text": [
      "Epoch [1/40], Iter [22/145] Loss: 4.1800\n",
      "Epoch [1/40], Iter [23/145] Loss: 4.1775\n",
      "Epoch [1/40], Iter [24/145] Loss: 4.1755\n"
     ]
    },
    {
     "name": "stderr",
     "output_type": "stream",
     "text": [
      "  0%|          | 0/40 [00:02<?, ?it/s]"
     ]
    },
    {
     "name": "stdout",
     "output_type": "stream",
     "text": [
      "Epoch [1/40], Iter [25/145] Loss: 4.1733\n",
      "Epoch [1/40], Iter [26/145] Loss: 4.1639\n",
      "Epoch [1/40], Iter [27/145] Loss: 4.1765\n"
     ]
    },
    {
     "name": "stderr",
     "output_type": "stream",
     "text": [
      "  0%|          | 0/40 [00:02<?, ?it/s]"
     ]
    },
    {
     "name": "stdout",
     "output_type": "stream",
     "text": [
      "Epoch [1/40], Iter [28/145] Loss: 4.1580\n",
      "Epoch [1/40], Iter [29/145] Loss: 4.1480\n",
      "Epoch [1/40], Iter [30/145] Loss: 4.1648\n"
     ]
    },
    {
     "name": "stderr",
     "output_type": "stream",
     "text": [
      "  0%|          | 0/40 [00:02<?, ?it/s]"
     ]
    },
    {
     "name": "stdout",
     "output_type": "stream",
     "text": [
      "Epoch [1/40], Iter [31/145] Loss: 4.1590\n",
      "Epoch [1/40], Iter [32/145] Loss: 4.1196\n",
      "Epoch [1/40], Iter [33/145] Loss: 4.1079\n"
     ]
    },
    {
     "name": "stderr",
     "output_type": "stream",
     "text": [
      "  0%|          | 0/40 [00:03<?, ?it/s]"
     ]
    },
    {
     "name": "stdout",
     "output_type": "stream",
     "text": [
      "Epoch [1/40], Iter [34/145] Loss: 4.1098\n",
      "Epoch [1/40], Iter [35/145] Loss: 4.1130\n",
      "Epoch [1/40], Iter [36/145] Loss: 4.0424\n"
     ]
    },
    {
     "name": "stderr",
     "output_type": "stream",
     "text": [
      "  0%|          | 0/40 [00:03<?, ?it/s]"
     ]
    },
    {
     "name": "stdout",
     "output_type": "stream",
     "text": [
      "Epoch [1/40], Iter [37/145] Loss: 4.0588\n",
      "Epoch [1/40], Iter [38/145] Loss: 4.1558\n",
      "Epoch [1/40], Iter [39/145] Loss: 3.9946\n"
     ]
    },
    {
     "name": "stderr",
     "output_type": "stream",
     "text": [
      "  0%|          | 0/40 [00:03<?, ?it/s]"
     ]
    },
    {
     "name": "stdout",
     "output_type": "stream",
     "text": [
      "Epoch [1/40], Iter [40/145] Loss: 3.8901\n",
      "Epoch [1/40], Iter [41/145] Loss: 3.8942\n",
      "Epoch [1/40], Iter [42/145] Loss: 3.9037\n"
     ]
    },
    {
     "name": "stderr",
     "output_type": "stream",
     "text": [
      "  0%|          | 0/40 [00:03<?, ?it/s]"
     ]
    },
    {
     "name": "stdout",
     "output_type": "stream",
     "text": [
      "Epoch [1/40], Iter [43/145] Loss: 3.7668\n",
      "Epoch [1/40], Iter [44/145] Loss: 3.8698\n",
      "Epoch [1/40], Iter [45/145] Loss: 4.0652\n"
     ]
    },
    {
     "name": "stderr",
     "output_type": "stream",
     "text": [
      "  0%|          | 0/40 [00:03<?, ?it/s]"
     ]
    },
    {
     "name": "stdout",
     "output_type": "stream",
     "text": [
      "Epoch [1/40], Iter [46/145] Loss: 3.8436\n",
      "Epoch [1/40], Iter [47/145] Loss: 3.6338\n",
      "Epoch [1/40], Iter [48/145] Loss: 3.7878\n"
     ]
    },
    {
     "name": "stderr",
     "output_type": "stream",
     "text": [
      "  0%|          | 0/40 [00:04<?, ?it/s]"
     ]
    },
    {
     "name": "stdout",
     "output_type": "stream",
     "text": [
      "Epoch [1/40], Iter [49/145] Loss: 3.4080\n",
      "Epoch [1/40], Iter [50/145] Loss: 3.9748\n",
      "Epoch [1/40], Iter [51/145] Loss: 3.8403\n"
     ]
    },
    {
     "name": "stderr",
     "output_type": "stream",
     "text": [
      "  0%|          | 0/40 [00:04<?, ?it/s]"
     ]
    },
    {
     "name": "stdout",
     "output_type": "stream",
     "text": [
      "Epoch [1/40], Iter [52/145] Loss: 3.9497\n",
      "Epoch [1/40], Iter [53/145] Loss: 3.7153\n",
      "Epoch [1/40], Iter [54/145] Loss: 3.6764\n"
     ]
    },
    {
     "name": "stderr",
     "output_type": "stream",
     "text": [
      "  0%|          | 0/40 [00:04<?, ?it/s]"
     ]
    },
    {
     "name": "stdout",
     "output_type": "stream",
     "text": [
      "Epoch [1/40], Iter [55/145] Loss: 4.0156\n",
      "Epoch [1/40], Iter [56/145] Loss: 3.7831\n",
      "Epoch [1/40], Iter [57/145] Loss: 3.8696\n"
     ]
    },
    {
     "name": "stderr",
     "output_type": "stream",
     "text": [
      "  0%|          | 0/40 [00:04<?, ?it/s]"
     ]
    },
    {
     "name": "stdout",
     "output_type": "stream",
     "text": [
      "Epoch [1/40], Iter [58/145] Loss: 3.8162\n",
      "Epoch [1/40], Iter [59/145] Loss: 3.8501\n",
      "Epoch [1/40], Iter [60/145] Loss: 3.7347\n"
     ]
    },
    {
     "name": "stderr",
     "output_type": "stream",
     "text": [
      "  0%|          | 0/40 [00:05<?, ?it/s]"
     ]
    },
    {
     "name": "stdout",
     "output_type": "stream",
     "text": [
      "Epoch [1/40], Iter [61/145] Loss: 3.8865\n",
      "Epoch [1/40], Iter [62/145] Loss: 3.7907\n",
      "Epoch [1/40], Iter [63/145] Loss: 3.8167\n"
     ]
    },
    {
     "name": "stderr",
     "output_type": "stream",
     "text": [
      "  0%|          | 0/40 [00:05<?, ?it/s]"
     ]
    },
    {
     "name": "stdout",
     "output_type": "stream",
     "text": [
      "Epoch [1/40], Iter [64/145] Loss: 3.8867\n",
      "Epoch [1/40], Iter [65/145] Loss: 3.9235\n",
      "Epoch [1/40], Iter [66/145] Loss: 3.7314\n"
     ]
    },
    {
     "name": "stderr",
     "output_type": "stream",
     "text": [
      "  0%|          | 0/40 [00:05<?, ?it/s]"
     ]
    },
    {
     "name": "stdout",
     "output_type": "stream",
     "text": [
      "Epoch [1/40], Iter [67/145] Loss: 4.0821\n",
      "Epoch [1/40], Iter [68/145] Loss: 4.0871\n",
      "Epoch [1/40], Iter [69/145] Loss: 3.9174\n"
     ]
    },
    {
     "name": "stderr",
     "output_type": "stream",
     "text": [
      "  0%|          | 0/40 [00:05<?, ?it/s]"
     ]
    },
    {
     "name": "stdout",
     "output_type": "stream",
     "text": [
      "Epoch [1/40], Iter [70/145] Loss: 3.8639\n",
      "Epoch [1/40], Iter [71/145] Loss: 3.7919\n",
      "Epoch [1/40], Iter [72/145] Loss: 3.8784\n"
     ]
    },
    {
     "name": "stderr",
     "output_type": "stream",
     "text": [
      "  0%|          | 0/40 [00:06<?, ?it/s]"
     ]
    },
    {
     "name": "stdout",
     "output_type": "stream",
     "text": [
      "Epoch [1/40], Iter [73/145] Loss: 3.6255\n",
      "Epoch [1/40], Iter [74/145] Loss: 3.7647\n",
      "Epoch [1/40], Iter [75/145] Loss: 4.0776\n"
     ]
    },
    {
     "name": "stderr",
     "output_type": "stream",
     "text": [
      "  0%|          | 0/40 [00:06<?, ?it/s]"
     ]
    },
    {
     "name": "stdout",
     "output_type": "stream",
     "text": [
      "Epoch [1/40], Iter [76/145] Loss: 3.8024\n",
      "Epoch [1/40], Iter [77/145] Loss: 3.7575\n",
      "Epoch [1/40], Iter [78/145] Loss: 3.8362\n"
     ]
    },
    {
     "name": "stderr",
     "output_type": "stream",
     "text": [
      "  0%|          | 0/40 [00:06<?, ?it/s]"
     ]
    },
    {
     "name": "stdout",
     "output_type": "stream",
     "text": [
      "Epoch [1/40], Iter [79/145] Loss: 4.0102\n",
      "Epoch [1/40], Iter [80/145] Loss: 3.7290\n",
      "Epoch [1/40], Iter [81/145] Loss: 3.8658\n"
     ]
    },
    {
     "name": "stderr",
     "output_type": "stream",
     "text": [
      "  0%|          | 0/40 [00:06<?, ?it/s]"
     ]
    },
    {
     "name": "stdout",
     "output_type": "stream",
     "text": [
      "Epoch [1/40], Iter [82/145] Loss: 3.7344\n",
      "Epoch [1/40], Iter [83/145] Loss: 3.8457\n",
      "Epoch [1/40], Iter [84/145] Loss: 3.8116\n"
     ]
    },
    {
     "name": "stderr",
     "output_type": "stream",
     "text": [
      "  0%|          | 0/40 [00:06<?, ?it/s]"
     ]
    },
    {
     "name": "stdout",
     "output_type": "stream",
     "text": [
      "Epoch [1/40], Iter [85/145] Loss: 4.0803\n",
      "Epoch [1/40], Iter [86/145] Loss: 3.6224\n",
      "Epoch [1/40], Iter [87/145] Loss: 3.9002\n"
     ]
    },
    {
     "name": "stderr",
     "output_type": "stream",
     "text": [
      "  0%|          | 0/40 [00:07<?, ?it/s]"
     ]
    },
    {
     "name": "stdout",
     "output_type": "stream",
     "text": [
      "Epoch [1/40], Iter [88/145] Loss: 3.7152\n",
      "Epoch [1/40], Iter [89/145] Loss: 4.0220\n",
      "Epoch [1/40], Iter [90/145] Loss: 3.7657\n"
     ]
    },
    {
     "name": "stderr",
     "output_type": "stream",
     "text": [
      "  0%|          | 0/40 [00:07<?, ?it/s]"
     ]
    },
    {
     "name": "stdout",
     "output_type": "stream",
     "text": [
      "Epoch [1/40], Iter [91/145] Loss: 4.1032\n",
      "Epoch [1/40], Iter [92/145] Loss: 3.6124\n",
      "Epoch [1/40], Iter [93/145] Loss: 4.0094\n"
     ]
    },
    {
     "name": "stderr",
     "output_type": "stream",
     "text": [
      "  0%|          | 0/40 [00:07<?, ?it/s]"
     ]
    },
    {
     "name": "stdout",
     "output_type": "stream",
     "text": [
      "Epoch [1/40], Iter [94/145] Loss: 4.2247\n",
      "Epoch [1/40], Iter [95/145] Loss: 3.6863\n",
      "Epoch [1/40], Iter [96/145] Loss: 4.0027\n"
     ]
    },
    {
     "name": "stderr",
     "output_type": "stream",
     "text": [
      "  0%|          | 0/40 [00:07<?, ?it/s]"
     ]
    },
    {
     "name": "stdout",
     "output_type": "stream",
     "text": [
      "Epoch [1/40], Iter [97/145] Loss: 3.8522\n",
      "Epoch [1/40], Iter [98/145] Loss: 3.9981\n",
      "Epoch [1/40], Iter [99/145] Loss: 3.6927\n"
     ]
    },
    {
     "name": "stderr",
     "output_type": "stream",
     "text": [
      "  0%|          | 0/40 [00:08<?, ?it/s]"
     ]
    },
    {
     "name": "stdout",
     "output_type": "stream",
     "text": [
      "Epoch [1/40], Iter [100/145] Loss: 4.1275\n",
      "Epoch [1/40], Iter [101/145] Loss: 3.7692\n",
      "Epoch [1/40], Iter [102/145] Loss: 3.6892\n"
     ]
    },
    {
     "name": "stderr",
     "output_type": "stream",
     "text": [
      "  0%|          | 0/40 [00:08<?, ?it/s]"
     ]
    },
    {
     "name": "stdout",
     "output_type": "stream",
     "text": [
      "Epoch [1/40], Iter [103/145] Loss: 3.9325\n",
      "Epoch [1/40], Iter [104/145] Loss: 3.6827\n",
      "Epoch [1/40], Iter [105/145] Loss: 3.9475\n"
     ]
    },
    {
     "name": "stderr",
     "output_type": "stream",
     "text": [
      "  0%|          | 0/40 [00:08<?, ?it/s]"
     ]
    },
    {
     "name": "stdout",
     "output_type": "stream",
     "text": [
      "Epoch [1/40], Iter [106/145] Loss: 3.8427\n",
      "Epoch [1/40], Iter [107/145] Loss: 3.7797\n",
      "Epoch [1/40], Iter [108/145] Loss: 3.7318\n"
     ]
    },
    {
     "name": "stderr",
     "output_type": "stream",
     "text": [
      "  0%|          | 0/40 [00:08<?, ?it/s]"
     ]
    },
    {
     "name": "stdout",
     "output_type": "stream",
     "text": [
      "Epoch [1/40], Iter [109/145] Loss: 3.8245\n",
      "Epoch [1/40], Iter [110/145] Loss: 3.9144\n",
      "Epoch [1/40], Iter [111/145] Loss: 3.8573\n"
     ]
    },
    {
     "name": "stderr",
     "output_type": "stream",
     "text": [
      "  0%|          | 0/40 [00:08<?, ?it/s]"
     ]
    },
    {
     "name": "stdout",
     "output_type": "stream",
     "text": [
      "Epoch [1/40], Iter [112/145] Loss: 4.1258\n",
      "Epoch [1/40], Iter [113/145] Loss: 3.6097\n",
      "Epoch [1/40], Iter [114/145] Loss: 3.5886\n"
     ]
    },
    {
     "name": "stderr",
     "output_type": "stream",
     "text": [
      "  0%|          | 0/40 [00:09<?, ?it/s]"
     ]
    },
    {
     "name": "stdout",
     "output_type": "stream",
     "text": [
      "Epoch [1/40], Iter [115/145] Loss: 3.7417\n",
      "Epoch [1/40], Iter [116/145] Loss: 3.7035\n",
      "Epoch [1/40], Iter [117/145] Loss: 3.8207\n"
     ]
    },
    {
     "name": "stderr",
     "output_type": "stream",
     "text": [
      "  0%|          | 0/40 [00:09<?, ?it/s]"
     ]
    },
    {
     "name": "stdout",
     "output_type": "stream",
     "text": [
      "Epoch [1/40], Iter [118/145] Loss: 3.9027\n",
      "Epoch [1/40], Iter [119/145] Loss: 4.0708\n",
      "Epoch [1/40], Iter [120/145] Loss: 3.5674\n"
     ]
    },
    {
     "name": "stderr",
     "output_type": "stream",
     "text": [
      "  0%|          | 0/40 [00:09<?, ?it/s]"
     ]
    },
    {
     "name": "stdout",
     "output_type": "stream",
     "text": [
      "Epoch [1/40], Iter [121/145] Loss: 3.8311\n",
      "Epoch [1/40], Iter [122/145] Loss: 4.0619\n",
      "Epoch [1/40], Iter [123/145] Loss: 3.9488\n"
     ]
    },
    {
     "name": "stderr",
     "output_type": "stream",
     "text": [
      "  0%|          | 0/40 [00:09<?, ?it/s]"
     ]
    },
    {
     "name": "stdout",
     "output_type": "stream",
     "text": [
      "Epoch [1/40], Iter [124/145] Loss: 3.9334\n",
      "Epoch [1/40], Iter [125/145] Loss: 3.7275\n",
      "Epoch [1/40], Iter [126/145] Loss: 3.7226\n"
     ]
    },
    {
     "name": "stderr",
     "output_type": "stream",
     "text": [
      "  0%|          | 0/40 [00:10<?, ?it/s]"
     ]
    },
    {
     "name": "stdout",
     "output_type": "stream",
     "text": [
      "Epoch [1/40], Iter [127/145] Loss: 3.9858\n",
      "Epoch [1/40], Iter [128/145] Loss: 4.0657\n",
      "Epoch [1/40], Iter [129/145] Loss: 3.7957\n"
     ]
    },
    {
     "name": "stderr",
     "output_type": "stream",
     "text": [
      "  0%|          | 0/40 [00:10<?, ?it/s]"
     ]
    },
    {
     "name": "stdout",
     "output_type": "stream",
     "text": [
      "Epoch [1/40], Iter [130/145] Loss: 3.9959\n",
      "Epoch [1/40], Iter [131/145] Loss: 3.6528\n",
      "Epoch [1/40], Iter [132/145] Loss: 3.8452\n"
     ]
    },
    {
     "name": "stderr",
     "output_type": "stream",
     "text": [
      "  0%|          | 0/40 [00:10<?, ?it/s]"
     ]
    },
    {
     "name": "stdout",
     "output_type": "stream",
     "text": [
      "Epoch [1/40], Iter [133/145] Loss: 3.8434\n",
      "Epoch [1/40], Iter [134/145] Loss: 3.8287\n",
      "Epoch [1/40], Iter [135/145] Loss: 3.8726\n"
     ]
    },
    {
     "name": "stderr",
     "output_type": "stream",
     "text": [
      "  0%|          | 0/40 [00:10<?, ?it/s]"
     ]
    },
    {
     "name": "stdout",
     "output_type": "stream",
     "text": [
      "Epoch [1/40], Iter [136/145] Loss: 3.7402\n",
      "Epoch [1/40], Iter [137/145] Loss: 3.7529\n",
      "Epoch [1/40], Iter [138/145] Loss: 4.0367\n"
     ]
    },
    {
     "name": "stderr",
     "output_type": "stream",
     "text": [
      "  0%|          | 0/40 [00:10<?, ?it/s]"
     ]
    },
    {
     "name": "stdout",
     "output_type": "stream",
     "text": [
      "Epoch [1/40], Iter [139/145] Loss: 3.9973\n",
      "Epoch [1/40], Iter [140/145] Loss: 3.9785\n",
      "Epoch [1/40], Iter [141/145] Loss: 4.0571\n"
     ]
    },
    {
     "name": "stderr",
     "output_type": "stream",
     "text": [
      "  0%|          | 0/40 [00:11<?, ?it/s]"
     ]
    },
    {
     "name": "stdout",
     "output_type": "stream",
     "text": [
      "Epoch [1/40], Iter [142/145] Loss: 4.0488\n",
      "Epoch [1/40], Iter [143/145] Loss: 3.7557\n",
      "Epoch [1/40], Iter [144/145] Loss: 3.9995\n"
     ]
    },
    {
     "name": "stderr",
     "output_type": "stream",
     "text": [
      "  2%|▎         | 1/40 [00:11<07:21, 11.32s/it]"
     ]
    },
    {
     "name": "stdout",
     "output_type": "stream",
     "text": [
      "Epoch [1/40], Iter [145/145] Loss: 3.9144\n"
     ]
    },
    {
     "name": "stderr",
     "output_type": "stream",
     "text": [
      "  2%|▎         | 1/40 [00:11<07:21, 11.32s/it]"
     ]
    },
    {
     "name": "stdout",
     "output_type": "stream",
     "text": [
      "Epoch [2/40], Iter [1/145] Loss: 4.0477\n",
      "Epoch [2/40], Iter [2/145] Loss: 3.8434\n",
      "Epoch [2/40], Iter [3/145] Loss: 3.6896\n"
     ]
    },
    {
     "name": "stderr",
     "output_type": "stream",
     "text": [
      "  2%|▎         | 1/40 [00:12<07:21, 11.32s/it]"
     ]
    },
    {
     "name": "stdout",
     "output_type": "stream",
     "text": [
      "Epoch [2/40], Iter [4/145] Loss: 4.0224\n",
      "Epoch [2/40], Iter [5/145] Loss: 3.7432\n",
      "Epoch [2/40], Iter [6/145] Loss: 3.9442\n"
     ]
    },
    {
     "name": "stderr",
     "output_type": "stream",
     "text": [
      "  2%|▎         | 1/40 [00:12<07:21, 11.32s/it]"
     ]
    },
    {
     "name": "stdout",
     "output_type": "stream",
     "text": [
      "Epoch [2/40], Iter [7/145] Loss: 3.6899\n",
      "Epoch [2/40], Iter [8/145] Loss: 3.6665\n",
      "Epoch [2/40], Iter [9/145] Loss: 3.7852\n"
     ]
    },
    {
     "name": "stderr",
     "output_type": "stream",
     "text": [
      "  2%|▎         | 1/40 [00:12<07:21, 11.32s/it]"
     ]
    },
    {
     "name": "stdout",
     "output_type": "stream",
     "text": [
      "Epoch [2/40], Iter [10/145] Loss: 3.5165\n",
      "Epoch [2/40], Iter [11/145] Loss: 3.9390\n",
      "Epoch [2/40], Iter [12/145] Loss: 3.7774\n"
     ]
    },
    {
     "name": "stderr",
     "output_type": "stream",
     "text": [
      "  2%|▎         | 1/40 [00:12<07:21, 11.32s/it]"
     ]
    },
    {
     "name": "stdout",
     "output_type": "stream",
     "text": [
      "Epoch [2/40], Iter [13/145] Loss: 3.8606\n",
      "Epoch [2/40], Iter [14/145] Loss: 3.9828\n",
      "Epoch [2/40], Iter [15/145] Loss: 3.8575\n"
     ]
    },
    {
     "name": "stderr",
     "output_type": "stream",
     "text": [
      "  2%|▎         | 1/40 [00:12<07:21, 11.32s/it]"
     ]
    },
    {
     "name": "stdout",
     "output_type": "stream",
     "text": [
      "Epoch [2/40], Iter [16/145] Loss: 4.0919\n",
      "Epoch [2/40], Iter [17/145] Loss: 3.9759\n",
      "Epoch [2/40], Iter [18/145] Loss: 4.0154\n"
     ]
    },
    {
     "name": "stderr",
     "output_type": "stream",
     "text": [
      "  2%|▎         | 1/40 [00:13<07:21, 11.32s/it]"
     ]
    },
    {
     "name": "stdout",
     "output_type": "stream",
     "text": [
      "Epoch [2/40], Iter [19/145] Loss: 4.1535\n",
      "Epoch [2/40], Iter [20/145] Loss: 3.6803\n",
      "Epoch [2/40], Iter [21/145] Loss: 3.9531\n"
     ]
    },
    {
     "name": "stderr",
     "output_type": "stream",
     "text": [
      "  2%|▎         | 1/40 [00:13<07:21, 11.32s/it]"
     ]
    },
    {
     "name": "stdout",
     "output_type": "stream",
     "text": [
      "Epoch [2/40], Iter [22/145] Loss: 3.8981\n",
      "Epoch [2/40], Iter [23/145] Loss: 3.7520\n",
      "Epoch [2/40], Iter [24/145] Loss: 3.8811\n"
     ]
    },
    {
     "name": "stderr",
     "output_type": "stream",
     "text": [
      "  2%|▎         | 1/40 [00:13<07:21, 11.32s/it]"
     ]
    },
    {
     "name": "stdout",
     "output_type": "stream",
     "text": [
      "Epoch [2/40], Iter [25/145] Loss: 3.8090\n",
      "Epoch [2/40], Iter [26/145] Loss: 3.7725\n",
      "Epoch [2/40], Iter [27/145] Loss: 3.8622\n"
     ]
    },
    {
     "name": "stderr",
     "output_type": "stream",
     "text": [
      "  2%|▎         | 1/40 [00:13<07:21, 11.32s/it]"
     ]
    },
    {
     "name": "stdout",
     "output_type": "stream",
     "text": [
      "Epoch [2/40], Iter [28/145] Loss: 3.9282\n",
      "Epoch [2/40], Iter [29/145] Loss: 3.6880\n",
      "Epoch [2/40], Iter [30/145] Loss: 3.8784\n"
     ]
    },
    {
     "name": "stderr",
     "output_type": "stream",
     "text": [
      "  2%|▎         | 1/40 [00:14<07:21, 11.32s/it]"
     ]
    },
    {
     "name": "stdout",
     "output_type": "stream",
     "text": [
      "Epoch [2/40], Iter [31/145] Loss: 4.0527\n",
      "Epoch [2/40], Iter [32/145] Loss: 3.8692\n",
      "Epoch [2/40], Iter [33/145] Loss: 3.7885\n"
     ]
    },
    {
     "name": "stderr",
     "output_type": "stream",
     "text": [
      "  2%|▎         | 1/40 [00:14<07:21, 11.32s/it]"
     ]
    },
    {
     "name": "stdout",
     "output_type": "stream",
     "text": [
      "Epoch [2/40], Iter [34/145] Loss: 3.6853\n",
      "Epoch [2/40], Iter [35/145] Loss: 3.9739\n",
      "Epoch [2/40], Iter [36/145] Loss: 3.7601\n"
     ]
    },
    {
     "name": "stderr",
     "output_type": "stream",
     "text": [
      "  2%|▎         | 1/40 [00:14<07:21, 11.32s/it]"
     ]
    },
    {
     "name": "stdout",
     "output_type": "stream",
     "text": [
      "Epoch [2/40], Iter [37/145] Loss: 3.8443\n",
      "Epoch [2/40], Iter [38/145] Loss: 3.8069\n",
      "Epoch [2/40], Iter [39/145] Loss: 4.2784\n"
     ]
    },
    {
     "name": "stderr",
     "output_type": "stream",
     "text": [
      "  2%|▎         | 1/40 [00:14<07:21, 11.32s/it]"
     ]
    },
    {
     "name": "stdout",
     "output_type": "stream",
     "text": [
      "Epoch [2/40], Iter [40/145] Loss: 4.0468\n",
      "Epoch [2/40], Iter [41/145] Loss: 3.8891\n",
      "Epoch [2/40], Iter [42/145] Loss: 4.1525\n"
     ]
    },
    {
     "name": "stderr",
     "output_type": "stream",
     "text": [
      "  2%|▎         | 1/40 [00:14<07:21, 11.32s/it]"
     ]
    },
    {
     "name": "stdout",
     "output_type": "stream",
     "text": [
      "Epoch [2/40], Iter [43/145] Loss: 3.6510\n",
      "Epoch [2/40], Iter [44/145] Loss: 3.6224\n",
      "Epoch [2/40], Iter [45/145] Loss: 4.0101\n"
     ]
    },
    {
     "name": "stderr",
     "output_type": "stream",
     "text": [
      "  2%|▎         | 1/40 [00:15<07:21, 11.32s/it]"
     ]
    },
    {
     "name": "stdout",
     "output_type": "stream",
     "text": [
      "Epoch [2/40], Iter [46/145] Loss: 3.8691\n",
      "Epoch [2/40], Iter [47/145] Loss: 3.9606\n",
      "Epoch [2/40], Iter [48/145] Loss: 3.8275\n"
     ]
    },
    {
     "name": "stderr",
     "output_type": "stream",
     "text": [
      "  2%|▎         | 1/40 [00:15<07:21, 11.32s/it]"
     ]
    },
    {
     "name": "stdout",
     "output_type": "stream",
     "text": [
      "Epoch [2/40], Iter [49/145] Loss: 3.9996\n",
      "Epoch [2/40], Iter [50/145] Loss: 3.9745\n",
      "Epoch [2/40], Iter [51/145] Loss: 3.7067\n"
     ]
    },
    {
     "name": "stderr",
     "output_type": "stream",
     "text": [
      "  2%|▎         | 1/40 [00:15<07:21, 11.32s/it]"
     ]
    },
    {
     "name": "stdout",
     "output_type": "stream",
     "text": [
      "Epoch [2/40], Iter [52/145] Loss: 4.0152\n",
      "Epoch [2/40], Iter [53/145] Loss: 4.0516\n",
      "Epoch [2/40], Iter [54/145] Loss: 4.0711\n"
     ]
    },
    {
     "name": "stderr",
     "output_type": "stream",
     "text": [
      "  2%|▎         | 1/40 [00:15<07:21, 11.32s/it]"
     ]
    },
    {
     "name": "stdout",
     "output_type": "stream",
     "text": [
      "Epoch [2/40], Iter [55/145] Loss: 3.8121\n",
      "Epoch [2/40], Iter [56/145] Loss: 3.6867\n",
      "Epoch [2/40], Iter [57/145] Loss: 3.8768\n"
     ]
    },
    {
     "name": "stderr",
     "output_type": "stream",
     "text": [
      "  2%|▎         | 1/40 [00:16<07:21, 11.32s/it]"
     ]
    },
    {
     "name": "stdout",
     "output_type": "stream",
     "text": [
      "Epoch [2/40], Iter [58/145] Loss: 3.9105\n",
      "Epoch [2/40], Iter [59/145] Loss: 3.6187\n",
      "Epoch [2/40], Iter [60/145] Loss: 3.6936\n"
     ]
    },
    {
     "name": "stderr",
     "output_type": "stream",
     "text": [
      "  2%|▎         | 1/40 [00:16<07:21, 11.32s/it]"
     ]
    },
    {
     "name": "stdout",
     "output_type": "stream",
     "text": [
      "Epoch [2/40], Iter [61/145] Loss: 4.2120\n",
      "Epoch [2/40], Iter [62/145] Loss: 3.8605\n",
      "Epoch [2/40], Iter [63/145] Loss: 3.6165\n"
     ]
    },
    {
     "name": "stderr",
     "output_type": "stream",
     "text": [
      "  2%|▎         | 1/40 [00:16<07:21, 11.32s/it]"
     ]
    },
    {
     "name": "stdout",
     "output_type": "stream",
     "text": [
      "Epoch [2/40], Iter [64/145] Loss: 3.7640\n",
      "Epoch [2/40], Iter [65/145] Loss: 3.9069\n",
      "Epoch [2/40], Iter [66/145] Loss: 3.9347\n"
     ]
    },
    {
     "name": "stderr",
     "output_type": "stream",
     "text": [
      "  2%|▎         | 1/40 [00:16<07:21, 11.32s/it]"
     ]
    },
    {
     "name": "stdout",
     "output_type": "stream",
     "text": [
      "Epoch [2/40], Iter [67/145] Loss: 4.0242\n",
      "Epoch [2/40], Iter [68/145] Loss: 3.7684\n",
      "Epoch [2/40], Iter [69/145] Loss: 3.9511\n"
     ]
    },
    {
     "name": "stderr",
     "output_type": "stream",
     "text": [
      "  2%|▎         | 1/40 [00:16<07:21, 11.32s/it]"
     ]
    },
    {
     "name": "stdout",
     "output_type": "stream",
     "text": [
      "Epoch [2/40], Iter [70/145] Loss: 3.7803\n",
      "Epoch [2/40], Iter [71/145] Loss: 3.7362\n",
      "Epoch [2/40], Iter [72/145] Loss: 4.0285\n"
     ]
    },
    {
     "name": "stderr",
     "output_type": "stream",
     "text": [
      "  2%|▎         | 1/40 [00:17<07:21, 11.32s/it]"
     ]
    },
    {
     "name": "stdout",
     "output_type": "stream",
     "text": [
      "Epoch [2/40], Iter [73/145] Loss: 3.6269\n",
      "Epoch [2/40], Iter [74/145] Loss: 3.8645\n",
      "Epoch [2/40], Iter [75/145] Loss: 3.7011\n"
     ]
    },
    {
     "name": "stderr",
     "output_type": "stream",
     "text": [
      "  2%|▎         | 1/40 [00:17<07:21, 11.32s/it]"
     ]
    },
    {
     "name": "stdout",
     "output_type": "stream",
     "text": [
      "Epoch [2/40], Iter [76/145] Loss: 3.9666\n",
      "Epoch [2/40], Iter [77/145] Loss: 3.8353\n",
      "Epoch [2/40], Iter [78/145] Loss: 3.5723\n"
     ]
    },
    {
     "name": "stderr",
     "output_type": "stream",
     "text": [
      "  2%|▎         | 1/40 [00:17<07:21, 11.32s/it]"
     ]
    },
    {
     "name": "stdout",
     "output_type": "stream",
     "text": [
      "Epoch [2/40], Iter [79/145] Loss: 3.7567\n",
      "Epoch [2/40], Iter [80/145] Loss: 3.8128\n",
      "Epoch [2/40], Iter [81/145] Loss: 3.8663\n"
     ]
    },
    {
     "name": "stderr",
     "output_type": "stream",
     "text": [
      "  2%|▎         | 1/40 [00:17<07:21, 11.32s/it]"
     ]
    },
    {
     "name": "stdout",
     "output_type": "stream",
     "text": [
      "Epoch [2/40], Iter [82/145] Loss: 3.5640\n",
      "Epoch [2/40], Iter [83/145] Loss: 3.8710\n",
      "Epoch [2/40], Iter [84/145] Loss: 3.6670\n"
     ]
    },
    {
     "name": "stderr",
     "output_type": "stream",
     "text": [
      "  2%|▎         | 1/40 [00:18<07:21, 11.32s/it]"
     ]
    },
    {
     "name": "stdout",
     "output_type": "stream",
     "text": [
      "Epoch [2/40], Iter [85/145] Loss: 3.6496\n",
      "Epoch [2/40], Iter [86/145] Loss: 3.7292\n",
      "Epoch [2/40], Iter [87/145] Loss: 3.9407\n"
     ]
    },
    {
     "name": "stderr",
     "output_type": "stream",
     "text": [
      "  2%|▎         | 1/40 [00:18<07:21, 11.32s/it]"
     ]
    },
    {
     "name": "stdout",
     "output_type": "stream",
     "text": [
      "Epoch [2/40], Iter [88/145] Loss: 4.0481\n",
      "Epoch [2/40], Iter [89/145] Loss: 3.7143\n",
      "Epoch [2/40], Iter [90/145] Loss: 3.7631\n"
     ]
    },
    {
     "name": "stderr",
     "output_type": "stream",
     "text": [
      "  2%|▎         | 1/40 [00:18<07:21, 11.32s/it]"
     ]
    },
    {
     "name": "stdout",
     "output_type": "stream",
     "text": [
      "Epoch [2/40], Iter [91/145] Loss: 3.9153\n",
      "Epoch [2/40], Iter [92/145] Loss: 3.9853\n",
      "Epoch [2/40], Iter [93/145] Loss: 3.7530\n"
     ]
    },
    {
     "name": "stderr",
     "output_type": "stream",
     "text": [
      "  2%|▎         | 1/40 [00:18<07:21, 11.32s/it]"
     ]
    },
    {
     "name": "stdout",
     "output_type": "stream",
     "text": [
      "Epoch [2/40], Iter [94/145] Loss: 3.7840\n",
      "Epoch [2/40], Iter [95/145] Loss: 3.8668\n",
      "Epoch [2/40], Iter [96/145] Loss: 3.8846\n"
     ]
    },
    {
     "name": "stderr",
     "output_type": "stream",
     "text": [
      "  2%|▎         | 1/40 [00:19<07:21, 11.32s/it]"
     ]
    },
    {
     "name": "stdout",
     "output_type": "stream",
     "text": [
      "Epoch [2/40], Iter [97/145] Loss: 3.9453\n",
      "Epoch [2/40], Iter [98/145] Loss: 3.7334\n",
      "Epoch [2/40], Iter [99/145] Loss: 3.9086\n"
     ]
    },
    {
     "name": "stderr",
     "output_type": "stream",
     "text": [
      "  2%|▎         | 1/40 [00:19<07:21, 11.32s/it]"
     ]
    },
    {
     "name": "stdout",
     "output_type": "stream",
     "text": [
      "Epoch [2/40], Iter [100/145] Loss: 3.7278\n",
      "Epoch [2/40], Iter [101/145] Loss: 3.8685\n",
      "Epoch [2/40], Iter [102/145] Loss: 3.7877\n"
     ]
    },
    {
     "name": "stderr",
     "output_type": "stream",
     "text": [
      "  2%|▎         | 1/40 [00:19<07:21, 11.32s/it]"
     ]
    },
    {
     "name": "stdout",
     "output_type": "stream",
     "text": [
      "Epoch [2/40], Iter [103/145] Loss: 3.7322\n",
      "Epoch [2/40], Iter [104/145] Loss: 3.5281\n",
      "Epoch [2/40], Iter [105/145] Loss: 3.7052\n"
     ]
    },
    {
     "name": "stderr",
     "output_type": "stream",
     "text": [
      "  2%|▎         | 1/40 [00:19<07:21, 11.32s/it]"
     ]
    },
    {
     "name": "stdout",
     "output_type": "stream",
     "text": [
      "Epoch [2/40], Iter [106/145] Loss: 4.0305\n",
      "Epoch [2/40], Iter [107/145] Loss: 3.5661\n",
      "Epoch [2/40], Iter [108/145] Loss: 4.1150\n"
     ]
    },
    {
     "name": "stderr",
     "output_type": "stream",
     "text": [
      "  2%|▎         | 1/40 [00:19<07:21, 11.32s/it]"
     ]
    },
    {
     "name": "stdout",
     "output_type": "stream",
     "text": [
      "Epoch [2/40], Iter [109/145] Loss: 4.0045\n",
      "Epoch [2/40], Iter [110/145] Loss: 3.8168\n",
      "Epoch [2/40], Iter [111/145] Loss: 3.7077\n"
     ]
    },
    {
     "name": "stderr",
     "output_type": "stream",
     "text": [
      "  2%|▎         | 1/40 [00:20<07:21, 11.32s/it]"
     ]
    },
    {
     "name": "stdout",
     "output_type": "stream",
     "text": [
      "Epoch [2/40], Iter [112/145] Loss: 3.6181\n",
      "Epoch [2/40], Iter [113/145] Loss: 3.9369\n",
      "Epoch [2/40], Iter [114/145] Loss: 4.1095\n"
     ]
    },
    {
     "name": "stderr",
     "output_type": "stream",
     "text": [
      "  2%|▎         | 1/40 [00:20<07:21, 11.32s/it]"
     ]
    },
    {
     "name": "stdout",
     "output_type": "stream",
     "text": [
      "Epoch [2/40], Iter [115/145] Loss: 4.1938\n",
      "Epoch [2/40], Iter [116/145] Loss: 3.7953\n",
      "Epoch [2/40], Iter [117/145] Loss: 3.7188\n"
     ]
    },
    {
     "name": "stderr",
     "output_type": "stream",
     "text": [
      "  2%|▎         | 1/40 [00:20<07:21, 11.32s/it]"
     ]
    },
    {
     "name": "stdout",
     "output_type": "stream",
     "text": [
      "Epoch [2/40], Iter [118/145] Loss: 3.9816\n",
      "Epoch [2/40], Iter [119/145] Loss: 3.8375\n",
      "Epoch [2/40], Iter [120/145] Loss: 3.9762\n"
     ]
    },
    {
     "name": "stderr",
     "output_type": "stream",
     "text": [
      "  2%|▎         | 1/40 [00:20<07:21, 11.32s/it]"
     ]
    },
    {
     "name": "stdout",
     "output_type": "stream",
     "text": [
      "Epoch [2/40], Iter [121/145] Loss: 3.8373\n",
      "Epoch [2/40], Iter [122/145] Loss: 3.6825\n",
      "Epoch [2/40], Iter [123/145] Loss: 3.8713\n"
     ]
    },
    {
     "name": "stderr",
     "output_type": "stream",
     "text": [
      "  2%|▎         | 1/40 [00:21<07:21, 11.32s/it]"
     ]
    },
    {
     "name": "stdout",
     "output_type": "stream",
     "text": [
      "Epoch [2/40], Iter [124/145] Loss: 3.7307\n",
      "Epoch [2/40], Iter [125/145] Loss: 3.7772\n",
      "Epoch [2/40], Iter [126/145] Loss: 3.8523\n"
     ]
    },
    {
     "name": "stderr",
     "output_type": "stream",
     "text": [
      "  2%|▎         | 1/40 [00:21<07:21, 11.32s/it]"
     ]
    },
    {
     "name": "stdout",
     "output_type": "stream",
     "text": [
      "Epoch [2/40], Iter [127/145] Loss: 3.5769\n",
      "Epoch [2/40], Iter [128/145] Loss: 3.8757\n",
      "Epoch [2/40], Iter [129/145] Loss: 3.6372\n"
     ]
    },
    {
     "name": "stderr",
     "output_type": "stream",
     "text": [
      "  2%|▎         | 1/40 [00:21<07:21, 11.32s/it]"
     ]
    },
    {
     "name": "stdout",
     "output_type": "stream",
     "text": [
      "Epoch [2/40], Iter [130/145] Loss: 4.0288\n",
      "Epoch [2/40], Iter [131/145] Loss: 3.8370\n",
      "Epoch [2/40], Iter [132/145] Loss: 3.5832\n"
     ]
    },
    {
     "name": "stderr",
     "output_type": "stream",
     "text": [
      "  2%|▎         | 1/40 [00:21<07:21, 11.32s/it]"
     ]
    },
    {
     "name": "stdout",
     "output_type": "stream",
     "text": [
      "Epoch [2/40], Iter [133/145] Loss: 3.6487\n",
      "Epoch [2/40], Iter [134/145] Loss: 3.4330\n",
      "Epoch [2/40], Iter [135/145] Loss: 3.8875\n"
     ]
    },
    {
     "name": "stderr",
     "output_type": "stream",
     "text": [
      "  2%|▎         | 1/40 [00:22<07:21, 11.32s/it]"
     ]
    },
    {
     "name": "stdout",
     "output_type": "stream",
     "text": [
      "Epoch [2/40], Iter [136/145] Loss: 3.5830\n",
      "Epoch [2/40], Iter [137/145] Loss: 4.0213\n",
      "Epoch [2/40], Iter [138/145] Loss: 4.0345\n"
     ]
    },
    {
     "name": "stderr",
     "output_type": "stream",
     "text": [
      "  2%|▎         | 1/40 [00:22<07:21, 11.32s/it]"
     ]
    },
    {
     "name": "stdout",
     "output_type": "stream",
     "text": [
      "Epoch [2/40], Iter [139/145] Loss: 3.8319\n",
      "Epoch [2/40], Iter [140/145] Loss: 3.8020\n",
      "Epoch [2/40], Iter [141/145] Loss: 3.7149\n"
     ]
    },
    {
     "name": "stderr",
     "output_type": "stream",
     "text": [
      "  2%|▎         | 1/40 [00:22<07:21, 11.32s/it]"
     ]
    },
    {
     "name": "stdout",
     "output_type": "stream",
     "text": [
      "Epoch [2/40], Iter [142/145] Loss: 4.0745\n",
      "Epoch [2/40], Iter [143/145] Loss: 4.0131\n",
      "Epoch [2/40], Iter [144/145] Loss: 3.7622\n"
     ]
    },
    {
     "name": "stderr",
     "output_type": "stream",
     "text": [
      "  5%|▌         | 2/40 [00:22<07:10, 11.32s/it]"
     ]
    },
    {
     "name": "stdout",
     "output_type": "stream",
     "text": [
      "Epoch [2/40], Iter [145/145] Loss: 4.1081\n"
     ]
    },
    {
     "name": "stderr",
     "output_type": "stream",
     "text": [
      "  5%|▌         | 2/40 [00:23<07:10, 11.32s/it]"
     ]
    },
    {
     "name": "stdout",
     "output_type": "stream",
     "text": [
      "Epoch [3/40], Iter [1/145] Loss: 3.7170\n",
      "Epoch [3/40], Iter [2/145] Loss: 3.7065\n",
      "Epoch [3/40], Iter [3/145] Loss: 3.8565\n"
     ]
    },
    {
     "name": "stderr",
     "output_type": "stream",
     "text": [
      "  5%|▌         | 2/40 [00:23<07:10, 11.32s/it]"
     ]
    },
    {
     "name": "stdout",
     "output_type": "stream",
     "text": [
      "Epoch [3/40], Iter [4/145] Loss: 3.8214\n",
      "Epoch [3/40], Iter [5/145] Loss: 3.9427\n",
      "Epoch [3/40], Iter [6/145] Loss: 4.0579\n"
     ]
    },
    {
     "name": "stderr",
     "output_type": "stream",
     "text": [
      "  5%|▌         | 2/40 [00:23<07:10, 11.32s/it]"
     ]
    },
    {
     "name": "stdout",
     "output_type": "stream",
     "text": [
      "Epoch [3/40], Iter [7/145] Loss: 4.0038\n",
      "Epoch [3/40], Iter [8/145] Loss: 3.8847\n",
      "Epoch [3/40], Iter [9/145] Loss: 3.8049\n"
     ]
    },
    {
     "name": "stderr",
     "output_type": "stream",
     "text": [
      "  5%|▌         | 2/40 [00:23<07:10, 11.32s/it]"
     ]
    },
    {
     "name": "stdout",
     "output_type": "stream",
     "text": [
      "Epoch [3/40], Iter [10/145] Loss: 3.9203\n",
      "Epoch [3/40], Iter [11/145] Loss: 3.5071\n",
      "Epoch [3/40], Iter [12/145] Loss: 3.9330\n"
     ]
    },
    {
     "name": "stderr",
     "output_type": "stream",
     "text": [
      "  5%|▌         | 2/40 [00:24<07:10, 11.32s/it]"
     ]
    },
    {
     "name": "stdout",
     "output_type": "stream",
     "text": [
      "Epoch [3/40], Iter [13/145] Loss: 4.1096\n",
      "Epoch [3/40], Iter [14/145] Loss: 3.7900\n",
      "Epoch [3/40], Iter [15/145] Loss: 3.9300\n"
     ]
    },
    {
     "name": "stderr",
     "output_type": "stream",
     "text": [
      "  5%|▌         | 2/40 [00:24<07:10, 11.32s/it]"
     ]
    },
    {
     "name": "stdout",
     "output_type": "stream",
     "text": [
      "Epoch [3/40], Iter [16/145] Loss: 3.9684\n",
      "Epoch [3/40], Iter [17/145] Loss: 3.9101\n",
      "Epoch [3/40], Iter [18/145] Loss: 3.6832\n"
     ]
    },
    {
     "name": "stderr",
     "output_type": "stream",
     "text": [
      "  5%|▌         | 2/40 [00:24<07:10, 11.32s/it]"
     ]
    },
    {
     "name": "stdout",
     "output_type": "stream",
     "text": [
      "Epoch [3/40], Iter [19/145] Loss: 3.7599\n",
      "Epoch [3/40], Iter [20/145] Loss: 3.8422\n",
      "Epoch [3/40], Iter [21/145] Loss: 3.8181\n"
     ]
    },
    {
     "name": "stderr",
     "output_type": "stream",
     "text": [
      "  5%|▌         | 2/40 [00:24<07:10, 11.32s/it]"
     ]
    },
    {
     "name": "stdout",
     "output_type": "stream",
     "text": [
      "Epoch [3/40], Iter [22/145] Loss: 3.8034\n",
      "Epoch [3/40], Iter [23/145] Loss: 3.9352\n",
      "Epoch [3/40], Iter [24/145] Loss: 3.9030\n"
     ]
    },
    {
     "name": "stderr",
     "output_type": "stream",
     "text": [
      "  5%|▌         | 2/40 [00:24<07:10, 11.32s/it]"
     ]
    },
    {
     "name": "stdout",
     "output_type": "stream",
     "text": [
      "Epoch [3/40], Iter [25/145] Loss: 3.7083\n",
      "Epoch [3/40], Iter [26/145] Loss: 3.7033\n",
      "Epoch [3/40], Iter [27/145] Loss: 3.8718\n"
     ]
    },
    {
     "name": "stderr",
     "output_type": "stream",
     "text": [
      "  5%|▌         | 2/40 [00:25<07:10, 11.32s/it]"
     ]
    },
    {
     "name": "stdout",
     "output_type": "stream",
     "text": [
      "Epoch [3/40], Iter [28/145] Loss: 3.8598\n",
      "Epoch [3/40], Iter [29/145] Loss: 3.9296\n",
      "Epoch [3/40], Iter [30/145] Loss: 3.9317\n"
     ]
    },
    {
     "name": "stderr",
     "output_type": "stream",
     "text": [
      "  5%|▌         | 2/40 [00:25<07:10, 11.32s/it]"
     ]
    },
    {
     "name": "stdout",
     "output_type": "stream",
     "text": [
      "Epoch [3/40], Iter [31/145] Loss: 3.8666\n",
      "Epoch [3/40], Iter [32/145] Loss: 3.8229\n",
      "Epoch [3/40], Iter [33/145] Loss: 3.8206\n"
     ]
    },
    {
     "name": "stderr",
     "output_type": "stream",
     "text": [
      "  5%|▌         | 2/40 [00:25<07:10, 11.32s/it]"
     ]
    },
    {
     "name": "stdout",
     "output_type": "stream",
     "text": [
      "Epoch [3/40], Iter [34/145] Loss: 3.6940\n",
      "Epoch [3/40], Iter [35/145] Loss: 3.9824\n",
      "Epoch [3/40], Iter [36/145] Loss: 3.8437\n"
     ]
    },
    {
     "name": "stderr",
     "output_type": "stream",
     "text": [
      "  5%|▌         | 2/40 [00:25<07:10, 11.32s/it]"
     ]
    },
    {
     "name": "stdout",
     "output_type": "stream",
     "text": [
      "Epoch [3/40], Iter [37/145] Loss: 3.8680\n",
      "Epoch [3/40], Iter [38/145] Loss: 3.9246\n",
      "Epoch [3/40], Iter [39/145] Loss: 3.8539\n"
     ]
    },
    {
     "name": "stderr",
     "output_type": "stream",
     "text": [
      "  5%|▌         | 2/40 [00:26<07:10, 11.32s/it]"
     ]
    },
    {
     "name": "stdout",
     "output_type": "stream",
     "text": [
      "Epoch [3/40], Iter [40/145] Loss: 3.8713\n",
      "Epoch [3/40], Iter [41/145] Loss: 3.8380\n",
      "Epoch [3/40], Iter [42/145] Loss: 3.8322\n"
     ]
    },
    {
     "name": "stderr",
     "output_type": "stream",
     "text": [
      "  5%|▌         | 2/40 [00:26<07:10, 11.32s/it]"
     ]
    },
    {
     "name": "stdout",
     "output_type": "stream",
     "text": [
      "Epoch [3/40], Iter [43/145] Loss: 3.7711\n",
      "Epoch [3/40], Iter [44/145] Loss: 3.9229\n",
      "Epoch [3/40], Iter [45/145] Loss: 3.9653\n"
     ]
    },
    {
     "name": "stderr",
     "output_type": "stream",
     "text": [
      "  5%|▌         | 2/40 [00:26<07:10, 11.32s/it]"
     ]
    },
    {
     "name": "stdout",
     "output_type": "stream",
     "text": [
      "Epoch [3/40], Iter [46/145] Loss: 3.8460\n",
      "Epoch [3/40], Iter [47/145] Loss: 3.5756\n",
      "Epoch [3/40], Iter [48/145] Loss: 3.7754\n"
     ]
    },
    {
     "name": "stderr",
     "output_type": "stream",
     "text": [
      "  5%|▌         | 2/40 [00:26<07:10, 11.32s/it]"
     ]
    },
    {
     "name": "stdout",
     "output_type": "stream",
     "text": [
      "Epoch [3/40], Iter [49/145] Loss: 3.5505\n",
      "Epoch [3/40], Iter [50/145] Loss: 3.9063\n",
      "Epoch [3/40], Iter [51/145] Loss: 4.1281\n"
     ]
    },
    {
     "name": "stderr",
     "output_type": "stream",
     "text": [
      "  5%|▌         | 2/40 [00:26<07:10, 11.32s/it]"
     ]
    },
    {
     "name": "stdout",
     "output_type": "stream",
     "text": [
      "Epoch [3/40], Iter [52/145] Loss: 3.9412\n",
      "Epoch [3/40], Iter [53/145] Loss: 4.0284\n",
      "Epoch [3/40], Iter [54/145] Loss: 3.9178\n"
     ]
    },
    {
     "name": "stderr",
     "output_type": "stream",
     "text": [
      "  5%|▌         | 2/40 [00:27<07:10, 11.32s/it]"
     ]
    },
    {
     "name": "stdout",
     "output_type": "stream",
     "text": [
      "Epoch [3/40], Iter [55/145] Loss: 3.7873\n",
      "Epoch [3/40], Iter [56/145] Loss: 3.9257\n",
      "Epoch [3/40], Iter [57/145] Loss: 4.1037\n"
     ]
    },
    {
     "name": "stderr",
     "output_type": "stream",
     "text": [
      "  5%|▌         | 2/40 [00:27<07:10, 11.32s/it]"
     ]
    },
    {
     "name": "stdout",
     "output_type": "stream",
     "text": [
      "Epoch [3/40], Iter [58/145] Loss: 3.7826\n",
      "Epoch [3/40], Iter [59/145] Loss: 3.8824\n",
      "Epoch [3/40], Iter [60/145] Loss: 3.9218\n"
     ]
    },
    {
     "name": "stderr",
     "output_type": "stream",
     "text": [
      "  5%|▌         | 2/40 [00:27<07:10, 11.32s/it]"
     ]
    },
    {
     "name": "stdout",
     "output_type": "stream",
     "text": [
      "Epoch [3/40], Iter [61/145] Loss: 3.7072\n",
      "Epoch [3/40], Iter [62/145] Loss: 3.8001\n",
      "Epoch [3/40], Iter [63/145] Loss: 3.9101\n"
     ]
    },
    {
     "name": "stderr",
     "output_type": "stream",
     "text": [
      "  5%|▌         | 2/40 [00:27<07:10, 11.32s/it]"
     ]
    },
    {
     "name": "stdout",
     "output_type": "stream",
     "text": [
      "Epoch [3/40], Iter [64/145] Loss: 3.8780\n",
      "Epoch [3/40], Iter [65/145] Loss: 3.9615\n",
      "Epoch [3/40], Iter [66/145] Loss: 3.6992\n"
     ]
    },
    {
     "name": "stderr",
     "output_type": "stream",
     "text": [
      "  5%|▌         | 2/40 [00:28<07:10, 11.32s/it]"
     ]
    },
    {
     "name": "stdout",
     "output_type": "stream",
     "text": [
      "Epoch [3/40], Iter [67/145] Loss: 3.8903\n",
      "Epoch [3/40], Iter [68/145] Loss: 3.5783\n",
      "Epoch [3/40], Iter [69/145] Loss: 4.0019\n"
     ]
    },
    {
     "name": "stderr",
     "output_type": "stream",
     "text": [
      "  5%|▌         | 2/40 [00:28<07:10, 11.32s/it]"
     ]
    },
    {
     "name": "stdout",
     "output_type": "stream",
     "text": [
      "Epoch [3/40], Iter [70/145] Loss: 3.7900\n",
      "Epoch [3/40], Iter [71/145] Loss: 3.7874\n",
      "Epoch [3/40], Iter [72/145] Loss: 3.7447\n"
     ]
    },
    {
     "name": "stderr",
     "output_type": "stream",
     "text": [
      "  5%|▌         | 2/40 [00:28<07:10, 11.32s/it]"
     ]
    },
    {
     "name": "stdout",
     "output_type": "stream",
     "text": [
      "Epoch [3/40], Iter [73/145] Loss: 3.9136\n",
      "Epoch [3/40], Iter [74/145] Loss: 3.7534\n",
      "Epoch [3/40], Iter [75/145] Loss: 3.7266\n"
     ]
    },
    {
     "name": "stderr",
     "output_type": "stream",
     "text": [
      "  5%|▌         | 2/40 [00:28<07:10, 11.32s/it]"
     ]
    },
    {
     "name": "stdout",
     "output_type": "stream",
     "text": [
      "Epoch [3/40], Iter [76/145] Loss: 3.8328\n",
      "Epoch [3/40], Iter [77/145] Loss: 3.9284\n",
      "Epoch [3/40], Iter [78/145] Loss: 3.9926\n"
     ]
    },
    {
     "name": "stderr",
     "output_type": "stream",
     "text": [
      "  5%|▌         | 2/40 [00:28<07:10, 11.32s/it]"
     ]
    },
    {
     "name": "stdout",
     "output_type": "stream",
     "text": [
      "Epoch [3/40], Iter [79/145] Loss: 3.7614\n",
      "Epoch [3/40], Iter [80/145] Loss: 3.8425\n",
      "Epoch [3/40], Iter [81/145] Loss: 3.5519\n"
     ]
    },
    {
     "name": "stderr",
     "output_type": "stream",
     "text": [
      "  5%|▌         | 2/40 [00:29<07:10, 11.32s/it]"
     ]
    },
    {
     "name": "stdout",
     "output_type": "stream",
     "text": [
      "Epoch [3/40], Iter [82/145] Loss: 3.7111\n",
      "Epoch [3/40], Iter [83/145] Loss: 4.0207\n",
      "Epoch [3/40], Iter [84/145] Loss: 3.7886\n"
     ]
    },
    {
     "name": "stderr",
     "output_type": "stream",
     "text": [
      "  5%|▌         | 2/40 [00:29<07:10, 11.32s/it]"
     ]
    },
    {
     "name": "stdout",
     "output_type": "stream",
     "text": [
      "Epoch [3/40], Iter [85/145] Loss: 3.9514\n",
      "Epoch [3/40], Iter [86/145] Loss: 3.8202\n",
      "Epoch [3/40], Iter [87/145] Loss: 4.0977\n"
     ]
    },
    {
     "name": "stderr",
     "output_type": "stream",
     "text": [
      "  5%|▌         | 2/40 [00:29<07:10, 11.32s/it]"
     ]
    },
    {
     "name": "stdout",
     "output_type": "stream",
     "text": [
      "Epoch [3/40], Iter [88/145] Loss: 3.8754\n",
      "Epoch [3/40], Iter [89/145] Loss: 3.9090\n",
      "Epoch [3/40], Iter [90/145] Loss: 3.9809\n"
     ]
    },
    {
     "name": "stderr",
     "output_type": "stream",
     "text": [
      "  5%|▌         | 2/40 [00:29<07:10, 11.32s/it]"
     ]
    },
    {
     "name": "stdout",
     "output_type": "stream",
     "text": [
      "Epoch [3/40], Iter [91/145] Loss: 3.8770\n",
      "Epoch [3/40], Iter [92/145] Loss: 3.8452\n",
      "Epoch [3/40], Iter [93/145] Loss: 3.8104\n"
     ]
    },
    {
     "name": "stderr",
     "output_type": "stream",
     "text": [
      "  5%|▌         | 2/40 [00:30<07:10, 11.32s/it]"
     ]
    },
    {
     "name": "stdout",
     "output_type": "stream",
     "text": [
      "Epoch [3/40], Iter [94/145] Loss: 3.9404\n",
      "Epoch [3/40], Iter [95/145] Loss: 3.8230\n",
      "Epoch [3/40], Iter [96/145] Loss: 3.9306\n"
     ]
    },
    {
     "name": "stderr",
     "output_type": "stream",
     "text": [
      "  5%|▌         | 2/40 [00:30<07:10, 11.32s/it]"
     ]
    },
    {
     "name": "stdout",
     "output_type": "stream",
     "text": [
      "Epoch [3/40], Iter [97/145] Loss: 3.7607\n",
      "Epoch [3/40], Iter [98/145] Loss: 3.7501\n",
      "Epoch [3/40], Iter [99/145] Loss: 3.7727\n"
     ]
    },
    {
     "name": "stderr",
     "output_type": "stream",
     "text": [
      "  5%|▌         | 2/40 [00:30<07:10, 11.32s/it]"
     ]
    },
    {
     "name": "stdout",
     "output_type": "stream",
     "text": [
      "Epoch [3/40], Iter [100/145] Loss: 3.6103\n",
      "Epoch [3/40], Iter [101/145] Loss: 3.9256\n",
      "Epoch [3/40], Iter [102/145] Loss: 3.7910\n"
     ]
    },
    {
     "name": "stderr",
     "output_type": "stream",
     "text": [
      "  5%|▌         | 2/40 [00:30<07:10, 11.32s/it]"
     ]
    },
    {
     "name": "stdout",
     "output_type": "stream",
     "text": [
      "Epoch [3/40], Iter [103/145] Loss: 3.6635\n",
      "Epoch [3/40], Iter [104/145] Loss: 4.0103\n",
      "Epoch [3/40], Iter [105/145] Loss: 3.7085\n"
     ]
    },
    {
     "name": "stderr",
     "output_type": "stream",
     "text": [
      "  5%|▌         | 2/40 [00:30<07:10, 11.32s/it]"
     ]
    },
    {
     "name": "stdout",
     "output_type": "stream",
     "text": [
      "Epoch [3/40], Iter [106/145] Loss: 3.5208\n",
      "Epoch [3/40], Iter [107/145] Loss: 3.9195\n",
      "Epoch [3/40], Iter [108/145] Loss: 3.8469\n"
     ]
    },
    {
     "name": "stderr",
     "output_type": "stream",
     "text": [
      "  5%|▌         | 2/40 [00:31<07:10, 11.32s/it]"
     ]
    },
    {
     "name": "stdout",
     "output_type": "stream",
     "text": [
      "Epoch [3/40], Iter [109/145] Loss: 3.7570\n",
      "Epoch [3/40], Iter [110/145] Loss: 3.8251\n",
      "Epoch [3/40], Iter [111/145] Loss: 3.7729\n"
     ]
    },
    {
     "name": "stderr",
     "output_type": "stream",
     "text": [
      "  5%|▌         | 2/40 [00:31<07:10, 11.32s/it]"
     ]
    },
    {
     "name": "stdout",
     "output_type": "stream",
     "text": [
      "Epoch [3/40], Iter [112/145] Loss: 3.7987\n",
      "Epoch [3/40], Iter [113/145] Loss: 3.7983\n",
      "Epoch [3/40], Iter [114/145] Loss: 3.7458\n"
     ]
    },
    {
     "name": "stderr",
     "output_type": "stream",
     "text": [
      "  5%|▌         | 2/40 [00:31<07:10, 11.32s/it]"
     ]
    },
    {
     "name": "stdout",
     "output_type": "stream",
     "text": [
      "Epoch [3/40], Iter [115/145] Loss: 3.8880\n",
      "Epoch [3/40], Iter [116/145] Loss: 3.5868\n",
      "Epoch [3/40], Iter [117/145] Loss: 4.0040\n"
     ]
    },
    {
     "name": "stderr",
     "output_type": "stream",
     "text": [
      "  5%|▌         | 2/40 [00:31<07:10, 11.32s/it]"
     ]
    },
    {
     "name": "stdout",
     "output_type": "stream",
     "text": [
      "Epoch [3/40], Iter [118/145] Loss: 3.8182\n",
      "Epoch [3/40], Iter [119/145] Loss: 3.8369\n",
      "Epoch [3/40], Iter [120/145] Loss: 3.8021\n"
     ]
    },
    {
     "name": "stderr",
     "output_type": "stream",
     "text": [
      "  5%|▌         | 2/40 [00:32<07:10, 11.32s/it]"
     ]
    },
    {
     "name": "stdout",
     "output_type": "stream",
     "text": [
      "Epoch [3/40], Iter [121/145] Loss: 3.7208\n",
      "Epoch [3/40], Iter [122/145] Loss: 3.9552\n",
      "Epoch [3/40], Iter [123/145] Loss: 3.9561\n"
     ]
    },
    {
     "name": "stderr",
     "output_type": "stream",
     "text": [
      "  5%|▌         | 2/40 [00:32<07:10, 11.32s/it]"
     ]
    },
    {
     "name": "stdout",
     "output_type": "stream",
     "text": [
      "Epoch [3/40], Iter [124/145] Loss: 3.6644\n",
      "Epoch [3/40], Iter [125/145] Loss: 3.7158\n",
      "Epoch [3/40], Iter [126/145] Loss: 3.9865\n"
     ]
    },
    {
     "name": "stderr",
     "output_type": "stream",
     "text": [
      "  5%|▌         | 2/40 [00:32<07:10, 11.32s/it]"
     ]
    },
    {
     "name": "stdout",
     "output_type": "stream",
     "text": [
      "Epoch [3/40], Iter [127/145] Loss: 3.9290\n",
      "Epoch [3/40], Iter [128/145] Loss: 4.0351\n",
      "Epoch [3/40], Iter [129/145] Loss: 3.7790\n"
     ]
    },
    {
     "name": "stderr",
     "output_type": "stream",
     "text": [
      "  5%|▌         | 2/40 [00:32<07:10, 11.32s/it]"
     ]
    },
    {
     "name": "stdout",
     "output_type": "stream",
     "text": [
      "Epoch [3/40], Iter [130/145] Loss: 3.8376\n",
      "Epoch [3/40], Iter [131/145] Loss: 3.9746\n",
      "Epoch [3/40], Iter [132/145] Loss: 3.8456\n"
     ]
    },
    {
     "name": "stderr",
     "output_type": "stream",
     "text": [
      "  5%|▌         | 2/40 [00:32<07:10, 11.32s/it]"
     ]
    },
    {
     "name": "stdout",
     "output_type": "stream",
     "text": [
      "Epoch [3/40], Iter [133/145] Loss: 3.7880\n",
      "Epoch [3/40], Iter [134/145] Loss: 3.6085\n",
      "Epoch [3/40], Iter [135/145] Loss: 3.7961\n"
     ]
    },
    {
     "name": "stderr",
     "output_type": "stream",
     "text": [
      "  5%|▌         | 2/40 [00:33<07:10, 11.32s/it]"
     ]
    },
    {
     "name": "stdout",
     "output_type": "stream",
     "text": [
      "Epoch [3/40], Iter [136/145] Loss: 4.0078\n",
      "Epoch [3/40], Iter [137/145] Loss: 3.8140\n",
      "Epoch [3/40], Iter [138/145] Loss: 3.7543\n"
     ]
    },
    {
     "name": "stderr",
     "output_type": "stream",
     "text": [
      "  5%|▌         | 2/40 [00:33<07:10, 11.32s/it]"
     ]
    },
    {
     "name": "stdout",
     "output_type": "stream",
     "text": [
      "Epoch [3/40], Iter [139/145] Loss: 3.6935\n",
      "Epoch [3/40], Iter [140/145] Loss: 3.6979\n",
      "Epoch [3/40], Iter [141/145] Loss: 3.7179\n"
     ]
    },
    {
     "name": "stderr",
     "output_type": "stream",
     "text": [
      "  5%|▌         | 2/40 [00:33<07:10, 11.32s/it]"
     ]
    },
    {
     "name": "stdout",
     "output_type": "stream",
     "text": [
      "Epoch [3/40], Iter [142/145] Loss: 3.5675\n",
      "Epoch [3/40], Iter [143/145] Loss: 3.8593\n",
      "Epoch [3/40], Iter [144/145] Loss: 3.7337\n"
     ]
    },
    {
     "name": "stderr",
     "output_type": "stream",
     "text": [
      "  8%|▊         | 3/40 [00:33<06:56, 11.25s/it]"
     ]
    },
    {
     "name": "stdout",
     "output_type": "stream",
     "text": [
      "Epoch [3/40], Iter [145/145] Loss: 4.0261\n"
     ]
    },
    {
     "name": "stderr",
     "output_type": "stream",
     "text": [
      "Exception ignored in: <function _releaseLock at 0x7f91febe29d0>\n",
      "Traceback (most recent call last):\n",
      "  File \"/home/anubhav/anaconda3/envs/torch/lib/python3.9/logging/__init__.py\", line 227, in _releaseLock\n",
      "    def _releaseLock():\n",
      "KeyboardInterrupt: \n",
      "  8%|▊         | 3/40 [00:34<06:56, 11.25s/it]"
     ]
    },
    {
     "name": "stdout",
     "output_type": "stream",
     "text": [
      "Epoch [4/40], Iter [1/145] Loss: 4.0097\n",
      "Epoch [4/40], Iter [2/145] Loss: 3.5634\n",
      "Epoch [4/40], Iter [3/145] Loss: 4.0465\n"
     ]
    },
    {
     "name": "stderr",
     "output_type": "stream",
     "text": [
      "  8%|▊         | 3/40 [00:34<06:56, 11.25s/it]"
     ]
    },
    {
     "name": "stdout",
     "output_type": "stream",
     "text": [
      "Epoch [4/40], Iter [4/145] Loss: 4.0674\n",
      "Epoch [4/40], Iter [5/145] Loss: 3.5561\n",
      "Epoch [4/40], Iter [6/145] Loss: 3.7254\n"
     ]
    },
    {
     "name": "stderr",
     "output_type": "stream",
     "text": [
      "  8%|▊         | 3/40 [00:34<06:56, 11.25s/it]"
     ]
    },
    {
     "name": "stdout",
     "output_type": "stream",
     "text": [
      "Epoch [4/40], Iter [7/145] Loss: 3.7628\n",
      "Epoch [4/40], Iter [8/145] Loss: 3.7308\n",
      "Epoch [4/40], Iter [9/145] Loss: 3.6739\n"
     ]
    },
    {
     "name": "stderr",
     "output_type": "stream",
     "text": [
      "  8%|▊         | 3/40 [00:34<06:56, 11.25s/it]"
     ]
    },
    {
     "name": "stdout",
     "output_type": "stream",
     "text": [
      "Epoch [4/40], Iter [10/145] Loss: 3.7432\n",
      "Epoch [4/40], Iter [11/145] Loss: 3.7725\n",
      "Epoch [4/40], Iter [12/145] Loss: 3.8529\n"
     ]
    },
    {
     "name": "stderr",
     "output_type": "stream",
     "text": [
      "  8%|▊         | 3/40 [00:35<06:56, 11.25s/it]"
     ]
    },
    {
     "name": "stdout",
     "output_type": "stream",
     "text": [
      "Epoch [4/40], Iter [13/145] Loss: 3.9385\n",
      "Epoch [4/40], Iter [14/145] Loss: 4.1153\n",
      "Epoch [4/40], Iter [15/145] Loss: 3.5894\n"
     ]
    },
    {
     "name": "stderr",
     "output_type": "stream",
     "text": [
      "  8%|▊         | 3/40 [00:35<06:56, 11.25s/it]"
     ]
    },
    {
     "name": "stdout",
     "output_type": "stream",
     "text": [
      "Epoch [4/40], Iter [16/145] Loss: 3.9518\n",
      "Epoch [4/40], Iter [17/145] Loss: 3.6946\n",
      "Epoch [4/40], Iter [18/145] Loss: 3.7750\n"
     ]
    },
    {
     "name": "stderr",
     "output_type": "stream",
     "text": [
      "  8%|▊         | 3/40 [00:35<06:56, 11.25s/it]"
     ]
    },
    {
     "name": "stdout",
     "output_type": "stream",
     "text": [
      "Epoch [4/40], Iter [19/145] Loss: 3.8294\n",
      "Epoch [4/40], Iter [20/145] Loss: 4.0127\n",
      "Epoch [4/40], Iter [21/145] Loss: 3.9833\n"
     ]
    },
    {
     "name": "stderr",
     "output_type": "stream",
     "text": [
      "  8%|▊         | 3/40 [00:35<06:56, 11.25s/it]"
     ]
    },
    {
     "name": "stdout",
     "output_type": "stream",
     "text": [
      "Epoch [4/40], Iter [22/145] Loss: 3.9968\n",
      "Epoch [4/40], Iter [23/145] Loss: 3.8528\n",
      "Epoch [4/40], Iter [24/145] Loss: 3.9569\n"
     ]
    },
    {
     "name": "stderr",
     "output_type": "stream",
     "text": [
      "  8%|▊         | 3/40 [00:36<06:56, 11.25s/it]"
     ]
    },
    {
     "name": "stdout",
     "output_type": "stream",
     "text": [
      "Epoch [4/40], Iter [25/145] Loss: 3.8984\n",
      "Epoch [4/40], Iter [26/145] Loss: 4.0229\n",
      "Epoch [4/40], Iter [27/145] Loss: 3.9333\n"
     ]
    },
    {
     "name": "stderr",
     "output_type": "stream",
     "text": [
      "  8%|▊         | 3/40 [00:36<06:56, 11.25s/it]"
     ]
    },
    {
     "name": "stdout",
     "output_type": "stream",
     "text": [
      "Epoch [4/40], Iter [28/145] Loss: 4.0018\n",
      "Epoch [4/40], Iter [29/145] Loss: 3.5781\n",
      "Epoch [4/40], Iter [30/145] Loss: 3.6637\n"
     ]
    },
    {
     "name": "stderr",
     "output_type": "stream",
     "text": [
      "  8%|▊         | 3/40 [00:36<06:56, 11.25s/it]"
     ]
    },
    {
     "name": "stdout",
     "output_type": "stream",
     "text": [
      "Epoch [4/40], Iter [31/145] Loss: 3.9236\n",
      "Epoch [4/40], Iter [32/145] Loss: 3.9246\n",
      "Epoch [4/40], Iter [33/145] Loss: 3.9048\n"
     ]
    },
    {
     "name": "stderr",
     "output_type": "stream",
     "text": [
      "  8%|▊         | 3/40 [00:36<06:56, 11.25s/it]"
     ]
    },
    {
     "name": "stdout",
     "output_type": "stream",
     "text": [
      "Epoch [4/40], Iter [34/145] Loss: 3.7018\n",
      "Epoch [4/40], Iter [35/145] Loss: 3.8235\n",
      "Epoch [4/40], Iter [36/145] Loss: 3.7798\n"
     ]
    },
    {
     "name": "stderr",
     "output_type": "stream",
     "text": [
      "  8%|▊         | 3/40 [00:37<06:56, 11.25s/it]"
     ]
    },
    {
     "name": "stdout",
     "output_type": "stream",
     "text": [
      "Epoch [4/40], Iter [37/145] Loss: 3.8235\n",
      "Epoch [4/40], Iter [38/145] Loss: 4.0970\n",
      "Epoch [4/40], Iter [39/145] Loss: 3.8545\n"
     ]
    },
    {
     "name": "stderr",
     "output_type": "stream",
     "text": [
      "  8%|▊         | 3/40 [00:37<06:56, 11.25s/it]"
     ]
    },
    {
     "name": "stdout",
     "output_type": "stream",
     "text": [
      "Epoch [4/40], Iter [40/145] Loss: 4.0307\n",
      "Epoch [4/40], Iter [41/145] Loss: 3.9008\n",
      "Epoch [4/40], Iter [42/145] Loss: 3.9474\n"
     ]
    },
    {
     "name": "stderr",
     "output_type": "stream",
     "text": [
      "  8%|▊         | 3/40 [00:37<06:56, 11.25s/it]"
     ]
    },
    {
     "name": "stdout",
     "output_type": "stream",
     "text": [
      "Epoch [4/40], Iter [43/145] Loss: 3.7455\n",
      "Epoch [4/40], Iter [44/145] Loss: 3.5867\n",
      "Epoch [4/40], Iter [45/145] Loss: 3.6303\n"
     ]
    },
    {
     "name": "stderr",
     "output_type": "stream",
     "text": [
      "  8%|▊         | 3/40 [00:37<06:56, 11.25s/it]"
     ]
    },
    {
     "name": "stdout",
     "output_type": "stream",
     "text": [
      "Epoch [4/40], Iter [46/145] Loss: 4.0340\n",
      "Epoch [4/40], Iter [47/145] Loss: 3.9053\n",
      "Epoch [4/40], Iter [48/145] Loss: 4.0950\n"
     ]
    },
    {
     "name": "stderr",
     "output_type": "stream",
     "text": [
      "  8%|▊         | 3/40 [00:38<06:56, 11.25s/it]"
     ]
    },
    {
     "name": "stdout",
     "output_type": "stream",
     "text": [
      "Epoch [4/40], Iter [49/145] Loss: 3.8609\n",
      "Epoch [4/40], Iter [50/145] Loss: 3.8425\n",
      "Epoch [4/40], Iter [51/145] Loss: 3.6067\n"
     ]
    },
    {
     "name": "stderr",
     "output_type": "stream",
     "text": [
      "  8%|▊         | 3/40 [00:38<06:56, 11.25s/it]"
     ]
    },
    {
     "name": "stdout",
     "output_type": "stream",
     "text": [
      "Epoch [4/40], Iter [52/145] Loss: 3.8335\n",
      "Epoch [4/40], Iter [53/145] Loss: 3.7398\n",
      "Epoch [4/40], Iter [54/145] Loss: 3.6529\n"
     ]
    },
    {
     "name": "stderr",
     "output_type": "stream",
     "text": [
      "  8%|▊         | 3/40 [00:38<06:56, 11.25s/it]"
     ]
    },
    {
     "name": "stdout",
     "output_type": "stream",
     "text": [
      "Epoch [4/40], Iter [55/145] Loss: 3.5941\n",
      "Epoch [4/40], Iter [56/145] Loss: 3.8052\n",
      "Epoch [4/40], Iter [57/145] Loss: 3.9585\n"
     ]
    },
    {
     "name": "stderr",
     "output_type": "stream",
     "text": [
      "  8%|▊         | 3/40 [00:38<06:56, 11.25s/it]"
     ]
    },
    {
     "name": "stdout",
     "output_type": "stream",
     "text": [
      "Epoch [4/40], Iter [58/145] Loss: 3.8952\n",
      "Epoch [4/40], Iter [59/145] Loss: 3.7712\n",
      "Epoch [4/40], Iter [60/145] Loss: 3.6493\n"
     ]
    },
    {
     "name": "stderr",
     "output_type": "stream",
     "text": [
      "  8%|▊         | 3/40 [00:39<06:56, 11.25s/it]"
     ]
    },
    {
     "name": "stdout",
     "output_type": "stream",
     "text": [
      "Epoch [4/40], Iter [61/145] Loss: 3.6332\n",
      "Epoch [4/40], Iter [62/145] Loss: 4.0156\n",
      "Epoch [4/40], Iter [63/145] Loss: 3.9570\n"
     ]
    },
    {
     "name": "stderr",
     "output_type": "stream",
     "text": [
      "  8%|▊         | 3/40 [00:39<06:56, 11.25s/it]"
     ]
    },
    {
     "name": "stdout",
     "output_type": "stream",
     "text": [
      "Epoch [4/40], Iter [64/145] Loss: 4.0182\n",
      "Epoch [4/40], Iter [65/145] Loss: 3.6986\n",
      "Epoch [4/40], Iter [66/145] Loss: 3.6744\n"
     ]
    },
    {
     "name": "stderr",
     "output_type": "stream",
     "text": [
      "  8%|▊         | 3/40 [00:39<06:56, 11.25s/it]"
     ]
    },
    {
     "name": "stdout",
     "output_type": "stream",
     "text": [
      "Epoch [4/40], Iter [67/145] Loss: 3.8890\n",
      "Epoch [4/40], Iter [68/145] Loss: 3.7515\n",
      "Epoch [4/40], Iter [69/145] Loss: 3.6661\n"
     ]
    },
    {
     "name": "stderr",
     "output_type": "stream",
     "text": [
      "  8%|▊         | 3/40 [00:39<06:56, 11.25s/it]"
     ]
    },
    {
     "name": "stdout",
     "output_type": "stream",
     "text": [
      "Epoch [4/40], Iter [70/145] Loss: 3.7672\n",
      "Epoch [4/40], Iter [71/145] Loss: 3.8529\n",
      "Epoch [4/40], Iter [72/145] Loss: 3.7520\n"
     ]
    },
    {
     "name": "stderr",
     "output_type": "stream",
     "text": [
      "  8%|▊         | 3/40 [00:40<06:56, 11.25s/it]"
     ]
    },
    {
     "name": "stdout",
     "output_type": "stream",
     "text": [
      "Epoch [4/40], Iter [73/145] Loss: 3.7784\n",
      "Epoch [4/40], Iter [74/145] Loss: 3.8185\n",
      "Epoch [4/40], Iter [75/145] Loss: 3.8721\n"
     ]
    },
    {
     "name": "stderr",
     "output_type": "stream",
     "text": [
      "  8%|▊         | 3/40 [00:40<06:56, 11.25s/it]"
     ]
    },
    {
     "name": "stdout",
     "output_type": "stream",
     "text": [
      "Epoch [4/40], Iter [76/145] Loss: 3.7795\n",
      "Epoch [4/40], Iter [77/145] Loss: 3.8667\n",
      "Epoch [4/40], Iter [78/145] Loss: 3.6676\n"
     ]
    },
    {
     "name": "stderr",
     "output_type": "stream",
     "text": [
      "  8%|▊         | 3/40 [00:40<06:56, 11.25s/it]"
     ]
    },
    {
     "name": "stdout",
     "output_type": "stream",
     "text": [
      "Epoch [4/40], Iter [79/145] Loss: 4.1227\n",
      "Epoch [4/40], Iter [80/145] Loss: 3.7954\n",
      "Epoch [4/40], Iter [81/145] Loss: 3.6836\n"
     ]
    },
    {
     "name": "stderr",
     "output_type": "stream",
     "text": [
      "  8%|▊         | 3/40 [00:40<06:56, 11.25s/it]"
     ]
    },
    {
     "name": "stdout",
     "output_type": "stream",
     "text": [
      "Epoch [4/40], Iter [82/145] Loss: 3.7510\n",
      "Epoch [4/40], Iter [83/145] Loss: 3.8437\n",
      "Epoch [4/40], Iter [84/145] Loss: 3.6625\n"
     ]
    },
    {
     "name": "stderr",
     "output_type": "stream",
     "text": [
      "  8%|▊         | 3/40 [00:41<06:56, 11.25s/it]"
     ]
    },
    {
     "name": "stdout",
     "output_type": "stream",
     "text": [
      "Epoch [4/40], Iter [85/145] Loss: 3.5549\n",
      "Epoch [4/40], Iter [86/145] Loss: 4.0240\n",
      "Epoch [4/40], Iter [87/145] Loss: 3.5628\n"
     ]
    },
    {
     "name": "stderr",
     "output_type": "stream",
     "text": [
      "  8%|▊         | 3/40 [00:41<06:56, 11.25s/it]"
     ]
    },
    {
     "name": "stdout",
     "output_type": "stream",
     "text": [
      "Epoch [4/40], Iter [88/145] Loss: 3.8680\n",
      "Epoch [4/40], Iter [89/145] Loss: 3.8409\n",
      "Epoch [4/40], Iter [90/145] Loss: 4.0047\n"
     ]
    },
    {
     "name": "stderr",
     "output_type": "stream",
     "text": [
      "  8%|▊         | 3/40 [00:41<06:56, 11.25s/it]"
     ]
    },
    {
     "name": "stdout",
     "output_type": "stream",
     "text": [
      "Epoch [4/40], Iter [91/145] Loss: 3.8424\n",
      "Epoch [4/40], Iter [92/145] Loss: 3.6068\n",
      "Epoch [4/40], Iter [93/145] Loss: 3.7788\n"
     ]
    },
    {
     "name": "stderr",
     "output_type": "stream",
     "text": [
      "  8%|▊         | 3/40 [00:41<06:56, 11.25s/it]"
     ]
    },
    {
     "name": "stdout",
     "output_type": "stream",
     "text": [
      "Epoch [4/40], Iter [94/145] Loss: 4.1633\n",
      "Epoch [4/40], Iter [95/145] Loss: 3.9686\n",
      "Epoch [4/40], Iter [96/145] Loss: 3.9152\n"
     ]
    },
    {
     "name": "stderr",
     "output_type": "stream",
     "text": [
      "  8%|▊         | 3/40 [00:42<06:56, 11.25s/it]"
     ]
    },
    {
     "name": "stdout",
     "output_type": "stream",
     "text": [
      "Epoch [4/40], Iter [97/145] Loss: 3.8405\n",
      "Epoch [4/40], Iter [98/145] Loss: 3.9045\n",
      "Epoch [4/40], Iter [99/145] Loss: 4.2008\n"
     ]
    },
    {
     "name": "stderr",
     "output_type": "stream",
     "text": [
      "  8%|▊         | 3/40 [00:42<06:56, 11.25s/it]"
     ]
    },
    {
     "name": "stdout",
     "output_type": "stream",
     "text": [
      "Epoch [4/40], Iter [100/145] Loss: 3.8179\n",
      "Epoch [4/40], Iter [101/145] Loss: 3.9133\n",
      "Epoch [4/40], Iter [102/145] Loss: 3.6686\n"
     ]
    },
    {
     "name": "stderr",
     "output_type": "stream",
     "text": [
      "  8%|▊         | 3/40 [00:42<06:56, 11.25s/it]"
     ]
    },
    {
     "name": "stdout",
     "output_type": "stream",
     "text": [
      "Epoch [4/40], Iter [103/145] Loss: 3.6887\n",
      "Epoch [4/40], Iter [104/145] Loss: 4.1610\n",
      "Epoch [4/40], Iter [105/145] Loss: 3.8093\n"
     ]
    },
    {
     "name": "stderr",
     "output_type": "stream",
     "text": [
      "  8%|▊         | 3/40 [00:42<06:56, 11.25s/it]"
     ]
    },
    {
     "name": "stdout",
     "output_type": "stream",
     "text": [
      "Epoch [4/40], Iter [106/145] Loss: 4.0077\n",
      "Epoch [4/40], Iter [107/145] Loss: 3.7307\n",
      "Epoch [4/40], Iter [108/145] Loss: 3.6331\n"
     ]
    },
    {
     "name": "stderr",
     "output_type": "stream",
     "text": [
      "  8%|▊         | 3/40 [00:42<06:56, 11.25s/it]"
     ]
    },
    {
     "name": "stdout",
     "output_type": "stream",
     "text": [
      "Epoch [4/40], Iter [109/145] Loss: 3.7673\n",
      "Epoch [4/40], Iter [110/145] Loss: 3.8413\n",
      "Epoch [4/40], Iter [111/145] Loss: 3.8220\n"
     ]
    },
    {
     "name": "stderr",
     "output_type": "stream",
     "text": [
      "  8%|▊         | 3/40 [00:43<06:56, 11.25s/it]"
     ]
    },
    {
     "name": "stdout",
     "output_type": "stream",
     "text": [
      "Epoch [4/40], Iter [112/145] Loss: 3.8124\n",
      "Epoch [4/40], Iter [113/145] Loss: 4.0057\n",
      "Epoch [4/40], Iter [114/145] Loss: 3.9798\n"
     ]
    },
    {
     "name": "stderr",
     "output_type": "stream",
     "text": [
      "  8%|▊         | 3/40 [00:43<06:56, 11.25s/it]"
     ]
    },
    {
     "name": "stdout",
     "output_type": "stream",
     "text": [
      "Epoch [4/40], Iter [115/145] Loss: 3.8728\n",
      "Epoch [4/40], Iter [116/145] Loss: 3.6164\n",
      "Epoch [4/40], Iter [117/145] Loss: 3.9595\n"
     ]
    },
    {
     "name": "stderr",
     "output_type": "stream",
     "text": [
      "  8%|▊         | 3/40 [00:43<06:56, 11.25s/it]"
     ]
    },
    {
     "name": "stdout",
     "output_type": "stream",
     "text": [
      "Epoch [4/40], Iter [118/145] Loss: 4.0537\n",
      "Epoch [4/40], Iter [119/145] Loss: 4.0000\n",
      "Epoch [4/40], Iter [120/145] Loss: 3.7830\n"
     ]
    },
    {
     "name": "stderr",
     "output_type": "stream",
     "text": [
      "  8%|▊         | 3/40 [00:43<06:56, 11.25s/it]"
     ]
    },
    {
     "name": "stdout",
     "output_type": "stream",
     "text": [
      "Epoch [4/40], Iter [121/145] Loss: 3.9217\n",
      "Epoch [4/40], Iter [122/145] Loss: 4.0975\n",
      "Epoch [4/40], Iter [123/145] Loss: 4.0012\n"
     ]
    },
    {
     "name": "stderr",
     "output_type": "stream",
     "text": [
      "  8%|▊         | 3/40 [00:44<06:56, 11.25s/it]"
     ]
    },
    {
     "name": "stdout",
     "output_type": "stream",
     "text": [
      "Epoch [4/40], Iter [124/145] Loss: 4.0101\n",
      "Epoch [4/40], Iter [125/145] Loss: 3.9226\n",
      "Epoch [4/40], Iter [126/145] Loss: 3.9344\n"
     ]
    },
    {
     "name": "stderr",
     "output_type": "stream",
     "text": [
      "  8%|▊         | 3/40 [00:44<06:56, 11.25s/it]"
     ]
    },
    {
     "name": "stdout",
     "output_type": "stream",
     "text": [
      "Epoch [4/40], Iter [127/145] Loss: 3.8148\n",
      "Epoch [4/40], Iter [128/145] Loss: 3.9343\n",
      "Epoch [4/40], Iter [129/145] Loss: 3.8706\n"
     ]
    },
    {
     "name": "stderr",
     "output_type": "stream",
     "text": [
      "  8%|▊         | 3/40 [00:44<06:56, 11.25s/it]"
     ]
    },
    {
     "name": "stdout",
     "output_type": "stream",
     "text": [
      "Epoch [4/40], Iter [130/145] Loss: 3.7623\n",
      "Epoch [4/40], Iter [131/145] Loss: 3.6922\n",
      "Epoch [4/40], Iter [132/145] Loss: 3.6494\n"
     ]
    },
    {
     "name": "stderr",
     "output_type": "stream",
     "text": [
      "  8%|▊         | 3/40 [00:44<06:56, 11.25s/it]"
     ]
    },
    {
     "name": "stdout",
     "output_type": "stream",
     "text": [
      "Epoch [4/40], Iter [133/145] Loss: 3.9558\n",
      "Epoch [4/40], Iter [134/145] Loss: 3.7424\n",
      "Epoch [4/40], Iter [135/145] Loss: 3.4986\n"
     ]
    },
    {
     "name": "stderr",
     "output_type": "stream",
     "text": [
      "  8%|▊         | 3/40 [00:45<06:56, 11.25s/it]"
     ]
    },
    {
     "name": "stdout",
     "output_type": "stream",
     "text": [
      "Epoch [4/40], Iter [136/145] Loss: 4.0030\n",
      "Epoch [4/40], Iter [137/145] Loss: 3.7399\n",
      "Epoch [4/40], Iter [138/145] Loss: 3.4127\n"
     ]
    },
    {
     "name": "stderr",
     "output_type": "stream",
     "text": [
      "  8%|▊         | 3/40 [00:45<06:56, 11.25s/it]"
     ]
    },
    {
     "name": "stdout",
     "output_type": "stream",
     "text": [
      "Epoch [4/40], Iter [139/145] Loss: 3.7818\n",
      "Epoch [4/40], Iter [140/145] Loss: 3.9451\n",
      "Epoch [4/40], Iter [141/145] Loss: 3.6385\n"
     ]
    },
    {
     "name": "stderr",
     "output_type": "stream",
     "text": [
      "  8%|▊         | 3/40 [00:45<06:56, 11.25s/it]"
     ]
    },
    {
     "name": "stdout",
     "output_type": "stream",
     "text": [
      "Epoch [4/40], Iter [142/145] Loss: 3.7821\n",
      "Epoch [4/40], Iter [143/145] Loss: 4.0426\n",
      "Epoch [4/40], Iter [144/145] Loss: 3.7346\n"
     ]
    },
    {
     "name": "stderr",
     "output_type": "stream",
     "text": [
      " 10%|█         | 4/40 [00:45<06:54, 11.52s/it]"
     ]
    },
    {
     "name": "stdout",
     "output_type": "stream",
     "text": [
      "Epoch [4/40], Iter [145/145] Loss: 3.7662\n"
     ]
    },
    {
     "name": "stderr",
     "output_type": "stream",
     "text": [
      " 10%|█         | 4/40 [00:46<06:54, 11.52s/it]"
     ]
    },
    {
     "name": "stdout",
     "output_type": "stream",
     "text": [
      "Epoch [5/40], Iter [1/145] Loss: 4.0589\n",
      "Epoch [5/40], Iter [2/145] Loss: 3.6996\n",
      "Epoch [5/40], Iter [3/145] Loss: 4.0349\n"
     ]
    },
    {
     "name": "stderr",
     "output_type": "stream",
     "text": [
      " 10%|█         | 4/40 [00:46<06:54, 11.52s/it]"
     ]
    },
    {
     "name": "stdout",
     "output_type": "stream",
     "text": [
      "Epoch [5/40], Iter [4/145] Loss: 3.8773\n",
      "Epoch [5/40], Iter [5/145] Loss: 3.9111\n",
      "Epoch [5/40], Iter [6/145] Loss: 3.8756\n"
     ]
    },
    {
     "name": "stderr",
     "output_type": "stream",
     "text": [
      " 10%|█         | 4/40 [00:46<06:54, 11.52s/it]"
     ]
    },
    {
     "name": "stdout",
     "output_type": "stream",
     "text": [
      "Epoch [5/40], Iter [7/145] Loss: 3.7131\n",
      "Epoch [5/40], Iter [8/145] Loss: 3.6983\n",
      "Epoch [5/40], Iter [9/145] Loss: 3.6903\n"
     ]
    },
    {
     "name": "stderr",
     "output_type": "stream",
     "text": [
      " 10%|█         | 4/40 [00:46<06:54, 11.52s/it]"
     ]
    },
    {
     "name": "stdout",
     "output_type": "stream",
     "text": [
      "Epoch [5/40], Iter [10/145] Loss: 3.6196\n",
      "Epoch [5/40], Iter [11/145] Loss: 3.6045\n",
      "Epoch [5/40], Iter [12/145] Loss: 3.8214\n"
     ]
    },
    {
     "name": "stderr",
     "output_type": "stream",
     "text": [
      " 10%|█         | 4/40 [00:47<06:54, 11.52s/it]"
     ]
    },
    {
     "name": "stdout",
     "output_type": "stream",
     "text": [
      "Epoch [5/40], Iter [13/145] Loss: 3.8095\n",
      "Epoch [5/40], Iter [14/145] Loss: 3.9185\n",
      "Epoch [5/40], Iter [15/145] Loss: 3.9234\n"
     ]
    },
    {
     "name": "stderr",
     "output_type": "stream",
     "text": [
      " 10%|█         | 4/40 [00:47<06:54, 11.52s/it]"
     ]
    },
    {
     "name": "stdout",
     "output_type": "stream",
     "text": [
      "Epoch [5/40], Iter [16/145] Loss: 4.0226\n",
      "Epoch [5/40], Iter [17/145] Loss: 3.9620\n",
      "Epoch [5/40], Iter [18/145] Loss: 3.9608\n"
     ]
    },
    {
     "name": "stderr",
     "output_type": "stream",
     "text": [
      " 10%|█         | 4/40 [00:47<06:54, 11.52s/it]"
     ]
    },
    {
     "name": "stdout",
     "output_type": "stream",
     "text": [
      "Epoch [5/40], Iter [19/145] Loss: 3.6889\n",
      "Epoch [5/40], Iter [20/145] Loss: 3.9672\n",
      "Epoch [5/40], Iter [21/145] Loss: 3.8006\n"
     ]
    },
    {
     "name": "stderr",
     "output_type": "stream",
     "text": [
      " 10%|█         | 4/40 [00:47<06:54, 11.52s/it]"
     ]
    },
    {
     "name": "stdout",
     "output_type": "stream",
     "text": [
      "Epoch [5/40], Iter [22/145] Loss: 4.1092\n",
      "Epoch [5/40], Iter [23/145] Loss: 3.9583\n",
      "Epoch [5/40], Iter [24/145] Loss: 3.6923\n"
     ]
    },
    {
     "name": "stderr",
     "output_type": "stream",
     "text": [
      " 10%|█         | 4/40 [00:48<06:54, 11.52s/it]"
     ]
    },
    {
     "name": "stdout",
     "output_type": "stream",
     "text": [
      "Epoch [5/40], Iter [25/145] Loss: 3.8896\n",
      "Epoch [5/40], Iter [26/145] Loss: 3.9435\n",
      "Epoch [5/40], Iter [27/145] Loss: 3.7954\n"
     ]
    },
    {
     "name": "stderr",
     "output_type": "stream",
     "text": [
      " 10%|█         | 4/40 [00:48<06:54, 11.52s/it]"
     ]
    },
    {
     "name": "stdout",
     "output_type": "stream",
     "text": [
      "Epoch [5/40], Iter [28/145] Loss: 3.8436\n",
      "Epoch [5/40], Iter [29/145] Loss: 3.6829\n",
      "Epoch [5/40], Iter [30/145] Loss: 3.8445\n"
     ]
    },
    {
     "name": "stderr",
     "output_type": "stream",
     "text": [
      " 10%|█         | 4/40 [00:48<06:54, 11.52s/it]"
     ]
    },
    {
     "name": "stdout",
     "output_type": "stream",
     "text": [
      "Epoch [5/40], Iter [31/145] Loss: 3.8311\n",
      "Epoch [5/40], Iter [32/145] Loss: 3.9957\n",
      "Epoch [5/40], Iter [33/145] Loss: 3.8716\n"
     ]
    },
    {
     "name": "stderr",
     "output_type": "stream",
     "text": [
      " 10%|█         | 4/40 [00:48<06:54, 11.52s/it]"
     ]
    },
    {
     "name": "stdout",
     "output_type": "stream",
     "text": [
      "Epoch [5/40], Iter [34/145] Loss: 3.8568\n",
      "Epoch [5/40], Iter [35/145] Loss: 4.2020\n",
      "Epoch [5/40], Iter [36/145] Loss: 3.7930\n"
     ]
    },
    {
     "name": "stderr",
     "output_type": "stream",
     "text": [
      " 10%|█         | 4/40 [00:49<06:54, 11.52s/it]"
     ]
    },
    {
     "name": "stdout",
     "output_type": "stream",
     "text": [
      "Epoch [5/40], Iter [37/145] Loss: 3.7594\n",
      "Epoch [5/40], Iter [38/145] Loss: 3.7128\n",
      "Epoch [5/40], Iter [39/145] Loss: 3.8910\n"
     ]
    },
    {
     "name": "stderr",
     "output_type": "stream",
     "text": [
      " 10%|█         | 4/40 [00:49<06:54, 11.52s/it]"
     ]
    },
    {
     "name": "stdout",
     "output_type": "stream",
     "text": [
      "Epoch [5/40], Iter [40/145] Loss: 3.8189\n",
      "Epoch [5/40], Iter [41/145] Loss: 3.4435\n",
      "Epoch [5/40], Iter [42/145] Loss: 4.2510\n"
     ]
    },
    {
     "name": "stderr",
     "output_type": "stream",
     "text": [
      " 10%|█         | 4/40 [00:49<06:54, 11.52s/it]"
     ]
    },
    {
     "name": "stdout",
     "output_type": "stream",
     "text": [
      "Epoch [5/40], Iter [43/145] Loss: 3.5929\n",
      "Epoch [5/40], Iter [44/145] Loss: 3.8180\n",
      "Epoch [5/40], Iter [45/145] Loss: 3.6954\n"
     ]
    },
    {
     "name": "stderr",
     "output_type": "stream",
     "text": [
      " 10%|█         | 4/40 [00:49<06:54, 11.52s/it]"
     ]
    },
    {
     "name": "stdout",
     "output_type": "stream",
     "text": [
      "Epoch [5/40], Iter [46/145] Loss: 3.8275\n",
      "Epoch [5/40], Iter [47/145] Loss: 3.8991\n",
      "Epoch [5/40], Iter [48/145] Loss: 3.8240\n"
     ]
    },
    {
     "name": "stderr",
     "output_type": "stream",
     "text": [
      " 10%|█         | 4/40 [00:50<06:54, 11.52s/it]"
     ]
    },
    {
     "name": "stdout",
     "output_type": "stream",
     "text": [
      "Epoch [5/40], Iter [49/145] Loss: 3.7891\n",
      "Epoch [5/40], Iter [50/145] Loss: 3.6125\n",
      "Epoch [5/40], Iter [51/145] Loss: 3.8325\n"
     ]
    },
    {
     "name": "stderr",
     "output_type": "stream",
     "text": [
      " 10%|█         | 4/40 [00:50<06:54, 11.52s/it]"
     ]
    },
    {
     "name": "stdout",
     "output_type": "stream",
     "text": [
      "Epoch [5/40], Iter [52/145] Loss: 4.1198\n",
      "Epoch [5/40], Iter [53/145] Loss: 3.8447\n",
      "Epoch [5/40], Iter [54/145] Loss: 3.8472\n"
     ]
    },
    {
     "name": "stderr",
     "output_type": "stream",
     "text": [
      " 10%|█         | 4/40 [00:50<06:54, 11.52s/it]"
     ]
    },
    {
     "name": "stdout",
     "output_type": "stream",
     "text": [
      "Epoch [5/40], Iter [55/145] Loss: 3.8145\n",
      "Epoch [5/40], Iter [56/145] Loss: 4.1437\n",
      "Epoch [5/40], Iter [57/145] Loss: 3.7243\n"
     ]
    },
    {
     "name": "stderr",
     "output_type": "stream",
     "text": [
      " 10%|█         | 4/40 [00:50<06:54, 11.52s/it]"
     ]
    },
    {
     "name": "stdout",
     "output_type": "stream",
     "text": [
      "Epoch [5/40], Iter [58/145] Loss: 3.8507\n",
      "Epoch [5/40], Iter [59/145] Loss: 3.6471\n",
      "Epoch [5/40], Iter [60/145] Loss: 4.0803\n"
     ]
    },
    {
     "name": "stderr",
     "output_type": "stream",
     "text": [
      " 10%|█         | 4/40 [00:51<06:54, 11.52s/it]"
     ]
    }
   ],
   "source": [
    "model = Model(66)\n",
    "model.to(device)\n",
    "all_classes = np.arange(66)\n",
    "\n",
    "train_set = genomics_data(train=True,classes=all_classes)\n",
    "train_loader = torch.utils.data.DataLoader(train_set, batch_size=48,\n",
    "\t\t\t\t\t\t\t\t\t\t\t\t\tshuffle=True, num_workers=8)\n",
    "\n",
    "test_set = genomics_data(train=False,classes=all_classes)\n",
    "\n",
    "test_loader = torch.utils.data.DataLoader(test_set, batch_size=48,\n",
    "                                            shuffle=False, num_workers=8)\n",
    "\n",
    "\n",
    "model.update(train_set, all_classes)"
   ]
  }
 ],
 "metadata": {
  "interpreter": {
   "hash": "3b5a79dab83a4831680fa621fc6936c7fff2d268d3679ee259110d3832e3964b"
  },
  "kernelspec": {
   "display_name": "Python 3.9.12 ('torch')",
   "language": "python",
   "name": "python3"
  },
  "language_info": {
   "codemirror_mode": {
    "name": "ipython",
    "version": 3
   },
   "file_extension": ".py",
   "mimetype": "text/x-python",
   "name": "python",
   "nbconvert_exporter": "python",
   "pygments_lexer": "ipython3",
   "version": "3.9.12"
  },
  "orig_nbformat": 4
 },
 "nbformat": 4,
 "nbformat_minor": 2
}
